{
 "cells": [
  {
   "metadata": {
    "ExecuteTime": {
     "end_time": "2024-11-18T03:58:08.162596Z",
     "start_time": "2024-11-18T03:58:08.067757Z"
    }
   },
   "cell_type": "code",
   "source": [
    "from functools import partial\n",
    "import pandas as pd\n",
    "import numpy as np\n",
    "import seaborn as sns\n",
    "import statsmodels.api as sm\n",
    "import matplotlib.pyplot as plt\n",
    "import polars as pl\n",
    "from sqlalchemy.sql.functions import coalesce\n",
    "\n",
    "import Helper_Functions_Portfolio as hf\n",
    "from cmds.portfolio_management_helper import calc_summary_statistics\n",
    "\n",
    "import hvplot.polars\n",
    "\n",
    "\n",
    "import warnings\n",
    "warnings.filterwarnings(\"ignore\")"
   ],
   "id": "3fa22e2ac0f79d99",
   "outputs": [
    {
     "data": {
      "text/html": [
       "<script type=\"esms-options\">{\"shimMode\": true}</script><style>*[data-root-id],\n",
       "*[data-root-id] > * {\n",
       "  box-sizing: border-box;\n",
       "  font-family: var(--jp-ui-font-family);\n",
       "  font-size: var(--jp-ui-font-size1);\n",
       "  color: var(--vscode-editor-foreground, var(--jp-ui-font-color1));\n",
       "}\n",
       "\n",
       "/* Override VSCode background color */\n",
       ".cell-output-ipywidget-background:has(\n",
       "    > .cell-output-ipywidget-background > .lm-Widget > *[data-root-id]\n",
       "  ),\n",
       ".cell-output-ipywidget-background:has(> .lm-Widget > *[data-root-id]) {\n",
       "  background-color: transparent !important;\n",
       "}\n",
       "</style>"
      ]
     },
     "metadata": {},
     "output_type": "display_data"
    },
    {
     "data": {
      "application/javascript": "(function(root) {\n  function now() {\n    return new Date();\n  }\n\n  const force = true;\n  const py_version = '3.6.0'.replace('rc', '-rc.').replace('.dev', '-dev.');\n  const reloading = false;\n  const Bokeh = root.Bokeh;\n\n  // Set a timeout for this load but only if we are not already initializing\n  if (typeof (root._bokeh_timeout) === \"undefined\" || (force || !root._bokeh_is_initializing)) {\n    root._bokeh_timeout = Date.now() + 5000;\n    root._bokeh_failed_load = false;\n  }\n\n  function run_callbacks() {\n    try {\n      root._bokeh_onload_callbacks.forEach(function(callback) {\n        if (callback != null)\n          callback();\n      });\n    } finally {\n      delete root._bokeh_onload_callbacks;\n    }\n    console.debug(\"Bokeh: all callbacks have finished\");\n  }\n\n  function load_libs(css_urls, js_urls, js_modules, js_exports, callback) {\n    if (css_urls == null) css_urls = [];\n    if (js_urls == null) js_urls = [];\n    if (js_modules == null) js_modules = [];\n    if (js_exports == null) js_exports = {};\n\n    root._bokeh_onload_callbacks.push(callback);\n\n    if (root._bokeh_is_loading > 0) {\n      // Don't load bokeh if it is still initializing\n      console.debug(\"Bokeh: BokehJS is being loaded, scheduling callback at\", now());\n      return null;\n    } else if (js_urls.length === 0 && js_modules.length === 0 && Object.keys(js_exports).length === 0) {\n      // There is nothing to load\n      run_callbacks();\n      return null;\n    }\n\n    function on_load() {\n      root._bokeh_is_loading--;\n      if (root._bokeh_is_loading === 0) {\n        console.debug(\"Bokeh: all BokehJS libraries/stylesheets loaded\");\n        run_callbacks()\n      }\n    }\n    window._bokeh_on_load = on_load\n\n    function on_error(e) {\n      const src_el = e.srcElement\n      console.error(\"failed to load \" + (src_el.href || src_el.src));\n    }\n\n    const skip = [];\n    if (window.requirejs) {\n      window.requirejs.config({'packages': {}, 'paths': {}, 'shim': {}});\n      root._bokeh_is_loading = css_urls.length + 0;\n    } else {\n      root._bokeh_is_loading = css_urls.length + js_urls.length + js_modules.length + Object.keys(js_exports).length;\n    }\n\n    const existing_stylesheets = []\n    const links = document.getElementsByTagName('link')\n    for (let i = 0; i < links.length; i++) {\n      const link = links[i]\n      if (link.href != null) {\n        existing_stylesheets.push(link.href)\n      }\n    }\n    for (let i = 0; i < css_urls.length; i++) {\n      const url = css_urls[i];\n      const escaped = encodeURI(url)\n      if (existing_stylesheets.indexOf(escaped) !== -1) {\n        on_load()\n        continue;\n      }\n      const element = document.createElement(\"link\");\n      element.onload = on_load;\n      element.onerror = on_error;\n      element.rel = \"stylesheet\";\n      element.type = \"text/css\";\n      element.href = url;\n      console.debug(\"Bokeh: injecting link tag for BokehJS stylesheet: \", url);\n      document.body.appendChild(element);\n    }    var existing_scripts = []\n    const scripts = document.getElementsByTagName('script')\n    for (let i = 0; i < scripts.length; i++) {\n      var script = scripts[i]\n      if (script.src != null) {\n        existing_scripts.push(script.src)\n      }\n    }\n    for (let i = 0; i < js_urls.length; i++) {\n      const url = js_urls[i];\n      const escaped = encodeURI(url)\n      if (skip.indexOf(escaped) !== -1 || existing_scripts.indexOf(escaped) !== -1) {\n        if (!window.requirejs) {\n          on_load();\n        }\n        continue;\n      }\n      const element = document.createElement('script');\n      element.onload = on_load;\n      element.onerror = on_error;\n      element.async = false;\n      element.src = url;\n      console.debug(\"Bokeh: injecting script tag for BokehJS library: \", url);\n      document.head.appendChild(element);\n    }\n    for (let i = 0; i < js_modules.length; i++) {\n      const url = js_modules[i];\n      const escaped = encodeURI(url)\n      if (skip.indexOf(escaped) !== -1 || existing_scripts.indexOf(escaped) !== -1) {\n        if (!window.requirejs) {\n          on_load();\n        }\n        continue;\n      }\n      var element = document.createElement('script');\n      element.onload = on_load;\n      element.onerror = on_error;\n      element.async = false;\n      element.src = url;\n      element.type = \"module\";\n      console.debug(\"Bokeh: injecting script tag for BokehJS library: \", url);\n      document.head.appendChild(element);\n    }\n    for (const name in js_exports) {\n      const url = js_exports[name];\n      const escaped = encodeURI(url)\n      if (skip.indexOf(escaped) >= 0 || root[name] != null) {\n        if (!window.requirejs) {\n          on_load();\n        }\n        continue;\n      }\n      var element = document.createElement('script');\n      element.onerror = on_error;\n      element.async = false;\n      element.type = \"module\";\n      console.debug(\"Bokeh: injecting script tag for BokehJS library: \", url);\n      element.textContent = `\n      import ${name} from \"${url}\"\n      window.${name} = ${name}\n      window._bokeh_on_load()\n      `\n      document.head.appendChild(element);\n    }\n    if (!js_urls.length && !js_modules.length) {\n      on_load()\n    }\n  };\n\n  function inject_raw_css(css) {\n    const element = document.createElement(\"style\");\n    element.appendChild(document.createTextNode(css));\n    document.body.appendChild(element);\n  }\n\n  const js_urls = [\"https://cdn.holoviz.org/panel/1.5.2/dist/bundled/reactiveesm/es-module-shims@^1.10.0/dist/es-module-shims.min.js\", \"https://cdn.bokeh.org/bokeh/release/bokeh-3.6.0.min.js\", \"https://cdn.bokeh.org/bokeh/release/bokeh-gl-3.6.0.min.js\", \"https://cdn.bokeh.org/bokeh/release/bokeh-widgets-3.6.0.min.js\", \"https://cdn.bokeh.org/bokeh/release/bokeh-tables-3.6.0.min.js\", \"https://cdn.holoviz.org/panel/1.5.2/dist/panel.min.js\"];\n  const js_modules = [];\n  const js_exports = {};\n  const css_urls = [];\n  const inline_js = [    function(Bokeh) {\n      Bokeh.set_log_level(\"info\");\n    },\nfunction(Bokeh) {} // ensure no trailing comma for IE\n  ];\n\n  function run_inline_js() {\n    if ((root.Bokeh !== undefined) || (force === true)) {\n      for (let i = 0; i < inline_js.length; i++) {\n        try {\n          inline_js[i].call(root, root.Bokeh);\n        } catch(e) {\n          if (!reloading) {\n            throw e;\n          }\n        }\n      }\n      // Cache old bokeh versions\n      if (Bokeh != undefined && !reloading) {\n        var NewBokeh = root.Bokeh;\n        if (Bokeh.versions === undefined) {\n          Bokeh.versions = new Map();\n        }\n        if (NewBokeh.version !== Bokeh.version) {\n          Bokeh.versions.set(NewBokeh.version, NewBokeh)\n        }\n        root.Bokeh = Bokeh;\n      }\n    } else if (Date.now() < root._bokeh_timeout) {\n      setTimeout(run_inline_js, 100);\n    } else if (!root._bokeh_failed_load) {\n      console.log(\"Bokeh: BokehJS failed to load within specified timeout.\");\n      root._bokeh_failed_load = true;\n    }\n    root._bokeh_is_initializing = false\n  }\n\n  function load_or_wait() {\n    // Implement a backoff loop that tries to ensure we do not load multiple\n    // versions of Bokeh and its dependencies at the same time.\n    // In recent versions we use the root._bokeh_is_initializing flag\n    // to determine whether there is an ongoing attempt to initialize\n    // bokeh, however for backward compatibility we also try to ensure\n    // that we do not start loading a newer (Panel>=1.0 and Bokeh>3) version\n    // before older versions are fully initialized.\n    if (root._bokeh_is_initializing && Date.now() > root._bokeh_timeout) {\n      // If the timeout and bokeh was not successfully loaded we reset\n      // everything and try loading again\n      root._bokeh_timeout = Date.now() + 5000;\n      root._bokeh_is_initializing = false;\n      root._bokeh_onload_callbacks = undefined;\n      root._bokeh_is_loading = 0\n      console.log(\"Bokeh: BokehJS was loaded multiple times but one version failed to initialize.\");\n      load_or_wait();\n    } else if (root._bokeh_is_initializing || (typeof root._bokeh_is_initializing === \"undefined\" && root._bokeh_onload_callbacks !== undefined)) {\n      setTimeout(load_or_wait, 100);\n    } else {\n      root._bokeh_is_initializing = true\n      root._bokeh_onload_callbacks = []\n      const bokeh_loaded = root.Bokeh != null && (root.Bokeh.version === py_version || (root.Bokeh.versions !== undefined && root.Bokeh.versions.has(py_version)));\n      if (!reloading && !bokeh_loaded) {\n        if (root.Bokeh) {\n          root.Bokeh = undefined;\n        }\n        console.debug(\"Bokeh: BokehJS not loaded, scheduling load and callback at\", now());\n      }\n      load_libs(css_urls, js_urls, js_modules, js_exports, function() {\n        console.debug(\"Bokeh: BokehJS plotting callback run at\", now());\n        run_inline_js();\n      });\n    }\n  }\n  // Give older versions of the autoload script a head-start to ensure\n  // they initialize before we start loading newer version.\n  setTimeout(load_or_wait, 100)\n}(window));",
      "application/vnd.holoviews_load.v0+json": "(function(root) {\n  function now() {\n    return new Date();\n  }\n\n  const force = true;\n  const py_version = '3.6.0'.replace('rc', '-rc.').replace('.dev', '-dev.');\n  const reloading = false;\n  const Bokeh = root.Bokeh;\n\n  // Set a timeout for this load but only if we are not already initializing\n  if (typeof (root._bokeh_timeout) === \"undefined\" || (force || !root._bokeh_is_initializing)) {\n    root._bokeh_timeout = Date.now() + 5000;\n    root._bokeh_failed_load = false;\n  }\n\n  function run_callbacks() {\n    try {\n      root._bokeh_onload_callbacks.forEach(function(callback) {\n        if (callback != null)\n          callback();\n      });\n    } finally {\n      delete root._bokeh_onload_callbacks;\n    }\n    console.debug(\"Bokeh: all callbacks have finished\");\n  }\n\n  function load_libs(css_urls, js_urls, js_modules, js_exports, callback) {\n    if (css_urls == null) css_urls = [];\n    if (js_urls == null) js_urls = [];\n    if (js_modules == null) js_modules = [];\n    if (js_exports == null) js_exports = {};\n\n    root._bokeh_onload_callbacks.push(callback);\n\n    if (root._bokeh_is_loading > 0) {\n      // Don't load bokeh if it is still initializing\n      console.debug(\"Bokeh: BokehJS is being loaded, scheduling callback at\", now());\n      return null;\n    } else if (js_urls.length === 0 && js_modules.length === 0 && Object.keys(js_exports).length === 0) {\n      // There is nothing to load\n      run_callbacks();\n      return null;\n    }\n\n    function on_load() {\n      root._bokeh_is_loading--;\n      if (root._bokeh_is_loading === 0) {\n        console.debug(\"Bokeh: all BokehJS libraries/stylesheets loaded\");\n        run_callbacks()\n      }\n    }\n    window._bokeh_on_load = on_load\n\n    function on_error(e) {\n      const src_el = e.srcElement\n      console.error(\"failed to load \" + (src_el.href || src_el.src));\n    }\n\n    const skip = [];\n    if (window.requirejs) {\n      window.requirejs.config({'packages': {}, 'paths': {}, 'shim': {}});\n      root._bokeh_is_loading = css_urls.length + 0;\n    } else {\n      root._bokeh_is_loading = css_urls.length + js_urls.length + js_modules.length + Object.keys(js_exports).length;\n    }\n\n    const existing_stylesheets = []\n    const links = document.getElementsByTagName('link')\n    for (let i = 0; i < links.length; i++) {\n      const link = links[i]\n      if (link.href != null) {\n        existing_stylesheets.push(link.href)\n      }\n    }\n    for (let i = 0; i < css_urls.length; i++) {\n      const url = css_urls[i];\n      const escaped = encodeURI(url)\n      if (existing_stylesheets.indexOf(escaped) !== -1) {\n        on_load()\n        continue;\n      }\n      const element = document.createElement(\"link\");\n      element.onload = on_load;\n      element.onerror = on_error;\n      element.rel = \"stylesheet\";\n      element.type = \"text/css\";\n      element.href = url;\n      console.debug(\"Bokeh: injecting link tag for BokehJS stylesheet: \", url);\n      document.body.appendChild(element);\n    }    var existing_scripts = []\n    const scripts = document.getElementsByTagName('script')\n    for (let i = 0; i < scripts.length; i++) {\n      var script = scripts[i]\n      if (script.src != null) {\n        existing_scripts.push(script.src)\n      }\n    }\n    for (let i = 0; i < js_urls.length; i++) {\n      const url = js_urls[i];\n      const escaped = encodeURI(url)\n      if (skip.indexOf(escaped) !== -1 || existing_scripts.indexOf(escaped) !== -1) {\n        if (!window.requirejs) {\n          on_load();\n        }\n        continue;\n      }\n      const element = document.createElement('script');\n      element.onload = on_load;\n      element.onerror = on_error;\n      element.async = false;\n      element.src = url;\n      console.debug(\"Bokeh: injecting script tag for BokehJS library: \", url);\n      document.head.appendChild(element);\n    }\n    for (let i = 0; i < js_modules.length; i++) {\n      const url = js_modules[i];\n      const escaped = encodeURI(url)\n      if (skip.indexOf(escaped) !== -1 || existing_scripts.indexOf(escaped) !== -1) {\n        if (!window.requirejs) {\n          on_load();\n        }\n        continue;\n      }\n      var element = document.createElement('script');\n      element.onload = on_load;\n      element.onerror = on_error;\n      element.async = false;\n      element.src = url;\n      element.type = \"module\";\n      console.debug(\"Bokeh: injecting script tag for BokehJS library: \", url);\n      document.head.appendChild(element);\n    }\n    for (const name in js_exports) {\n      const url = js_exports[name];\n      const escaped = encodeURI(url)\n      if (skip.indexOf(escaped) >= 0 || root[name] != null) {\n        if (!window.requirejs) {\n          on_load();\n        }\n        continue;\n      }\n      var element = document.createElement('script');\n      element.onerror = on_error;\n      element.async = false;\n      element.type = \"module\";\n      console.debug(\"Bokeh: injecting script tag for BokehJS library: \", url);\n      element.textContent = `\n      import ${name} from \"${url}\"\n      window.${name} = ${name}\n      window._bokeh_on_load()\n      `\n      document.head.appendChild(element);\n    }\n    if (!js_urls.length && !js_modules.length) {\n      on_load()\n    }\n  };\n\n  function inject_raw_css(css) {\n    const element = document.createElement(\"style\");\n    element.appendChild(document.createTextNode(css));\n    document.body.appendChild(element);\n  }\n\n  const js_urls = [\"https://cdn.holoviz.org/panel/1.5.2/dist/bundled/reactiveesm/es-module-shims@^1.10.0/dist/es-module-shims.min.js\", \"https://cdn.bokeh.org/bokeh/release/bokeh-3.6.0.min.js\", \"https://cdn.bokeh.org/bokeh/release/bokeh-gl-3.6.0.min.js\", \"https://cdn.bokeh.org/bokeh/release/bokeh-widgets-3.6.0.min.js\", \"https://cdn.bokeh.org/bokeh/release/bokeh-tables-3.6.0.min.js\", \"https://cdn.holoviz.org/panel/1.5.2/dist/panel.min.js\"];\n  const js_modules = [];\n  const js_exports = {};\n  const css_urls = [];\n  const inline_js = [    function(Bokeh) {\n      Bokeh.set_log_level(\"info\");\n    },\nfunction(Bokeh) {} // ensure no trailing comma for IE\n  ];\n\n  function run_inline_js() {\n    if ((root.Bokeh !== undefined) || (force === true)) {\n      for (let i = 0; i < inline_js.length; i++) {\n        try {\n          inline_js[i].call(root, root.Bokeh);\n        } catch(e) {\n          if (!reloading) {\n            throw e;\n          }\n        }\n      }\n      // Cache old bokeh versions\n      if (Bokeh != undefined && !reloading) {\n        var NewBokeh = root.Bokeh;\n        if (Bokeh.versions === undefined) {\n          Bokeh.versions = new Map();\n        }\n        if (NewBokeh.version !== Bokeh.version) {\n          Bokeh.versions.set(NewBokeh.version, NewBokeh)\n        }\n        root.Bokeh = Bokeh;\n      }\n    } else if (Date.now() < root._bokeh_timeout) {\n      setTimeout(run_inline_js, 100);\n    } else if (!root._bokeh_failed_load) {\n      console.log(\"Bokeh: BokehJS failed to load within specified timeout.\");\n      root._bokeh_failed_load = true;\n    }\n    root._bokeh_is_initializing = false\n  }\n\n  function load_or_wait() {\n    // Implement a backoff loop that tries to ensure we do not load multiple\n    // versions of Bokeh and its dependencies at the same time.\n    // In recent versions we use the root._bokeh_is_initializing flag\n    // to determine whether there is an ongoing attempt to initialize\n    // bokeh, however for backward compatibility we also try to ensure\n    // that we do not start loading a newer (Panel>=1.0 and Bokeh>3) version\n    // before older versions are fully initialized.\n    if (root._bokeh_is_initializing && Date.now() > root._bokeh_timeout) {\n      // If the timeout and bokeh was not successfully loaded we reset\n      // everything and try loading again\n      root._bokeh_timeout = Date.now() + 5000;\n      root._bokeh_is_initializing = false;\n      root._bokeh_onload_callbacks = undefined;\n      root._bokeh_is_loading = 0\n      console.log(\"Bokeh: BokehJS was loaded multiple times but one version failed to initialize.\");\n      load_or_wait();\n    } else if (root._bokeh_is_initializing || (typeof root._bokeh_is_initializing === \"undefined\" && root._bokeh_onload_callbacks !== undefined)) {\n      setTimeout(load_or_wait, 100);\n    } else {\n      root._bokeh_is_initializing = true\n      root._bokeh_onload_callbacks = []\n      const bokeh_loaded = root.Bokeh != null && (root.Bokeh.version === py_version || (root.Bokeh.versions !== undefined && root.Bokeh.versions.has(py_version)));\n      if (!reloading && !bokeh_loaded) {\n        if (root.Bokeh) {\n          root.Bokeh = undefined;\n        }\n        console.debug(\"Bokeh: BokehJS not loaded, scheduling load and callback at\", now());\n      }\n      load_libs(css_urls, js_urls, js_modules, js_exports, function() {\n        console.debug(\"Bokeh: BokehJS plotting callback run at\", now());\n        run_inline_js();\n      });\n    }\n  }\n  // Give older versions of the autoload script a head-start to ensure\n  // they initialize before we start loading newer version.\n  setTimeout(load_or_wait, 100)\n}(window));"
     },
     "metadata": {},
     "output_type": "display_data"
    },
    {
     "data": {
      "application/vnd.holoviews_load.v0+json": "\nif ((window.PyViz === undefined) || (window.PyViz instanceof HTMLElement)) {\n  window.PyViz = {comms: {}, comm_status:{}, kernels:{}, receivers: {}, plot_index: []}\n}\n\n\n    function JupyterCommManager() {\n    }\n\n    JupyterCommManager.prototype.register_target = function(plot_id, comm_id, msg_handler) {\n      if (window.comm_manager || ((window.Jupyter !== undefined) && (Jupyter.notebook.kernel != null))) {\n        var comm_manager = window.comm_manager || Jupyter.notebook.kernel.comm_manager;\n        comm_manager.register_target(comm_id, function(comm) {\n          comm.on_msg(msg_handler);\n        });\n      } else if ((plot_id in window.PyViz.kernels) && (window.PyViz.kernels[plot_id])) {\n        window.PyViz.kernels[plot_id].registerCommTarget(comm_id, function(comm) {\n          comm.onMsg = msg_handler;\n        });\n      } else if (typeof google != 'undefined' && google.colab.kernel != null) {\n        google.colab.kernel.comms.registerTarget(comm_id, (comm) => {\n          var messages = comm.messages[Symbol.asyncIterator]();\n          function processIteratorResult(result) {\n            var message = result.value;\n            console.log(message)\n            var content = {data: message.data, comm_id};\n            var buffers = []\n            for (var buffer of message.buffers || []) {\n              buffers.push(new DataView(buffer))\n            }\n            var metadata = message.metadata || {};\n            var msg = {content, buffers, metadata}\n            msg_handler(msg);\n            return messages.next().then(processIteratorResult);\n          }\n          return messages.next().then(processIteratorResult);\n        })\n      }\n    }\n\n    JupyterCommManager.prototype.get_client_comm = function(plot_id, comm_id, msg_handler) {\n      if (comm_id in window.PyViz.comms) {\n        return window.PyViz.comms[comm_id];\n      } else if (window.comm_manager || ((window.Jupyter !== undefined) && (Jupyter.notebook.kernel != null))) {\n        var comm_manager = window.comm_manager || Jupyter.notebook.kernel.comm_manager;\n        var comm = comm_manager.new_comm(comm_id, {}, {}, {}, comm_id);\n        if (msg_handler) {\n          comm.on_msg(msg_handler);\n        }\n      } else if ((plot_id in window.PyViz.kernels) && (window.PyViz.kernels[plot_id])) {\n        var comm = window.PyViz.kernels[plot_id].connectToComm(comm_id);\n        comm.open();\n        if (msg_handler) {\n          comm.onMsg = msg_handler;\n        }\n      } else if (typeof google != 'undefined' && google.colab.kernel != null) {\n        var comm_promise = google.colab.kernel.comms.open(comm_id)\n        comm_promise.then((comm) => {\n          window.PyViz.comms[comm_id] = comm;\n          if (msg_handler) {\n            var messages = comm.messages[Symbol.asyncIterator]();\n            function processIteratorResult(result) {\n              var message = result.value;\n              var content = {data: message.data};\n              var metadata = message.metadata || {comm_id};\n              var msg = {content, metadata}\n              msg_handler(msg);\n              return messages.next().then(processIteratorResult);\n            }\n            return messages.next().then(processIteratorResult);\n          }\n        }) \n        var sendClosure = (data, metadata, buffers, disposeOnDone) => {\n          return comm_promise.then((comm) => {\n            comm.send(data, metadata, buffers, disposeOnDone);\n          });\n        };\n        var comm = {\n          send: sendClosure\n        };\n      }\n      window.PyViz.comms[comm_id] = comm;\n      return comm;\n    }\n    window.PyViz.comm_manager = new JupyterCommManager();\n    \n\n\nvar JS_MIME_TYPE = 'application/javascript';\nvar HTML_MIME_TYPE = 'text/html';\nvar EXEC_MIME_TYPE = 'application/vnd.holoviews_exec.v0+json';\nvar CLASS_NAME = 'output';\n\n/**\n * Render data to the DOM node\n */\nfunction render(props, node) {\n  var div = document.createElement(\"div\");\n  var script = document.createElement(\"script\");\n  node.appendChild(div);\n  node.appendChild(script);\n}\n\n/**\n * Handle when a new output is added\n */\nfunction handle_add_output(event, handle) {\n  var output_area = handle.output_area;\n  var output = handle.output;\n  if ((output.data == undefined) || (!output.data.hasOwnProperty(EXEC_MIME_TYPE))) {\n    return\n  }\n  var id = output.metadata[EXEC_MIME_TYPE][\"id\"];\n  var toinsert = output_area.element.find(\".\" + CLASS_NAME.split(' ')[0]);\n  if (id !== undefined) {\n    var nchildren = toinsert.length;\n    var html_node = toinsert[nchildren-1].children[0];\n    html_node.innerHTML = output.data[HTML_MIME_TYPE];\n    var scripts = [];\n    var nodelist = html_node.querySelectorAll(\"script\");\n    for (var i in nodelist) {\n      if (nodelist.hasOwnProperty(i)) {\n        scripts.push(nodelist[i])\n      }\n    }\n\n    scripts.forEach( function (oldScript) {\n      var newScript = document.createElement(\"script\");\n      var attrs = [];\n      var nodemap = oldScript.attributes;\n      for (var j in nodemap) {\n        if (nodemap.hasOwnProperty(j)) {\n          attrs.push(nodemap[j])\n        }\n      }\n      attrs.forEach(function(attr) { newScript.setAttribute(attr.name, attr.value) });\n      newScript.appendChild(document.createTextNode(oldScript.innerHTML));\n      oldScript.parentNode.replaceChild(newScript, oldScript);\n    });\n    if (JS_MIME_TYPE in output.data) {\n      toinsert[nchildren-1].children[1].textContent = output.data[JS_MIME_TYPE];\n    }\n    output_area._hv_plot_id = id;\n    if ((window.Bokeh !== undefined) && (id in Bokeh.index)) {\n      window.PyViz.plot_index[id] = Bokeh.index[id];\n    } else {\n      window.PyViz.plot_index[id] = null;\n    }\n  } else if (output.metadata[EXEC_MIME_TYPE][\"server_id\"] !== undefined) {\n    var bk_div = document.createElement(\"div\");\n    bk_div.innerHTML = output.data[HTML_MIME_TYPE];\n    var script_attrs = bk_div.children[0].attributes;\n    for (var i = 0; i < script_attrs.length; i++) {\n      toinsert[toinsert.length - 1].childNodes[1].setAttribute(script_attrs[i].name, script_attrs[i].value);\n    }\n    // store reference to server id on output_area\n    output_area._bokeh_server_id = output.metadata[EXEC_MIME_TYPE][\"server_id\"];\n  }\n}\n\n/**\n * Handle when an output is cleared or removed\n */\nfunction handle_clear_output(event, handle) {\n  var id = handle.cell.output_area._hv_plot_id;\n  var server_id = handle.cell.output_area._bokeh_server_id;\n  if (((id === undefined) || !(id in PyViz.plot_index)) && (server_id !== undefined)) { return; }\n  var comm = window.PyViz.comm_manager.get_client_comm(\"hv-extension-comm\", \"hv-extension-comm\", function () {});\n  if (server_id !== null) {\n    comm.send({event_type: 'server_delete', 'id': server_id});\n    return;\n  } else if (comm !== null) {\n    comm.send({event_type: 'delete', 'id': id});\n  }\n  delete PyViz.plot_index[id];\n  if ((window.Bokeh !== undefined) & (id in window.Bokeh.index)) {\n    var doc = window.Bokeh.index[id].model.document\n    doc.clear();\n    const i = window.Bokeh.documents.indexOf(doc);\n    if (i > -1) {\n      window.Bokeh.documents.splice(i, 1);\n    }\n  }\n}\n\n/**\n * Handle kernel restart event\n */\nfunction handle_kernel_cleanup(event, handle) {\n  delete PyViz.comms[\"hv-extension-comm\"];\n  window.PyViz.plot_index = {}\n}\n\n/**\n * Handle update_display_data messages\n */\nfunction handle_update_output(event, handle) {\n  handle_clear_output(event, {cell: {output_area: handle.output_area}})\n  handle_add_output(event, handle)\n}\n\nfunction register_renderer(events, OutputArea) {\n  function append_mime(data, metadata, element) {\n    // create a DOM node to render to\n    var toinsert = this.create_output_subarea(\n    metadata,\n    CLASS_NAME,\n    EXEC_MIME_TYPE\n    );\n    this.keyboard_manager.register_events(toinsert);\n    // Render to node\n    var props = {data: data, metadata: metadata[EXEC_MIME_TYPE]};\n    render(props, toinsert[0]);\n    element.append(toinsert);\n    return toinsert\n  }\n\n  events.on('output_added.OutputArea', handle_add_output);\n  events.on('output_updated.OutputArea', handle_update_output);\n  events.on('clear_output.CodeCell', handle_clear_output);\n  events.on('delete.Cell', handle_clear_output);\n  events.on('kernel_ready.Kernel', handle_kernel_cleanup);\n\n  OutputArea.prototype.register_mime_type(EXEC_MIME_TYPE, append_mime, {\n    safe: true,\n    index: 0\n  });\n}\n\nif (window.Jupyter !== undefined) {\n  try {\n    var events = require('base/js/events');\n    var OutputArea = require('notebook/js/outputarea').OutputArea;\n    if (OutputArea.prototype.mime_types().indexOf(EXEC_MIME_TYPE) == -1) {\n      register_renderer(events, OutputArea);\n    }\n  } catch(err) {\n  }\n}\n",
      "application/javascript": "\nif ((window.PyViz === undefined) || (window.PyViz instanceof HTMLElement)) {\n  window.PyViz = {comms: {}, comm_status:{}, kernels:{}, receivers: {}, plot_index: []}\n}\n\n\n    function JupyterCommManager() {\n    }\n\n    JupyterCommManager.prototype.register_target = function(plot_id, comm_id, msg_handler) {\n      if (window.comm_manager || ((window.Jupyter !== undefined) && (Jupyter.notebook.kernel != null))) {\n        var comm_manager = window.comm_manager || Jupyter.notebook.kernel.comm_manager;\n        comm_manager.register_target(comm_id, function(comm) {\n          comm.on_msg(msg_handler);\n        });\n      } else if ((plot_id in window.PyViz.kernels) && (window.PyViz.kernels[plot_id])) {\n        window.PyViz.kernels[plot_id].registerCommTarget(comm_id, function(comm) {\n          comm.onMsg = msg_handler;\n        });\n      } else if (typeof google != 'undefined' && google.colab.kernel != null) {\n        google.colab.kernel.comms.registerTarget(comm_id, (comm) => {\n          var messages = comm.messages[Symbol.asyncIterator]();\n          function processIteratorResult(result) {\n            var message = result.value;\n            console.log(message)\n            var content = {data: message.data, comm_id};\n            var buffers = []\n            for (var buffer of message.buffers || []) {\n              buffers.push(new DataView(buffer))\n            }\n            var metadata = message.metadata || {};\n            var msg = {content, buffers, metadata}\n            msg_handler(msg);\n            return messages.next().then(processIteratorResult);\n          }\n          return messages.next().then(processIteratorResult);\n        })\n      }\n    }\n\n    JupyterCommManager.prototype.get_client_comm = function(plot_id, comm_id, msg_handler) {\n      if (comm_id in window.PyViz.comms) {\n        return window.PyViz.comms[comm_id];\n      } else if (window.comm_manager || ((window.Jupyter !== undefined) && (Jupyter.notebook.kernel != null))) {\n        var comm_manager = window.comm_manager || Jupyter.notebook.kernel.comm_manager;\n        var comm = comm_manager.new_comm(comm_id, {}, {}, {}, comm_id);\n        if (msg_handler) {\n          comm.on_msg(msg_handler);\n        }\n      } else if ((plot_id in window.PyViz.kernels) && (window.PyViz.kernels[plot_id])) {\n        var comm = window.PyViz.kernels[plot_id].connectToComm(comm_id);\n        comm.open();\n        if (msg_handler) {\n          comm.onMsg = msg_handler;\n        }\n      } else if (typeof google != 'undefined' && google.colab.kernel != null) {\n        var comm_promise = google.colab.kernel.comms.open(comm_id)\n        comm_promise.then((comm) => {\n          window.PyViz.comms[comm_id] = comm;\n          if (msg_handler) {\n            var messages = comm.messages[Symbol.asyncIterator]();\n            function processIteratorResult(result) {\n              var message = result.value;\n              var content = {data: message.data};\n              var metadata = message.metadata || {comm_id};\n              var msg = {content, metadata}\n              msg_handler(msg);\n              return messages.next().then(processIteratorResult);\n            }\n            return messages.next().then(processIteratorResult);\n          }\n        }) \n        var sendClosure = (data, metadata, buffers, disposeOnDone) => {\n          return comm_promise.then((comm) => {\n            comm.send(data, metadata, buffers, disposeOnDone);\n          });\n        };\n        var comm = {\n          send: sendClosure\n        };\n      }\n      window.PyViz.comms[comm_id] = comm;\n      return comm;\n    }\n    window.PyViz.comm_manager = new JupyterCommManager();\n    \n\n\nvar JS_MIME_TYPE = 'application/javascript';\nvar HTML_MIME_TYPE = 'text/html';\nvar EXEC_MIME_TYPE = 'application/vnd.holoviews_exec.v0+json';\nvar CLASS_NAME = 'output';\n\n/**\n * Render data to the DOM node\n */\nfunction render(props, node) {\n  var div = document.createElement(\"div\");\n  var script = document.createElement(\"script\");\n  node.appendChild(div);\n  node.appendChild(script);\n}\n\n/**\n * Handle when a new output is added\n */\nfunction handle_add_output(event, handle) {\n  var output_area = handle.output_area;\n  var output = handle.output;\n  if ((output.data == undefined) || (!output.data.hasOwnProperty(EXEC_MIME_TYPE))) {\n    return\n  }\n  var id = output.metadata[EXEC_MIME_TYPE][\"id\"];\n  var toinsert = output_area.element.find(\".\" + CLASS_NAME.split(' ')[0]);\n  if (id !== undefined) {\n    var nchildren = toinsert.length;\n    var html_node = toinsert[nchildren-1].children[0];\n    html_node.innerHTML = output.data[HTML_MIME_TYPE];\n    var scripts = [];\n    var nodelist = html_node.querySelectorAll(\"script\");\n    for (var i in nodelist) {\n      if (nodelist.hasOwnProperty(i)) {\n        scripts.push(nodelist[i])\n      }\n    }\n\n    scripts.forEach( function (oldScript) {\n      var newScript = document.createElement(\"script\");\n      var attrs = [];\n      var nodemap = oldScript.attributes;\n      for (var j in nodemap) {\n        if (nodemap.hasOwnProperty(j)) {\n          attrs.push(nodemap[j])\n        }\n      }\n      attrs.forEach(function(attr) { newScript.setAttribute(attr.name, attr.value) });\n      newScript.appendChild(document.createTextNode(oldScript.innerHTML));\n      oldScript.parentNode.replaceChild(newScript, oldScript);\n    });\n    if (JS_MIME_TYPE in output.data) {\n      toinsert[nchildren-1].children[1].textContent = output.data[JS_MIME_TYPE];\n    }\n    output_area._hv_plot_id = id;\n    if ((window.Bokeh !== undefined) && (id in Bokeh.index)) {\n      window.PyViz.plot_index[id] = Bokeh.index[id];\n    } else {\n      window.PyViz.plot_index[id] = null;\n    }\n  } else if (output.metadata[EXEC_MIME_TYPE][\"server_id\"] !== undefined) {\n    var bk_div = document.createElement(\"div\");\n    bk_div.innerHTML = output.data[HTML_MIME_TYPE];\n    var script_attrs = bk_div.children[0].attributes;\n    for (var i = 0; i < script_attrs.length; i++) {\n      toinsert[toinsert.length - 1].childNodes[1].setAttribute(script_attrs[i].name, script_attrs[i].value);\n    }\n    // store reference to server id on output_area\n    output_area._bokeh_server_id = output.metadata[EXEC_MIME_TYPE][\"server_id\"];\n  }\n}\n\n/**\n * Handle when an output is cleared or removed\n */\nfunction handle_clear_output(event, handle) {\n  var id = handle.cell.output_area._hv_plot_id;\n  var server_id = handle.cell.output_area._bokeh_server_id;\n  if (((id === undefined) || !(id in PyViz.plot_index)) && (server_id !== undefined)) { return; }\n  var comm = window.PyViz.comm_manager.get_client_comm(\"hv-extension-comm\", \"hv-extension-comm\", function () {});\n  if (server_id !== null) {\n    comm.send({event_type: 'server_delete', 'id': server_id});\n    return;\n  } else if (comm !== null) {\n    comm.send({event_type: 'delete', 'id': id});\n  }\n  delete PyViz.plot_index[id];\n  if ((window.Bokeh !== undefined) & (id in window.Bokeh.index)) {\n    var doc = window.Bokeh.index[id].model.document\n    doc.clear();\n    const i = window.Bokeh.documents.indexOf(doc);\n    if (i > -1) {\n      window.Bokeh.documents.splice(i, 1);\n    }\n  }\n}\n\n/**\n * Handle kernel restart event\n */\nfunction handle_kernel_cleanup(event, handle) {\n  delete PyViz.comms[\"hv-extension-comm\"];\n  window.PyViz.plot_index = {}\n}\n\n/**\n * Handle update_display_data messages\n */\nfunction handle_update_output(event, handle) {\n  handle_clear_output(event, {cell: {output_area: handle.output_area}})\n  handle_add_output(event, handle)\n}\n\nfunction register_renderer(events, OutputArea) {\n  function append_mime(data, metadata, element) {\n    // create a DOM node to render to\n    var toinsert = this.create_output_subarea(\n    metadata,\n    CLASS_NAME,\n    EXEC_MIME_TYPE\n    );\n    this.keyboard_manager.register_events(toinsert);\n    // Render to node\n    var props = {data: data, metadata: metadata[EXEC_MIME_TYPE]};\n    render(props, toinsert[0]);\n    element.append(toinsert);\n    return toinsert\n  }\n\n  events.on('output_added.OutputArea', handle_add_output);\n  events.on('output_updated.OutputArea', handle_update_output);\n  events.on('clear_output.CodeCell', handle_clear_output);\n  events.on('delete.Cell', handle_clear_output);\n  events.on('kernel_ready.Kernel', handle_kernel_cleanup);\n\n  OutputArea.prototype.register_mime_type(EXEC_MIME_TYPE, append_mime, {\n    safe: true,\n    index: 0\n  });\n}\n\nif (window.Jupyter !== undefined) {\n  try {\n    var events = require('base/js/events');\n    var OutputArea = require('notebook/js/outputarea').OutputArea;\n    if (OutputArea.prototype.mime_types().indexOf(EXEC_MIME_TYPE) == -1) {\n      register_renderer(events, OutputArea);\n    }\n  } catch(err) {\n  }\n}\n"
     },
     "metadata": {},
     "output_type": "display_data"
    },
    {
     "data": {
      "text/html": [
       "<div id='p1014'>\n",
       "  <div id=\"fecbf69a-ea22-4da2-bc88-00104681ce32\" data-root-id=\"p1014\" style=\"display: contents;\"></div>\n",
       "</div>\n",
       "<script type=\"application/javascript\">(function(root) {\n",
       "  var docs_json = {\"617aaa92-eddc-462d-9c10-545b1ec2bff3\":{\"version\":\"3.6.0\",\"title\":\"Bokeh Application\",\"roots\":[{\"type\":\"object\",\"name\":\"panel.models.browser.BrowserInfo\",\"id\":\"p1014\"},{\"type\":\"object\",\"name\":\"panel.models.comm_manager.CommManager\",\"id\":\"p1015\",\"attributes\":{\"plot_id\":\"p1014\",\"comm_id\":\"77db2e7d05d84dd0bf14810c7c9c5818\",\"client_comm_id\":\"b7b4bca41a294d87969c3fe91d19c11e\"}}],\"defs\":[{\"type\":\"model\",\"name\":\"ReactiveHTML1\"},{\"type\":\"model\",\"name\":\"FlexBox1\",\"properties\":[{\"name\":\"align_content\",\"kind\":\"Any\",\"default\":\"flex-start\"},{\"name\":\"align_items\",\"kind\":\"Any\",\"default\":\"flex-start\"},{\"name\":\"flex_direction\",\"kind\":\"Any\",\"default\":\"row\"},{\"name\":\"flex_wrap\",\"kind\":\"Any\",\"default\":\"wrap\"},{\"name\":\"gap\",\"kind\":\"Any\",\"default\":\"\"},{\"name\":\"justify_content\",\"kind\":\"Any\",\"default\":\"flex-start\"}]},{\"type\":\"model\",\"name\":\"FloatPanel1\",\"properties\":[{\"name\":\"config\",\"kind\":\"Any\",\"default\":{\"type\":\"map\"}},{\"name\":\"contained\",\"kind\":\"Any\",\"default\":true},{\"name\":\"position\",\"kind\":\"Any\",\"default\":\"right-top\"},{\"name\":\"offsetx\",\"kind\":\"Any\",\"default\":null},{\"name\":\"offsety\",\"kind\":\"Any\",\"default\":null},{\"name\":\"theme\",\"kind\":\"Any\",\"default\":\"primary\"},{\"name\":\"status\",\"kind\":\"Any\",\"default\":\"normalized\"}]},{\"type\":\"model\",\"name\":\"GridStack1\",\"properties\":[{\"name\":\"mode\",\"kind\":\"Any\",\"default\":\"warn\"},{\"name\":\"ncols\",\"kind\":\"Any\",\"default\":null},{\"name\":\"nrows\",\"kind\":\"Any\",\"default\":null},{\"name\":\"allow_resize\",\"kind\":\"Any\",\"default\":true},{\"name\":\"allow_drag\",\"kind\":\"Any\",\"default\":true},{\"name\":\"state\",\"kind\":\"Any\",\"default\":[]}]},{\"type\":\"model\",\"name\":\"drag1\",\"properties\":[{\"name\":\"slider_width\",\"kind\":\"Any\",\"default\":5},{\"name\":\"slider_color\",\"kind\":\"Any\",\"default\":\"black\"},{\"name\":\"value\",\"kind\":\"Any\",\"default\":50}]},{\"type\":\"model\",\"name\":\"click1\",\"properties\":[{\"name\":\"terminal_output\",\"kind\":\"Any\",\"default\":\"\"},{\"name\":\"debug_name\",\"kind\":\"Any\",\"default\":\"\"},{\"name\":\"clears\",\"kind\":\"Any\",\"default\":0}]},{\"type\":\"model\",\"name\":\"FastWrapper1\",\"properties\":[{\"name\":\"object\",\"kind\":\"Any\",\"default\":null},{\"name\":\"style\",\"kind\":\"Any\",\"default\":null}]},{\"type\":\"model\",\"name\":\"NotificationAreaBase1\",\"properties\":[{\"name\":\"js_events\",\"kind\":\"Any\",\"default\":{\"type\":\"map\"}},{\"name\":\"position\",\"kind\":\"Any\",\"default\":\"bottom-right\"},{\"name\":\"_clear\",\"kind\":\"Any\",\"default\":0}]},{\"type\":\"model\",\"name\":\"NotificationArea1\",\"properties\":[{\"name\":\"js_events\",\"kind\":\"Any\",\"default\":{\"type\":\"map\"}},{\"name\":\"notifications\",\"kind\":\"Any\",\"default\":[]},{\"name\":\"position\",\"kind\":\"Any\",\"default\":\"bottom-right\"},{\"name\":\"_clear\",\"kind\":\"Any\",\"default\":0},{\"name\":\"types\",\"kind\":\"Any\",\"default\":[{\"type\":\"map\",\"entries\":[[\"type\",\"warning\"],[\"background\",\"#ffc107\"],[\"icon\",{\"type\":\"map\",\"entries\":[[\"className\",\"fas fa-exclamation-triangle\"],[\"tagName\",\"i\"],[\"color\",\"white\"]]}]]},{\"type\":\"map\",\"entries\":[[\"type\",\"info\"],[\"background\",\"#007bff\"],[\"icon\",{\"type\":\"map\",\"entries\":[[\"className\",\"fas fa-info-circle\"],[\"tagName\",\"i\"],[\"color\",\"white\"]]}]]}]}]},{\"type\":\"model\",\"name\":\"Notification\",\"properties\":[{\"name\":\"background\",\"kind\":\"Any\",\"default\":null},{\"name\":\"duration\",\"kind\":\"Any\",\"default\":3000},{\"name\":\"icon\",\"kind\":\"Any\",\"default\":null},{\"name\":\"message\",\"kind\":\"Any\",\"default\":\"\"},{\"name\":\"notification_type\",\"kind\":\"Any\",\"default\":null},{\"name\":\"_destroyed\",\"kind\":\"Any\",\"default\":false}]},{\"type\":\"model\",\"name\":\"TemplateActions1\",\"properties\":[{\"name\":\"open_modal\",\"kind\":\"Any\",\"default\":0},{\"name\":\"close_modal\",\"kind\":\"Any\",\"default\":0}]},{\"type\":\"model\",\"name\":\"BootstrapTemplateActions1\",\"properties\":[{\"name\":\"open_modal\",\"kind\":\"Any\",\"default\":0},{\"name\":\"close_modal\",\"kind\":\"Any\",\"default\":0}]},{\"type\":\"model\",\"name\":\"TemplateEditor1\",\"properties\":[{\"name\":\"layout\",\"kind\":\"Any\",\"default\":[]}]},{\"type\":\"model\",\"name\":\"MaterialTemplateActions1\",\"properties\":[{\"name\":\"open_modal\",\"kind\":\"Any\",\"default\":0},{\"name\":\"close_modal\",\"kind\":\"Any\",\"default\":0}]},{\"type\":\"model\",\"name\":\"ReactiveESM1\"},{\"type\":\"model\",\"name\":\"JSComponent1\"},{\"type\":\"model\",\"name\":\"ReactComponent1\"},{\"type\":\"model\",\"name\":\"AnyWidgetComponent1\"},{\"type\":\"model\",\"name\":\"request_value1\",\"properties\":[{\"name\":\"fill\",\"kind\":\"Any\",\"default\":\"none\"},{\"name\":\"_synced\",\"kind\":\"Any\",\"default\":null},{\"name\":\"_request_sync\",\"kind\":\"Any\",\"default\":0}]}]}};\n",
       "  var render_items = [{\"docid\":\"617aaa92-eddc-462d-9c10-545b1ec2bff3\",\"roots\":{\"p1014\":\"fecbf69a-ea22-4da2-bc88-00104681ce32\"},\"root_ids\":[\"p1014\"]}];\n",
       "  var docs = Object.values(docs_json)\n",
       "  if (!docs) {\n",
       "    return\n",
       "  }\n",
       "  const py_version = docs[0].version.replace('rc', '-rc.').replace('.dev', '-dev.')\n",
       "  async function embed_document(root) {\n",
       "    var Bokeh = get_bokeh(root)\n",
       "    await Bokeh.embed.embed_items_notebook(docs_json, render_items);\n",
       "    for (const render_item of render_items) {\n",
       "      for (const root_id of render_item.root_ids) {\n",
       "\tconst id_el = document.getElementById(root_id)\n",
       "\tif (id_el.children.length && id_el.children[0].hasAttribute('data-root-id')) {\n",
       "\t  const root_el = id_el.children[0]\n",
       "\t  root_el.id = root_el.id + '-rendered'\n",
       "\t  for (const child of root_el.children) {\n",
       "            // Ensure JupyterLab does not capture keyboard shortcuts\n",
       "            // see: https://jupyterlab.readthedocs.io/en/4.1.x/extension/notebook.html#keyboard-interaction-model\n",
       "\t    child.setAttribute('data-lm-suppress-shortcuts', 'true')\n",
       "\t  }\n",
       "\t}\n",
       "      }\n",
       "    }\n",
       "  }\n",
       "  function get_bokeh(root) {\n",
       "    if (root.Bokeh === undefined) {\n",
       "      return null\n",
       "    } else if (root.Bokeh.version !== py_version) {\n",
       "      if (root.Bokeh.versions === undefined || !root.Bokeh.versions.has(py_version)) {\n",
       "\treturn null\n",
       "      }\n",
       "      return root.Bokeh.versions.get(py_version);\n",
       "    } else if (root.Bokeh.version === py_version) {\n",
       "      return root.Bokeh\n",
       "    }\n",
       "    return null\n",
       "  }\n",
       "  function is_loaded(root) {\n",
       "    var Bokeh = get_bokeh(root)\n",
       "    return (Bokeh != null && Bokeh.Panel !== undefined)\n",
       "  }\n",
       "  if (is_loaded(root)) {\n",
       "    embed_document(root);\n",
       "  } else {\n",
       "    var attempts = 0;\n",
       "    var timer = setInterval(function(root) {\n",
       "      if (is_loaded(root)) {\n",
       "        clearInterval(timer);\n",
       "        embed_document(root);\n",
       "      } else if (document.readyState == \"complete\") {\n",
       "        attempts++;\n",
       "        if (attempts > 200) {\n",
       "          clearInterval(timer);\n",
       "\t  var Bokeh = get_bokeh(root)\n",
       "\t  if (Bokeh == null || Bokeh.Panel == null) {\n",
       "            console.warn(\"Panel: ERROR: Unable to run Panel code because Bokeh or Panel library is missing\");\n",
       "\t  } else {\n",
       "\t    console.warn(\"Panel: WARNING: Attempting to render but not all required libraries could be resolved.\")\n",
       "\t    embed_document(root)\n",
       "\t  }\n",
       "        }\n",
       "      }\n",
       "    }, 25, root)\n",
       "  }\n",
       "})(window);</script>"
      ],
      "application/vnd.holoviews_exec.v0+json": ""
     },
     "metadata": {
      "application/vnd.holoviews_exec.v0+json": {
       "id": "p1014"
      }
     },
     "output_type": "display_data"
    }
   ],
   "execution_count": 168
  },
  {
   "metadata": {
    "ExecuteTime": {
     "end_time": "2024-11-18T03:58:08.289098Z",
     "start_time": "2024-11-18T03:58:08.193260Z"
    }
   },
   "cell_type": "code",
   "source": [
    "import importlib\n",
    "importlib.reload(hf)"
   ],
   "id": "37f3c1993e6f9ad8",
   "outputs": [
    {
     "data": {
      "text/html": [
       "<script type=\"esms-options\">{\"shimMode\": true}</script><style>*[data-root-id],\n",
       "*[data-root-id] > * {\n",
       "  box-sizing: border-box;\n",
       "  font-family: var(--jp-ui-font-family);\n",
       "  font-size: var(--jp-ui-font-size1);\n",
       "  color: var(--vscode-editor-foreground, var(--jp-ui-font-color1));\n",
       "}\n",
       "\n",
       "/* Override VSCode background color */\n",
       ".cell-output-ipywidget-background:has(\n",
       "    > .cell-output-ipywidget-background > .lm-Widget > *[data-root-id]\n",
       "  ),\n",
       ".cell-output-ipywidget-background:has(> .lm-Widget > *[data-root-id]) {\n",
       "  background-color: transparent !important;\n",
       "}\n",
       "</style>"
      ]
     },
     "metadata": {},
     "output_type": "display_data"
    },
    {
     "data": {
      "application/javascript": "(function(root) {\n  function now() {\n    return new Date();\n  }\n\n  const force = true;\n  const py_version = '3.6.0'.replace('rc', '-rc.').replace('.dev', '-dev.');\n  const reloading = false;\n  const Bokeh = root.Bokeh;\n\n  // Set a timeout for this load but only if we are not already initializing\n  if (typeof (root._bokeh_timeout) === \"undefined\" || (force || !root._bokeh_is_initializing)) {\n    root._bokeh_timeout = Date.now() + 5000;\n    root._bokeh_failed_load = false;\n  }\n\n  function run_callbacks() {\n    try {\n      root._bokeh_onload_callbacks.forEach(function(callback) {\n        if (callback != null)\n          callback();\n      });\n    } finally {\n      delete root._bokeh_onload_callbacks;\n    }\n    console.debug(\"Bokeh: all callbacks have finished\");\n  }\n\n  function load_libs(css_urls, js_urls, js_modules, js_exports, callback) {\n    if (css_urls == null) css_urls = [];\n    if (js_urls == null) js_urls = [];\n    if (js_modules == null) js_modules = [];\n    if (js_exports == null) js_exports = {};\n\n    root._bokeh_onload_callbacks.push(callback);\n\n    if (root._bokeh_is_loading > 0) {\n      // Don't load bokeh if it is still initializing\n      console.debug(\"Bokeh: BokehJS is being loaded, scheduling callback at\", now());\n      return null;\n    } else if (js_urls.length === 0 && js_modules.length === 0 && Object.keys(js_exports).length === 0) {\n      // There is nothing to load\n      run_callbacks();\n      return null;\n    }\n\n    function on_load() {\n      root._bokeh_is_loading--;\n      if (root._bokeh_is_loading === 0) {\n        console.debug(\"Bokeh: all BokehJS libraries/stylesheets loaded\");\n        run_callbacks()\n      }\n    }\n    window._bokeh_on_load = on_load\n\n    function on_error(e) {\n      const src_el = e.srcElement\n      console.error(\"failed to load \" + (src_el.href || src_el.src));\n    }\n\n    const skip = [];\n    if (window.requirejs) {\n      window.requirejs.config({'packages': {}, 'paths': {}, 'shim': {}});\n      root._bokeh_is_loading = css_urls.length + 0;\n    } else {\n      root._bokeh_is_loading = css_urls.length + js_urls.length + js_modules.length + Object.keys(js_exports).length;\n    }\n\n    const existing_stylesheets = []\n    const links = document.getElementsByTagName('link')\n    for (let i = 0; i < links.length; i++) {\n      const link = links[i]\n      if (link.href != null) {\n        existing_stylesheets.push(link.href)\n      }\n    }\n    for (let i = 0; i < css_urls.length; i++) {\n      const url = css_urls[i];\n      const escaped = encodeURI(url)\n      if (existing_stylesheets.indexOf(escaped) !== -1) {\n        on_load()\n        continue;\n      }\n      const element = document.createElement(\"link\");\n      element.onload = on_load;\n      element.onerror = on_error;\n      element.rel = \"stylesheet\";\n      element.type = \"text/css\";\n      element.href = url;\n      console.debug(\"Bokeh: injecting link tag for BokehJS stylesheet: \", url);\n      document.body.appendChild(element);\n    }    var existing_scripts = []\n    const scripts = document.getElementsByTagName('script')\n    for (let i = 0; i < scripts.length; i++) {\n      var script = scripts[i]\n      if (script.src != null) {\n        existing_scripts.push(script.src)\n      }\n    }\n    for (let i = 0; i < js_urls.length; i++) {\n      const url = js_urls[i];\n      const escaped = encodeURI(url)\n      if (skip.indexOf(escaped) !== -1 || existing_scripts.indexOf(escaped) !== -1) {\n        if (!window.requirejs) {\n          on_load();\n        }\n        continue;\n      }\n      const element = document.createElement('script');\n      element.onload = on_load;\n      element.onerror = on_error;\n      element.async = false;\n      element.src = url;\n      console.debug(\"Bokeh: injecting script tag for BokehJS library: \", url);\n      document.head.appendChild(element);\n    }\n    for (let i = 0; i < js_modules.length; i++) {\n      const url = js_modules[i];\n      const escaped = encodeURI(url)\n      if (skip.indexOf(escaped) !== -1 || existing_scripts.indexOf(escaped) !== -1) {\n        if (!window.requirejs) {\n          on_load();\n        }\n        continue;\n      }\n      var element = document.createElement('script');\n      element.onload = on_load;\n      element.onerror = on_error;\n      element.async = false;\n      element.src = url;\n      element.type = \"module\";\n      console.debug(\"Bokeh: injecting script tag for BokehJS library: \", url);\n      document.head.appendChild(element);\n    }\n    for (const name in js_exports) {\n      const url = js_exports[name];\n      const escaped = encodeURI(url)\n      if (skip.indexOf(escaped) >= 0 || root[name] != null) {\n        if (!window.requirejs) {\n          on_load();\n        }\n        continue;\n      }\n      var element = document.createElement('script');\n      element.onerror = on_error;\n      element.async = false;\n      element.type = \"module\";\n      console.debug(\"Bokeh: injecting script tag for BokehJS library: \", url);\n      element.textContent = `\n      import ${name} from \"${url}\"\n      window.${name} = ${name}\n      window._bokeh_on_load()\n      `\n      document.head.appendChild(element);\n    }\n    if (!js_urls.length && !js_modules.length) {\n      on_load()\n    }\n  };\n\n  function inject_raw_css(css) {\n    const element = document.createElement(\"style\");\n    element.appendChild(document.createTextNode(css));\n    document.body.appendChild(element);\n  }\n\n  const js_urls = [\"https://cdn.holoviz.org/panel/1.5.2/dist/bundled/reactiveesm/es-module-shims@^1.10.0/dist/es-module-shims.min.js\", \"https://cdn.bokeh.org/bokeh/release/bokeh-3.6.0.min.js\", \"https://cdn.bokeh.org/bokeh/release/bokeh-gl-3.6.0.min.js\", \"https://cdn.bokeh.org/bokeh/release/bokeh-widgets-3.6.0.min.js\", \"https://cdn.bokeh.org/bokeh/release/bokeh-tables-3.6.0.min.js\", \"https://cdn.holoviz.org/panel/1.5.2/dist/panel.min.js\"];\n  const js_modules = [];\n  const js_exports = {};\n  const css_urls = [];\n  const inline_js = [    function(Bokeh) {\n      Bokeh.set_log_level(\"info\");\n    },\nfunction(Bokeh) {} // ensure no trailing comma for IE\n  ];\n\n  function run_inline_js() {\n    if ((root.Bokeh !== undefined) || (force === true)) {\n      for (let i = 0; i < inline_js.length; i++) {\n        try {\n          inline_js[i].call(root, root.Bokeh);\n        } catch(e) {\n          if (!reloading) {\n            throw e;\n          }\n        }\n      }\n      // Cache old bokeh versions\n      if (Bokeh != undefined && !reloading) {\n        var NewBokeh = root.Bokeh;\n        if (Bokeh.versions === undefined) {\n          Bokeh.versions = new Map();\n        }\n        if (NewBokeh.version !== Bokeh.version) {\n          Bokeh.versions.set(NewBokeh.version, NewBokeh)\n        }\n        root.Bokeh = Bokeh;\n      }\n    } else if (Date.now() < root._bokeh_timeout) {\n      setTimeout(run_inline_js, 100);\n    } else if (!root._bokeh_failed_load) {\n      console.log(\"Bokeh: BokehJS failed to load within specified timeout.\");\n      root._bokeh_failed_load = true;\n    }\n    root._bokeh_is_initializing = false\n  }\n\n  function load_or_wait() {\n    // Implement a backoff loop that tries to ensure we do not load multiple\n    // versions of Bokeh and its dependencies at the same time.\n    // In recent versions we use the root._bokeh_is_initializing flag\n    // to determine whether there is an ongoing attempt to initialize\n    // bokeh, however for backward compatibility we also try to ensure\n    // that we do not start loading a newer (Panel>=1.0 and Bokeh>3) version\n    // before older versions are fully initialized.\n    if (root._bokeh_is_initializing && Date.now() > root._bokeh_timeout) {\n      // If the timeout and bokeh was not successfully loaded we reset\n      // everything and try loading again\n      root._bokeh_timeout = Date.now() + 5000;\n      root._bokeh_is_initializing = false;\n      root._bokeh_onload_callbacks = undefined;\n      root._bokeh_is_loading = 0\n      console.log(\"Bokeh: BokehJS was loaded multiple times but one version failed to initialize.\");\n      load_or_wait();\n    } else if (root._bokeh_is_initializing || (typeof root._bokeh_is_initializing === \"undefined\" && root._bokeh_onload_callbacks !== undefined)) {\n      setTimeout(load_or_wait, 100);\n    } else {\n      root._bokeh_is_initializing = true\n      root._bokeh_onload_callbacks = []\n      const bokeh_loaded = root.Bokeh != null && (root.Bokeh.version === py_version || (root.Bokeh.versions !== undefined && root.Bokeh.versions.has(py_version)));\n      if (!reloading && !bokeh_loaded) {\n        if (root.Bokeh) {\n          root.Bokeh = undefined;\n        }\n        console.debug(\"Bokeh: BokehJS not loaded, scheduling load and callback at\", now());\n      }\n      load_libs(css_urls, js_urls, js_modules, js_exports, function() {\n        console.debug(\"Bokeh: BokehJS plotting callback run at\", now());\n        run_inline_js();\n      });\n    }\n  }\n  // Give older versions of the autoload script a head-start to ensure\n  // they initialize before we start loading newer version.\n  setTimeout(load_or_wait, 100)\n}(window));",
      "application/vnd.holoviews_load.v0+json": "(function(root) {\n  function now() {\n    return new Date();\n  }\n\n  const force = true;\n  const py_version = '3.6.0'.replace('rc', '-rc.').replace('.dev', '-dev.');\n  const reloading = false;\n  const Bokeh = root.Bokeh;\n\n  // Set a timeout for this load but only if we are not already initializing\n  if (typeof (root._bokeh_timeout) === \"undefined\" || (force || !root._bokeh_is_initializing)) {\n    root._bokeh_timeout = Date.now() + 5000;\n    root._bokeh_failed_load = false;\n  }\n\n  function run_callbacks() {\n    try {\n      root._bokeh_onload_callbacks.forEach(function(callback) {\n        if (callback != null)\n          callback();\n      });\n    } finally {\n      delete root._bokeh_onload_callbacks;\n    }\n    console.debug(\"Bokeh: all callbacks have finished\");\n  }\n\n  function load_libs(css_urls, js_urls, js_modules, js_exports, callback) {\n    if (css_urls == null) css_urls = [];\n    if (js_urls == null) js_urls = [];\n    if (js_modules == null) js_modules = [];\n    if (js_exports == null) js_exports = {};\n\n    root._bokeh_onload_callbacks.push(callback);\n\n    if (root._bokeh_is_loading > 0) {\n      // Don't load bokeh if it is still initializing\n      console.debug(\"Bokeh: BokehJS is being loaded, scheduling callback at\", now());\n      return null;\n    } else if (js_urls.length === 0 && js_modules.length === 0 && Object.keys(js_exports).length === 0) {\n      // There is nothing to load\n      run_callbacks();\n      return null;\n    }\n\n    function on_load() {\n      root._bokeh_is_loading--;\n      if (root._bokeh_is_loading === 0) {\n        console.debug(\"Bokeh: all BokehJS libraries/stylesheets loaded\");\n        run_callbacks()\n      }\n    }\n    window._bokeh_on_load = on_load\n\n    function on_error(e) {\n      const src_el = e.srcElement\n      console.error(\"failed to load \" + (src_el.href || src_el.src));\n    }\n\n    const skip = [];\n    if (window.requirejs) {\n      window.requirejs.config({'packages': {}, 'paths': {}, 'shim': {}});\n      root._bokeh_is_loading = css_urls.length + 0;\n    } else {\n      root._bokeh_is_loading = css_urls.length + js_urls.length + js_modules.length + Object.keys(js_exports).length;\n    }\n\n    const existing_stylesheets = []\n    const links = document.getElementsByTagName('link')\n    for (let i = 0; i < links.length; i++) {\n      const link = links[i]\n      if (link.href != null) {\n        existing_stylesheets.push(link.href)\n      }\n    }\n    for (let i = 0; i < css_urls.length; i++) {\n      const url = css_urls[i];\n      const escaped = encodeURI(url)\n      if (existing_stylesheets.indexOf(escaped) !== -1) {\n        on_load()\n        continue;\n      }\n      const element = document.createElement(\"link\");\n      element.onload = on_load;\n      element.onerror = on_error;\n      element.rel = \"stylesheet\";\n      element.type = \"text/css\";\n      element.href = url;\n      console.debug(\"Bokeh: injecting link tag for BokehJS stylesheet: \", url);\n      document.body.appendChild(element);\n    }    var existing_scripts = []\n    const scripts = document.getElementsByTagName('script')\n    for (let i = 0; i < scripts.length; i++) {\n      var script = scripts[i]\n      if (script.src != null) {\n        existing_scripts.push(script.src)\n      }\n    }\n    for (let i = 0; i < js_urls.length; i++) {\n      const url = js_urls[i];\n      const escaped = encodeURI(url)\n      if (skip.indexOf(escaped) !== -1 || existing_scripts.indexOf(escaped) !== -1) {\n        if (!window.requirejs) {\n          on_load();\n        }\n        continue;\n      }\n      const element = document.createElement('script');\n      element.onload = on_load;\n      element.onerror = on_error;\n      element.async = false;\n      element.src = url;\n      console.debug(\"Bokeh: injecting script tag for BokehJS library: \", url);\n      document.head.appendChild(element);\n    }\n    for (let i = 0; i < js_modules.length; i++) {\n      const url = js_modules[i];\n      const escaped = encodeURI(url)\n      if (skip.indexOf(escaped) !== -1 || existing_scripts.indexOf(escaped) !== -1) {\n        if (!window.requirejs) {\n          on_load();\n        }\n        continue;\n      }\n      var element = document.createElement('script');\n      element.onload = on_load;\n      element.onerror = on_error;\n      element.async = false;\n      element.src = url;\n      element.type = \"module\";\n      console.debug(\"Bokeh: injecting script tag for BokehJS library: \", url);\n      document.head.appendChild(element);\n    }\n    for (const name in js_exports) {\n      const url = js_exports[name];\n      const escaped = encodeURI(url)\n      if (skip.indexOf(escaped) >= 0 || root[name] != null) {\n        if (!window.requirejs) {\n          on_load();\n        }\n        continue;\n      }\n      var element = document.createElement('script');\n      element.onerror = on_error;\n      element.async = false;\n      element.type = \"module\";\n      console.debug(\"Bokeh: injecting script tag for BokehJS library: \", url);\n      element.textContent = `\n      import ${name} from \"${url}\"\n      window.${name} = ${name}\n      window._bokeh_on_load()\n      `\n      document.head.appendChild(element);\n    }\n    if (!js_urls.length && !js_modules.length) {\n      on_load()\n    }\n  };\n\n  function inject_raw_css(css) {\n    const element = document.createElement(\"style\");\n    element.appendChild(document.createTextNode(css));\n    document.body.appendChild(element);\n  }\n\n  const js_urls = [\"https://cdn.holoviz.org/panel/1.5.2/dist/bundled/reactiveesm/es-module-shims@^1.10.0/dist/es-module-shims.min.js\", \"https://cdn.bokeh.org/bokeh/release/bokeh-3.6.0.min.js\", \"https://cdn.bokeh.org/bokeh/release/bokeh-gl-3.6.0.min.js\", \"https://cdn.bokeh.org/bokeh/release/bokeh-widgets-3.6.0.min.js\", \"https://cdn.bokeh.org/bokeh/release/bokeh-tables-3.6.0.min.js\", \"https://cdn.holoviz.org/panel/1.5.2/dist/panel.min.js\"];\n  const js_modules = [];\n  const js_exports = {};\n  const css_urls = [];\n  const inline_js = [    function(Bokeh) {\n      Bokeh.set_log_level(\"info\");\n    },\nfunction(Bokeh) {} // ensure no trailing comma for IE\n  ];\n\n  function run_inline_js() {\n    if ((root.Bokeh !== undefined) || (force === true)) {\n      for (let i = 0; i < inline_js.length; i++) {\n        try {\n          inline_js[i].call(root, root.Bokeh);\n        } catch(e) {\n          if (!reloading) {\n            throw e;\n          }\n        }\n      }\n      // Cache old bokeh versions\n      if (Bokeh != undefined && !reloading) {\n        var NewBokeh = root.Bokeh;\n        if (Bokeh.versions === undefined) {\n          Bokeh.versions = new Map();\n        }\n        if (NewBokeh.version !== Bokeh.version) {\n          Bokeh.versions.set(NewBokeh.version, NewBokeh)\n        }\n        root.Bokeh = Bokeh;\n      }\n    } else if (Date.now() < root._bokeh_timeout) {\n      setTimeout(run_inline_js, 100);\n    } else if (!root._bokeh_failed_load) {\n      console.log(\"Bokeh: BokehJS failed to load within specified timeout.\");\n      root._bokeh_failed_load = true;\n    }\n    root._bokeh_is_initializing = false\n  }\n\n  function load_or_wait() {\n    // Implement a backoff loop that tries to ensure we do not load multiple\n    // versions of Bokeh and its dependencies at the same time.\n    // In recent versions we use the root._bokeh_is_initializing flag\n    // to determine whether there is an ongoing attempt to initialize\n    // bokeh, however for backward compatibility we also try to ensure\n    // that we do not start loading a newer (Panel>=1.0 and Bokeh>3) version\n    // before older versions are fully initialized.\n    if (root._bokeh_is_initializing && Date.now() > root._bokeh_timeout) {\n      // If the timeout and bokeh was not successfully loaded we reset\n      // everything and try loading again\n      root._bokeh_timeout = Date.now() + 5000;\n      root._bokeh_is_initializing = false;\n      root._bokeh_onload_callbacks = undefined;\n      root._bokeh_is_loading = 0\n      console.log(\"Bokeh: BokehJS was loaded multiple times but one version failed to initialize.\");\n      load_or_wait();\n    } else if (root._bokeh_is_initializing || (typeof root._bokeh_is_initializing === \"undefined\" && root._bokeh_onload_callbacks !== undefined)) {\n      setTimeout(load_or_wait, 100);\n    } else {\n      root._bokeh_is_initializing = true\n      root._bokeh_onload_callbacks = []\n      const bokeh_loaded = root.Bokeh != null && (root.Bokeh.version === py_version || (root.Bokeh.versions !== undefined && root.Bokeh.versions.has(py_version)));\n      if (!reloading && !bokeh_loaded) {\n        if (root.Bokeh) {\n          root.Bokeh = undefined;\n        }\n        console.debug(\"Bokeh: BokehJS not loaded, scheduling load and callback at\", now());\n      }\n      load_libs(css_urls, js_urls, js_modules, js_exports, function() {\n        console.debug(\"Bokeh: BokehJS plotting callback run at\", now());\n        run_inline_js();\n      });\n    }\n  }\n  // Give older versions of the autoload script a head-start to ensure\n  // they initialize before we start loading newer version.\n  setTimeout(load_or_wait, 100)\n}(window));"
     },
     "metadata": {},
     "output_type": "display_data"
    },
    {
     "data": {
      "application/vnd.holoviews_load.v0+json": "\nif ((window.PyViz === undefined) || (window.PyViz instanceof HTMLElement)) {\n  window.PyViz = {comms: {}, comm_status:{}, kernels:{}, receivers: {}, plot_index: []}\n}\n\n\n    function JupyterCommManager() {\n    }\n\n    JupyterCommManager.prototype.register_target = function(plot_id, comm_id, msg_handler) {\n      if (window.comm_manager || ((window.Jupyter !== undefined) && (Jupyter.notebook.kernel != null))) {\n        var comm_manager = window.comm_manager || Jupyter.notebook.kernel.comm_manager;\n        comm_manager.register_target(comm_id, function(comm) {\n          comm.on_msg(msg_handler);\n        });\n      } else if ((plot_id in window.PyViz.kernels) && (window.PyViz.kernels[plot_id])) {\n        window.PyViz.kernels[plot_id].registerCommTarget(comm_id, function(comm) {\n          comm.onMsg = msg_handler;\n        });\n      } else if (typeof google != 'undefined' && google.colab.kernel != null) {\n        google.colab.kernel.comms.registerTarget(comm_id, (comm) => {\n          var messages = comm.messages[Symbol.asyncIterator]();\n          function processIteratorResult(result) {\n            var message = result.value;\n            console.log(message)\n            var content = {data: message.data, comm_id};\n            var buffers = []\n            for (var buffer of message.buffers || []) {\n              buffers.push(new DataView(buffer))\n            }\n            var metadata = message.metadata || {};\n            var msg = {content, buffers, metadata}\n            msg_handler(msg);\n            return messages.next().then(processIteratorResult);\n          }\n          return messages.next().then(processIteratorResult);\n        })\n      }\n    }\n\n    JupyterCommManager.prototype.get_client_comm = function(plot_id, comm_id, msg_handler) {\n      if (comm_id in window.PyViz.comms) {\n        return window.PyViz.comms[comm_id];\n      } else if (window.comm_manager || ((window.Jupyter !== undefined) && (Jupyter.notebook.kernel != null))) {\n        var comm_manager = window.comm_manager || Jupyter.notebook.kernel.comm_manager;\n        var comm = comm_manager.new_comm(comm_id, {}, {}, {}, comm_id);\n        if (msg_handler) {\n          comm.on_msg(msg_handler);\n        }\n      } else if ((plot_id in window.PyViz.kernels) && (window.PyViz.kernels[plot_id])) {\n        var comm = window.PyViz.kernels[plot_id].connectToComm(comm_id);\n        comm.open();\n        if (msg_handler) {\n          comm.onMsg = msg_handler;\n        }\n      } else if (typeof google != 'undefined' && google.colab.kernel != null) {\n        var comm_promise = google.colab.kernel.comms.open(comm_id)\n        comm_promise.then((comm) => {\n          window.PyViz.comms[comm_id] = comm;\n          if (msg_handler) {\n            var messages = comm.messages[Symbol.asyncIterator]();\n            function processIteratorResult(result) {\n              var message = result.value;\n              var content = {data: message.data};\n              var metadata = message.metadata || {comm_id};\n              var msg = {content, metadata}\n              msg_handler(msg);\n              return messages.next().then(processIteratorResult);\n            }\n            return messages.next().then(processIteratorResult);\n          }\n        }) \n        var sendClosure = (data, metadata, buffers, disposeOnDone) => {\n          return comm_promise.then((comm) => {\n            comm.send(data, metadata, buffers, disposeOnDone);\n          });\n        };\n        var comm = {\n          send: sendClosure\n        };\n      }\n      window.PyViz.comms[comm_id] = comm;\n      return comm;\n    }\n    window.PyViz.comm_manager = new JupyterCommManager();\n    \n\n\nvar JS_MIME_TYPE = 'application/javascript';\nvar HTML_MIME_TYPE = 'text/html';\nvar EXEC_MIME_TYPE = 'application/vnd.holoviews_exec.v0+json';\nvar CLASS_NAME = 'output';\n\n/**\n * Render data to the DOM node\n */\nfunction render(props, node) {\n  var div = document.createElement(\"div\");\n  var script = document.createElement(\"script\");\n  node.appendChild(div);\n  node.appendChild(script);\n}\n\n/**\n * Handle when a new output is added\n */\nfunction handle_add_output(event, handle) {\n  var output_area = handle.output_area;\n  var output = handle.output;\n  if ((output.data == undefined) || (!output.data.hasOwnProperty(EXEC_MIME_TYPE))) {\n    return\n  }\n  var id = output.metadata[EXEC_MIME_TYPE][\"id\"];\n  var toinsert = output_area.element.find(\".\" + CLASS_NAME.split(' ')[0]);\n  if (id !== undefined) {\n    var nchildren = toinsert.length;\n    var html_node = toinsert[nchildren-1].children[0];\n    html_node.innerHTML = output.data[HTML_MIME_TYPE];\n    var scripts = [];\n    var nodelist = html_node.querySelectorAll(\"script\");\n    for (var i in nodelist) {\n      if (nodelist.hasOwnProperty(i)) {\n        scripts.push(nodelist[i])\n      }\n    }\n\n    scripts.forEach( function (oldScript) {\n      var newScript = document.createElement(\"script\");\n      var attrs = [];\n      var nodemap = oldScript.attributes;\n      for (var j in nodemap) {\n        if (nodemap.hasOwnProperty(j)) {\n          attrs.push(nodemap[j])\n        }\n      }\n      attrs.forEach(function(attr) { newScript.setAttribute(attr.name, attr.value) });\n      newScript.appendChild(document.createTextNode(oldScript.innerHTML));\n      oldScript.parentNode.replaceChild(newScript, oldScript);\n    });\n    if (JS_MIME_TYPE in output.data) {\n      toinsert[nchildren-1].children[1].textContent = output.data[JS_MIME_TYPE];\n    }\n    output_area._hv_plot_id = id;\n    if ((window.Bokeh !== undefined) && (id in Bokeh.index)) {\n      window.PyViz.plot_index[id] = Bokeh.index[id];\n    } else {\n      window.PyViz.plot_index[id] = null;\n    }\n  } else if (output.metadata[EXEC_MIME_TYPE][\"server_id\"] !== undefined) {\n    var bk_div = document.createElement(\"div\");\n    bk_div.innerHTML = output.data[HTML_MIME_TYPE];\n    var script_attrs = bk_div.children[0].attributes;\n    for (var i = 0; i < script_attrs.length; i++) {\n      toinsert[toinsert.length - 1].childNodes[1].setAttribute(script_attrs[i].name, script_attrs[i].value);\n    }\n    // store reference to server id on output_area\n    output_area._bokeh_server_id = output.metadata[EXEC_MIME_TYPE][\"server_id\"];\n  }\n}\n\n/**\n * Handle when an output is cleared or removed\n */\nfunction handle_clear_output(event, handle) {\n  var id = handle.cell.output_area._hv_plot_id;\n  var server_id = handle.cell.output_area._bokeh_server_id;\n  if (((id === undefined) || !(id in PyViz.plot_index)) && (server_id !== undefined)) { return; }\n  var comm = window.PyViz.comm_manager.get_client_comm(\"hv-extension-comm\", \"hv-extension-comm\", function () {});\n  if (server_id !== null) {\n    comm.send({event_type: 'server_delete', 'id': server_id});\n    return;\n  } else if (comm !== null) {\n    comm.send({event_type: 'delete', 'id': id});\n  }\n  delete PyViz.plot_index[id];\n  if ((window.Bokeh !== undefined) & (id in window.Bokeh.index)) {\n    var doc = window.Bokeh.index[id].model.document\n    doc.clear();\n    const i = window.Bokeh.documents.indexOf(doc);\n    if (i > -1) {\n      window.Bokeh.documents.splice(i, 1);\n    }\n  }\n}\n\n/**\n * Handle kernel restart event\n */\nfunction handle_kernel_cleanup(event, handle) {\n  delete PyViz.comms[\"hv-extension-comm\"];\n  window.PyViz.plot_index = {}\n}\n\n/**\n * Handle update_display_data messages\n */\nfunction handle_update_output(event, handle) {\n  handle_clear_output(event, {cell: {output_area: handle.output_area}})\n  handle_add_output(event, handle)\n}\n\nfunction register_renderer(events, OutputArea) {\n  function append_mime(data, metadata, element) {\n    // create a DOM node to render to\n    var toinsert = this.create_output_subarea(\n    metadata,\n    CLASS_NAME,\n    EXEC_MIME_TYPE\n    );\n    this.keyboard_manager.register_events(toinsert);\n    // Render to node\n    var props = {data: data, metadata: metadata[EXEC_MIME_TYPE]};\n    render(props, toinsert[0]);\n    element.append(toinsert);\n    return toinsert\n  }\n\n  events.on('output_added.OutputArea', handle_add_output);\n  events.on('output_updated.OutputArea', handle_update_output);\n  events.on('clear_output.CodeCell', handle_clear_output);\n  events.on('delete.Cell', handle_clear_output);\n  events.on('kernel_ready.Kernel', handle_kernel_cleanup);\n\n  OutputArea.prototype.register_mime_type(EXEC_MIME_TYPE, append_mime, {\n    safe: true,\n    index: 0\n  });\n}\n\nif (window.Jupyter !== undefined) {\n  try {\n    var events = require('base/js/events');\n    var OutputArea = require('notebook/js/outputarea').OutputArea;\n    if (OutputArea.prototype.mime_types().indexOf(EXEC_MIME_TYPE) == -1) {\n      register_renderer(events, OutputArea);\n    }\n  } catch(err) {\n  }\n}\n",
      "application/javascript": "\nif ((window.PyViz === undefined) || (window.PyViz instanceof HTMLElement)) {\n  window.PyViz = {comms: {}, comm_status:{}, kernels:{}, receivers: {}, plot_index: []}\n}\n\n\n    function JupyterCommManager() {\n    }\n\n    JupyterCommManager.prototype.register_target = function(plot_id, comm_id, msg_handler) {\n      if (window.comm_manager || ((window.Jupyter !== undefined) && (Jupyter.notebook.kernel != null))) {\n        var comm_manager = window.comm_manager || Jupyter.notebook.kernel.comm_manager;\n        comm_manager.register_target(comm_id, function(comm) {\n          comm.on_msg(msg_handler);\n        });\n      } else if ((plot_id in window.PyViz.kernels) && (window.PyViz.kernels[plot_id])) {\n        window.PyViz.kernels[plot_id].registerCommTarget(comm_id, function(comm) {\n          comm.onMsg = msg_handler;\n        });\n      } else if (typeof google != 'undefined' && google.colab.kernel != null) {\n        google.colab.kernel.comms.registerTarget(comm_id, (comm) => {\n          var messages = comm.messages[Symbol.asyncIterator]();\n          function processIteratorResult(result) {\n            var message = result.value;\n            console.log(message)\n            var content = {data: message.data, comm_id};\n            var buffers = []\n            for (var buffer of message.buffers || []) {\n              buffers.push(new DataView(buffer))\n            }\n            var metadata = message.metadata || {};\n            var msg = {content, buffers, metadata}\n            msg_handler(msg);\n            return messages.next().then(processIteratorResult);\n          }\n          return messages.next().then(processIteratorResult);\n        })\n      }\n    }\n\n    JupyterCommManager.prototype.get_client_comm = function(plot_id, comm_id, msg_handler) {\n      if (comm_id in window.PyViz.comms) {\n        return window.PyViz.comms[comm_id];\n      } else if (window.comm_manager || ((window.Jupyter !== undefined) && (Jupyter.notebook.kernel != null))) {\n        var comm_manager = window.comm_manager || Jupyter.notebook.kernel.comm_manager;\n        var comm = comm_manager.new_comm(comm_id, {}, {}, {}, comm_id);\n        if (msg_handler) {\n          comm.on_msg(msg_handler);\n        }\n      } else if ((plot_id in window.PyViz.kernels) && (window.PyViz.kernels[plot_id])) {\n        var comm = window.PyViz.kernels[plot_id].connectToComm(comm_id);\n        comm.open();\n        if (msg_handler) {\n          comm.onMsg = msg_handler;\n        }\n      } else if (typeof google != 'undefined' && google.colab.kernel != null) {\n        var comm_promise = google.colab.kernel.comms.open(comm_id)\n        comm_promise.then((comm) => {\n          window.PyViz.comms[comm_id] = comm;\n          if (msg_handler) {\n            var messages = comm.messages[Symbol.asyncIterator]();\n            function processIteratorResult(result) {\n              var message = result.value;\n              var content = {data: message.data};\n              var metadata = message.metadata || {comm_id};\n              var msg = {content, metadata}\n              msg_handler(msg);\n              return messages.next().then(processIteratorResult);\n            }\n            return messages.next().then(processIteratorResult);\n          }\n        }) \n        var sendClosure = (data, metadata, buffers, disposeOnDone) => {\n          return comm_promise.then((comm) => {\n            comm.send(data, metadata, buffers, disposeOnDone);\n          });\n        };\n        var comm = {\n          send: sendClosure\n        };\n      }\n      window.PyViz.comms[comm_id] = comm;\n      return comm;\n    }\n    window.PyViz.comm_manager = new JupyterCommManager();\n    \n\n\nvar JS_MIME_TYPE = 'application/javascript';\nvar HTML_MIME_TYPE = 'text/html';\nvar EXEC_MIME_TYPE = 'application/vnd.holoviews_exec.v0+json';\nvar CLASS_NAME = 'output';\n\n/**\n * Render data to the DOM node\n */\nfunction render(props, node) {\n  var div = document.createElement(\"div\");\n  var script = document.createElement(\"script\");\n  node.appendChild(div);\n  node.appendChild(script);\n}\n\n/**\n * Handle when a new output is added\n */\nfunction handle_add_output(event, handle) {\n  var output_area = handle.output_area;\n  var output = handle.output;\n  if ((output.data == undefined) || (!output.data.hasOwnProperty(EXEC_MIME_TYPE))) {\n    return\n  }\n  var id = output.metadata[EXEC_MIME_TYPE][\"id\"];\n  var toinsert = output_area.element.find(\".\" + CLASS_NAME.split(' ')[0]);\n  if (id !== undefined) {\n    var nchildren = toinsert.length;\n    var html_node = toinsert[nchildren-1].children[0];\n    html_node.innerHTML = output.data[HTML_MIME_TYPE];\n    var scripts = [];\n    var nodelist = html_node.querySelectorAll(\"script\");\n    for (var i in nodelist) {\n      if (nodelist.hasOwnProperty(i)) {\n        scripts.push(nodelist[i])\n      }\n    }\n\n    scripts.forEach( function (oldScript) {\n      var newScript = document.createElement(\"script\");\n      var attrs = [];\n      var nodemap = oldScript.attributes;\n      for (var j in nodemap) {\n        if (nodemap.hasOwnProperty(j)) {\n          attrs.push(nodemap[j])\n        }\n      }\n      attrs.forEach(function(attr) { newScript.setAttribute(attr.name, attr.value) });\n      newScript.appendChild(document.createTextNode(oldScript.innerHTML));\n      oldScript.parentNode.replaceChild(newScript, oldScript);\n    });\n    if (JS_MIME_TYPE in output.data) {\n      toinsert[nchildren-1].children[1].textContent = output.data[JS_MIME_TYPE];\n    }\n    output_area._hv_plot_id = id;\n    if ((window.Bokeh !== undefined) && (id in Bokeh.index)) {\n      window.PyViz.plot_index[id] = Bokeh.index[id];\n    } else {\n      window.PyViz.plot_index[id] = null;\n    }\n  } else if (output.metadata[EXEC_MIME_TYPE][\"server_id\"] !== undefined) {\n    var bk_div = document.createElement(\"div\");\n    bk_div.innerHTML = output.data[HTML_MIME_TYPE];\n    var script_attrs = bk_div.children[0].attributes;\n    for (var i = 0; i < script_attrs.length; i++) {\n      toinsert[toinsert.length - 1].childNodes[1].setAttribute(script_attrs[i].name, script_attrs[i].value);\n    }\n    // store reference to server id on output_area\n    output_area._bokeh_server_id = output.metadata[EXEC_MIME_TYPE][\"server_id\"];\n  }\n}\n\n/**\n * Handle when an output is cleared or removed\n */\nfunction handle_clear_output(event, handle) {\n  var id = handle.cell.output_area._hv_plot_id;\n  var server_id = handle.cell.output_area._bokeh_server_id;\n  if (((id === undefined) || !(id in PyViz.plot_index)) && (server_id !== undefined)) { return; }\n  var comm = window.PyViz.comm_manager.get_client_comm(\"hv-extension-comm\", \"hv-extension-comm\", function () {});\n  if (server_id !== null) {\n    comm.send({event_type: 'server_delete', 'id': server_id});\n    return;\n  } else if (comm !== null) {\n    comm.send({event_type: 'delete', 'id': id});\n  }\n  delete PyViz.plot_index[id];\n  if ((window.Bokeh !== undefined) & (id in window.Bokeh.index)) {\n    var doc = window.Bokeh.index[id].model.document\n    doc.clear();\n    const i = window.Bokeh.documents.indexOf(doc);\n    if (i > -1) {\n      window.Bokeh.documents.splice(i, 1);\n    }\n  }\n}\n\n/**\n * Handle kernel restart event\n */\nfunction handle_kernel_cleanup(event, handle) {\n  delete PyViz.comms[\"hv-extension-comm\"];\n  window.PyViz.plot_index = {}\n}\n\n/**\n * Handle update_display_data messages\n */\nfunction handle_update_output(event, handle) {\n  handle_clear_output(event, {cell: {output_area: handle.output_area}})\n  handle_add_output(event, handle)\n}\n\nfunction register_renderer(events, OutputArea) {\n  function append_mime(data, metadata, element) {\n    // create a DOM node to render to\n    var toinsert = this.create_output_subarea(\n    metadata,\n    CLASS_NAME,\n    EXEC_MIME_TYPE\n    );\n    this.keyboard_manager.register_events(toinsert);\n    // Render to node\n    var props = {data: data, metadata: metadata[EXEC_MIME_TYPE]};\n    render(props, toinsert[0]);\n    element.append(toinsert);\n    return toinsert\n  }\n\n  events.on('output_added.OutputArea', handle_add_output);\n  events.on('output_updated.OutputArea', handle_update_output);\n  events.on('clear_output.CodeCell', handle_clear_output);\n  events.on('delete.Cell', handle_clear_output);\n  events.on('kernel_ready.Kernel', handle_kernel_cleanup);\n\n  OutputArea.prototype.register_mime_type(EXEC_MIME_TYPE, append_mime, {\n    safe: true,\n    index: 0\n  });\n}\n\nif (window.Jupyter !== undefined) {\n  try {\n    var events = require('base/js/events');\n    var OutputArea = require('notebook/js/outputarea').OutputArea;\n    if (OutputArea.prototype.mime_types().indexOf(EXEC_MIME_TYPE) == -1) {\n      register_renderer(events, OutputArea);\n    }\n  } catch(err) {\n  }\n}\n"
     },
     "metadata": {},
     "output_type": "display_data"
    },
    {
     "data": {
      "text/html": [
       "<div id='p1016'>\n",
       "  <div id=\"c6b4b866-b5ef-4271-a5f2-6291bbf158e4\" data-root-id=\"p1016\" style=\"display: contents;\"></div>\n",
       "</div>\n",
       "<script type=\"application/javascript\">(function(root) {\n",
       "  var docs_json = {\"4533bb7f-cca3-4f90-a30d-a4b6667966af\":{\"version\":\"3.6.0\",\"title\":\"Bokeh Application\",\"roots\":[{\"type\":\"object\",\"name\":\"panel.models.browser.BrowserInfo\",\"id\":\"p1016\"},{\"type\":\"object\",\"name\":\"panel.models.comm_manager.CommManager\",\"id\":\"p1017\",\"attributes\":{\"plot_id\":\"p1016\",\"comm_id\":\"5b03aea5413b4b6c98f7cbe584b6a1c5\",\"client_comm_id\":\"a1935032ef5b4e02b608fd0c043f78ee\"}}],\"defs\":[{\"type\":\"model\",\"name\":\"ReactiveHTML1\"},{\"type\":\"model\",\"name\":\"FlexBox1\",\"properties\":[{\"name\":\"align_content\",\"kind\":\"Any\",\"default\":\"flex-start\"},{\"name\":\"align_items\",\"kind\":\"Any\",\"default\":\"flex-start\"},{\"name\":\"flex_direction\",\"kind\":\"Any\",\"default\":\"row\"},{\"name\":\"flex_wrap\",\"kind\":\"Any\",\"default\":\"wrap\"},{\"name\":\"gap\",\"kind\":\"Any\",\"default\":\"\"},{\"name\":\"justify_content\",\"kind\":\"Any\",\"default\":\"flex-start\"}]},{\"type\":\"model\",\"name\":\"FloatPanel1\",\"properties\":[{\"name\":\"config\",\"kind\":\"Any\",\"default\":{\"type\":\"map\"}},{\"name\":\"contained\",\"kind\":\"Any\",\"default\":true},{\"name\":\"position\",\"kind\":\"Any\",\"default\":\"right-top\"},{\"name\":\"offsetx\",\"kind\":\"Any\",\"default\":null},{\"name\":\"offsety\",\"kind\":\"Any\",\"default\":null},{\"name\":\"theme\",\"kind\":\"Any\",\"default\":\"primary\"},{\"name\":\"status\",\"kind\":\"Any\",\"default\":\"normalized\"}]},{\"type\":\"model\",\"name\":\"GridStack1\",\"properties\":[{\"name\":\"mode\",\"kind\":\"Any\",\"default\":\"warn\"},{\"name\":\"ncols\",\"kind\":\"Any\",\"default\":null},{\"name\":\"nrows\",\"kind\":\"Any\",\"default\":null},{\"name\":\"allow_resize\",\"kind\":\"Any\",\"default\":true},{\"name\":\"allow_drag\",\"kind\":\"Any\",\"default\":true},{\"name\":\"state\",\"kind\":\"Any\",\"default\":[]}]},{\"type\":\"model\",\"name\":\"drag1\",\"properties\":[{\"name\":\"slider_width\",\"kind\":\"Any\",\"default\":5},{\"name\":\"slider_color\",\"kind\":\"Any\",\"default\":\"black\"},{\"name\":\"value\",\"kind\":\"Any\",\"default\":50}]},{\"type\":\"model\",\"name\":\"click1\",\"properties\":[{\"name\":\"terminal_output\",\"kind\":\"Any\",\"default\":\"\"},{\"name\":\"debug_name\",\"kind\":\"Any\",\"default\":\"\"},{\"name\":\"clears\",\"kind\":\"Any\",\"default\":0}]},{\"type\":\"model\",\"name\":\"FastWrapper1\",\"properties\":[{\"name\":\"object\",\"kind\":\"Any\",\"default\":null},{\"name\":\"style\",\"kind\":\"Any\",\"default\":null}]},{\"type\":\"model\",\"name\":\"NotificationAreaBase1\",\"properties\":[{\"name\":\"js_events\",\"kind\":\"Any\",\"default\":{\"type\":\"map\"}},{\"name\":\"position\",\"kind\":\"Any\",\"default\":\"bottom-right\"},{\"name\":\"_clear\",\"kind\":\"Any\",\"default\":0}]},{\"type\":\"model\",\"name\":\"NotificationArea1\",\"properties\":[{\"name\":\"js_events\",\"kind\":\"Any\",\"default\":{\"type\":\"map\"}},{\"name\":\"notifications\",\"kind\":\"Any\",\"default\":[]},{\"name\":\"position\",\"kind\":\"Any\",\"default\":\"bottom-right\"},{\"name\":\"_clear\",\"kind\":\"Any\",\"default\":0},{\"name\":\"types\",\"kind\":\"Any\",\"default\":[{\"type\":\"map\",\"entries\":[[\"type\",\"warning\"],[\"background\",\"#ffc107\"],[\"icon\",{\"type\":\"map\",\"entries\":[[\"className\",\"fas fa-exclamation-triangle\"],[\"tagName\",\"i\"],[\"color\",\"white\"]]}]]},{\"type\":\"map\",\"entries\":[[\"type\",\"info\"],[\"background\",\"#007bff\"],[\"icon\",{\"type\":\"map\",\"entries\":[[\"className\",\"fas fa-info-circle\"],[\"tagName\",\"i\"],[\"color\",\"white\"]]}]]}]}]},{\"type\":\"model\",\"name\":\"Notification\",\"properties\":[{\"name\":\"background\",\"kind\":\"Any\",\"default\":null},{\"name\":\"duration\",\"kind\":\"Any\",\"default\":3000},{\"name\":\"icon\",\"kind\":\"Any\",\"default\":null},{\"name\":\"message\",\"kind\":\"Any\",\"default\":\"\"},{\"name\":\"notification_type\",\"kind\":\"Any\",\"default\":null},{\"name\":\"_destroyed\",\"kind\":\"Any\",\"default\":false}]},{\"type\":\"model\",\"name\":\"TemplateActions1\",\"properties\":[{\"name\":\"open_modal\",\"kind\":\"Any\",\"default\":0},{\"name\":\"close_modal\",\"kind\":\"Any\",\"default\":0}]},{\"type\":\"model\",\"name\":\"BootstrapTemplateActions1\",\"properties\":[{\"name\":\"open_modal\",\"kind\":\"Any\",\"default\":0},{\"name\":\"close_modal\",\"kind\":\"Any\",\"default\":0}]},{\"type\":\"model\",\"name\":\"TemplateEditor1\",\"properties\":[{\"name\":\"layout\",\"kind\":\"Any\",\"default\":[]}]},{\"type\":\"model\",\"name\":\"MaterialTemplateActions1\",\"properties\":[{\"name\":\"open_modal\",\"kind\":\"Any\",\"default\":0},{\"name\":\"close_modal\",\"kind\":\"Any\",\"default\":0}]},{\"type\":\"model\",\"name\":\"ReactiveESM1\"},{\"type\":\"model\",\"name\":\"JSComponent1\"},{\"type\":\"model\",\"name\":\"ReactComponent1\"},{\"type\":\"model\",\"name\":\"AnyWidgetComponent1\"},{\"type\":\"model\",\"name\":\"request_value1\",\"properties\":[{\"name\":\"fill\",\"kind\":\"Any\",\"default\":\"none\"},{\"name\":\"_synced\",\"kind\":\"Any\",\"default\":null},{\"name\":\"_request_sync\",\"kind\":\"Any\",\"default\":0}]}]}};\n",
       "  var render_items = [{\"docid\":\"4533bb7f-cca3-4f90-a30d-a4b6667966af\",\"roots\":{\"p1016\":\"c6b4b866-b5ef-4271-a5f2-6291bbf158e4\"},\"root_ids\":[\"p1016\"]}];\n",
       "  var docs = Object.values(docs_json)\n",
       "  if (!docs) {\n",
       "    return\n",
       "  }\n",
       "  const py_version = docs[0].version.replace('rc', '-rc.').replace('.dev', '-dev.')\n",
       "  async function embed_document(root) {\n",
       "    var Bokeh = get_bokeh(root)\n",
       "    await Bokeh.embed.embed_items_notebook(docs_json, render_items);\n",
       "    for (const render_item of render_items) {\n",
       "      for (const root_id of render_item.root_ids) {\n",
       "\tconst id_el = document.getElementById(root_id)\n",
       "\tif (id_el.children.length && id_el.children[0].hasAttribute('data-root-id')) {\n",
       "\t  const root_el = id_el.children[0]\n",
       "\t  root_el.id = root_el.id + '-rendered'\n",
       "\t  for (const child of root_el.children) {\n",
       "            // Ensure JupyterLab does not capture keyboard shortcuts\n",
       "            // see: https://jupyterlab.readthedocs.io/en/4.1.x/extension/notebook.html#keyboard-interaction-model\n",
       "\t    child.setAttribute('data-lm-suppress-shortcuts', 'true')\n",
       "\t  }\n",
       "\t}\n",
       "      }\n",
       "    }\n",
       "  }\n",
       "  function get_bokeh(root) {\n",
       "    if (root.Bokeh === undefined) {\n",
       "      return null\n",
       "    } else if (root.Bokeh.version !== py_version) {\n",
       "      if (root.Bokeh.versions === undefined || !root.Bokeh.versions.has(py_version)) {\n",
       "\treturn null\n",
       "      }\n",
       "      return root.Bokeh.versions.get(py_version);\n",
       "    } else if (root.Bokeh.version === py_version) {\n",
       "      return root.Bokeh\n",
       "    }\n",
       "    return null\n",
       "  }\n",
       "  function is_loaded(root) {\n",
       "    var Bokeh = get_bokeh(root)\n",
       "    return (Bokeh != null && Bokeh.Panel !== undefined)\n",
       "  }\n",
       "  if (is_loaded(root)) {\n",
       "    embed_document(root);\n",
       "  } else {\n",
       "    var attempts = 0;\n",
       "    var timer = setInterval(function(root) {\n",
       "      if (is_loaded(root)) {\n",
       "        clearInterval(timer);\n",
       "        embed_document(root);\n",
       "      } else if (document.readyState == \"complete\") {\n",
       "        attempts++;\n",
       "        if (attempts > 200) {\n",
       "          clearInterval(timer);\n",
       "\t  var Bokeh = get_bokeh(root)\n",
       "\t  if (Bokeh == null || Bokeh.Panel == null) {\n",
       "            console.warn(\"Panel: ERROR: Unable to run Panel code because Bokeh or Panel library is missing\");\n",
       "\t  } else {\n",
       "\t    console.warn(\"Panel: WARNING: Attempting to render but not all required libraries could be resolved.\")\n",
       "\t    embed_document(root)\n",
       "\t  }\n",
       "        }\n",
       "      }\n",
       "    }, 25, root)\n",
       "  }\n",
       "})(window);</script>"
      ],
      "application/vnd.holoviews_exec.v0+json": ""
     },
     "metadata": {
      "application/vnd.holoviews_exec.v0+json": {
       "id": "p1016"
      }
     },
     "output_type": "display_data"
    },
    {
     "data": {
      "text/plain": [
       "<module 'Helper_Functions_Portfolio' from 'C:\\\\Users\\\\Gurjivan\\\\DataspellProjects\\\\finm-portfolio-2024\\\\GSK_HW\\\\Helper_Functions_Portfolio.py'>"
      ]
     },
     "execution_count": 169,
     "metadata": {},
     "output_type": "execute_result"
    }
   ],
   "execution_count": 169
  },
  {
   "metadata": {
    "ExecuteTime": {
     "end_time": "2024-11-18T03:58:08.371453Z",
     "start_time": "2024-11-18T03:58:08.361552Z"
    }
   },
   "cell_type": "code",
   "source": [
    "signals = pl.read_excel(\"..\\data\\gmo_data.xlsx\",sheet_name = \"signals\")\n",
    "rf = pl.read_excel(\"..\\data\\gmo_data.xlsx\",sheet_name = \"risk-free rate\")\n",
    "total_returns = pl.read_excel(\"..\\data\\gmo_data.xlsx\",sheet_name = \"total returns\")"
   ],
   "id": "b40408f4d23e9b7e",
   "outputs": [],
   "execution_count": 170
  },
  {
   "metadata": {
    "ExecuteTime": {
     "end_time": "2024-11-18T03:58:08.452298Z",
     "start_time": "2024-11-18T03:58:08.446532Z"
    }
   },
   "cell_type": "code",
   "source": [
    "excess_returns = total_returns.join(rf,on = \"date\",how = \"inner\").with_columns(\n",
    "    (total_returns[\"GMWAX\"] - (rf[\"TBill 3M\"])/12).alias(\"GMWAX\"),\n",
    "    (total_returns[\"SPY\"] - (rf[\"TBill 3M\"])/12).alias(\"SPY\"),\n",
    "    (total_returns[\"GMGEX\"] - (rf[\"TBill 3M\"])/12).alias(\"GMGEX\")\n",
    ")"
   ],
   "id": "59d3e8cebcbd6748",
   "outputs": [],
   "execution_count": 171
  },
  {
   "metadata": {},
   "cell_type": "markdown",
   "source": "Number 1",
   "id": "2b611fb97ab93050"
  },
  {
   "metadata": {},
   "cell_type": "markdown",
   "source": [
    "This section utilizes data in the file, gmo\n",
    " data.xlsx.\n",
    " Examine GMO’s performance. Use the risk-free rate to convert the total returns to excess returns\n",
    " 1. Calculate the mean, volatility, and Sharpe ratio for GMWAX. Do this for three samples:\n",
    " • from inception through 2011\n",
    " • 2012-present\n",
    " • inception- present\n",
    "\n",
    " Has the mean, vol, and Sharpe changed much since the case?"
   ],
   "id": "c73e25fa9146b659"
  },
  {
   "cell_type": "code",
   "id": "initial_id",
   "metadata": {
    "collapsed": true,
    "ExecuteTime": {
     "end_time": "2024-11-18T03:58:08.527978Z",
     "start_time": "2024-11-18T03:58:08.520803Z"
    }
   },
   "source": [
    "print(\"Before 2012\")\n",
    "GMWAX_excess_2012=excess_returns.select(\"date\",\"GMWAX\").filter((pl.col(\"date\").dt.year())<2012)\n",
    "GMWAX_excess_greater2012=excess_returns.select(\"date\",\"GMWAX\").filter((pl.col(\"date\").dt.year())>2012)\n",
    "GMWAX_excess = excess_returns.select(\"date\",\"GMWAX\")\n",
    "hf.Portfolio_Statistics(GMWAX_excess_2012,annual_factor = 12,quantile=0.05).select(\"Stock\",\"mean\",\"std\",\"sharpe\")"
   ],
   "outputs": [
    {
     "name": "stdout",
     "output_type": "stream",
     "text": [
      "Before 2012\n"
     ]
    },
    {
     "data": {
      "text/plain": [
       "shape: (1, 4)\n",
       "┌───────┬──────────┬──────────┬─────────┐\n",
       "│ Stock ┆ mean     ┆ std      ┆ sharpe  │\n",
       "│ ---   ┆ ---      ┆ ---      ┆ ---     │\n",
       "│ str   ┆ f64      ┆ f64      ┆ f64     │\n",
       "╞═══════╪══════════╪══════════╪═════════╡\n",
       "│ GMWAX ┆ 0.046422 ┆ 0.110499 ┆ 0.42011 │\n",
       "└───────┴──────────┴──────────┴─────────┘"
      ],
      "text/html": [
       "<div><style>\n",
       ".dataframe > thead > tr,\n",
       ".dataframe > tbody > tr {\n",
       "  text-align: right;\n",
       "  white-space: pre-wrap;\n",
       "}\n",
       "</style>\n",
       "<small>shape: (1, 4)</small><table border=\"1\" class=\"dataframe\"><thead><tr><th>Stock</th><th>mean</th><th>std</th><th>sharpe</th></tr><tr><td>str</td><td>f64</td><td>f64</td><td>f64</td></tr></thead><tbody><tr><td>&quot;GMWAX&quot;</td><td>0.046422</td><td>0.110499</td><td>0.42011</td></tr></tbody></table></div>"
      ]
     },
     "execution_count": 172,
     "metadata": {},
     "output_type": "execute_result"
    }
   ],
   "execution_count": 172
  },
  {
   "metadata": {
    "ExecuteTime": {
     "end_time": "2024-11-18T03:58:08.631138Z",
     "start_time": "2024-11-18T03:58:08.619340Z"
    }
   },
   "cell_type": "code",
   "source": [
    "print(\"After 2012\")\n",
    "hf.Portfolio_Statistics(GMWAX_excess_greater2012,annual_factor = 12,quantile=0.05).select(\"Stock\",\"mean\",\"std\",\"sharpe\")\n"
   ],
   "id": "30620cbedd67a04d",
   "outputs": [
    {
     "name": "stdout",
     "output_type": "stream",
     "text": [
      "After 2012\n"
     ]
    },
    {
     "data": {
      "text/plain": [
       "shape: (1, 4)\n",
       "┌───────┬──────────┬──────────┬──────────┐\n",
       "│ Stock ┆ mean     ┆ std      ┆ sharpe   │\n",
       "│ ---   ┆ ---      ┆ ---      ┆ ---      │\n",
       "│ str   ┆ f64      ┆ f64      ┆ f64      │\n",
       "╞═══════╪══════════╪══════════╪══════════╡\n",
       "│ GMWAX ┆ 0.038547 ┆ 0.096626 ┆ 0.398926 │\n",
       "└───────┴──────────┴──────────┴──────────┘"
      ],
      "text/html": [
       "<div><style>\n",
       ".dataframe > thead > tr,\n",
       ".dataframe > tbody > tr {\n",
       "  text-align: right;\n",
       "  white-space: pre-wrap;\n",
       "}\n",
       "</style>\n",
       "<small>shape: (1, 4)</small><table border=\"1\" class=\"dataframe\"><thead><tr><th>Stock</th><th>mean</th><th>std</th><th>sharpe</th></tr><tr><td>str</td><td>f64</td><td>f64</td><td>f64</td></tr></thead><tbody><tr><td>&quot;GMWAX&quot;</td><td>0.038547</td><td>0.096626</td><td>0.398926</td></tr></tbody></table></div>"
      ]
     },
     "execution_count": 173,
     "metadata": {},
     "output_type": "execute_result"
    }
   ],
   "execution_count": 173
  },
  {
   "metadata": {
    "ExecuteTime": {
     "end_time": "2024-11-18T03:58:08.824682Z",
     "start_time": "2024-11-18T03:58:08.805061Z"
    }
   },
   "cell_type": "code",
   "source": [
    "print(\"All\")\n",
    "hf.Portfolio_Statistics(GMWAX_excess,annual_factor = 12,quantile=0.05).select(\"Stock\",\"mean\",\"std\",\"sharpe\")\n"
   ],
   "id": "9e84701db1f02a15",
   "outputs": [
    {
     "name": "stdout",
     "output_type": "stream",
     "text": [
      "All\n"
     ]
    },
    {
     "data": {
      "text/plain": [
       "shape: (1, 4)\n",
       "┌───────┬──────────┬─────────┬─────────┐\n",
       "│ Stock ┆ mean     ┆ std     ┆ sharpe  │\n",
       "│ ---   ┆ ---      ┆ ---     ┆ ---     │\n",
       "│ str   ┆ f64      ┆ f64     ┆ f64     │\n",
       "╞═══════╪══════════╪═════════╪═════════╡\n",
       "│ GMWAX ┆ 0.045043 ┆ 0.10349 ┆ 0.43524 │\n",
       "└───────┴──────────┴─────────┴─────────┘"
      ],
      "text/html": [
       "<div><style>\n",
       ".dataframe > thead > tr,\n",
       ".dataframe > tbody > tr {\n",
       "  text-align: right;\n",
       "  white-space: pre-wrap;\n",
       "}\n",
       "</style>\n",
       "<small>shape: (1, 4)</small><table border=\"1\" class=\"dataframe\"><thead><tr><th>Stock</th><th>mean</th><th>std</th><th>sharpe</th></tr><tr><td>str</td><td>f64</td><td>f64</td><td>f64</td></tr></thead><tbody><tr><td>&quot;GMWAX&quot;</td><td>0.045043</td><td>0.10349</td><td>0.43524</td></tr></tbody></table></div>"
      ]
     },
     "execution_count": 174,
     "metadata": {},
     "output_type": "execute_result"
    }
   ],
   "execution_count": 174
  },
  {
   "metadata": {},
   "cell_type": "markdown",
   "source": "The mean has actually gone done since the beginning of the case as shown in the period 2012 to present. The volatility has also gone down since the case. The Sharpe ratio has also gone down since the case. But the sharpe ratio has also gone down since then",
   "id": "1bfeca325a8fcbb8"
  },
  {
   "metadata": {},
   "cell_type": "markdown",
   "source": [
    "2.  believes a risk premium is compensation for a security’s tendency to lose money at “bad\n",
    " times”. For all three samples, analyze extreme scenarios by looking at\n",
    " • Min return\n",
    " • 5th percentile (VaR-5th)\n",
    " • Maximum drawdown1\n",
    " (a) Does GMWAX have high or low tail-risk as seen by these stats?\n",
    " (b) Does that vary much across the two subsamples?"
   ],
   "id": "1cbba193259d27bb"
  },
  {
   "metadata": {
    "ExecuteTime": {
     "end_time": "2024-11-18T03:58:09.005244Z",
     "start_time": "2024-11-18T03:58:08.984354Z"
    }
   },
   "cell_type": "code",
   "source": [
    "print(\"Before 2012\")\n",
    "hf.Drawdown_Statistics(GMWAX_excess_2012).select(\"Stock\",\"Max_Drawdown\").join(\n",
    "    hf.Portfolio_Statistics(GMWAX_excess_2012,annual_factor = 12,quantile=0.05).select(\n",
    "        \"Stock\",\"VaR\",\"min\"),on = \"Stock\")"
   ],
   "id": "dc2e4489c5055bdd",
   "outputs": [
    {
     "name": "stdout",
     "output_type": "stream",
     "text": [
      "Before 2012\n"
     ]
    },
    {
     "data": {
      "text/plain": [
       "shape: (1, 4)\n",
       "┌───────┬──────────────┬───────────┬──────────┐\n",
       "│ Stock ┆ Max_Drawdown ┆ VaR       ┆ min      │\n",
       "│ ---   ┆ ---          ┆ ---       ┆ ---      │\n",
       "│ str   ┆ f64          ┆ f64       ┆ f64      │\n",
       "╞═══════╪══════════════╪═══════════╪══════════╡\n",
       "│ GMWAX ┆ -0.30652     ┆ -0.044003 ┆ -0.14915 │\n",
       "└───────┴──────────────┴───────────┴──────────┘"
      ],
      "text/html": [
       "<div><style>\n",
       ".dataframe > thead > tr,\n",
       ".dataframe > tbody > tr {\n",
       "  text-align: right;\n",
       "  white-space: pre-wrap;\n",
       "}\n",
       "</style>\n",
       "<small>shape: (1, 4)</small><table border=\"1\" class=\"dataframe\"><thead><tr><th>Stock</th><th>Max_Drawdown</th><th>VaR</th><th>min</th></tr><tr><td>str</td><td>f64</td><td>f64</td><td>f64</td></tr></thead><tbody><tr><td>&quot;GMWAX&quot;</td><td>-0.30652</td><td>-0.044003</td><td>-0.14915</td></tr></tbody></table></div>"
      ]
     },
     "execution_count": 175,
     "metadata": {},
     "output_type": "execute_result"
    }
   ],
   "execution_count": 175
  },
  {
   "metadata": {
    "ExecuteTime": {
     "end_time": "2024-11-18T03:58:09.224607Z",
     "start_time": "2024-11-18T03:58:09.203410Z"
    }
   },
   "cell_type": "code",
   "source": [
    "print(\"After 2012\")\n",
    "hf.Drawdown_Statistics(GMWAX_excess_greater2012).select(\"Stock\", \"Max_Drawdown\").join(\n",
    "    hf.Portfolio_Statistics(GMWAX_excess_greater2012, annual_factor = 12, quantile = 0.05).select(\n",
    "        \"Stock\", \"VaR\", \"min\"), on = \"Stock\")"
   ],
   "id": "4184a1a6855e7a13",
   "outputs": [
    {
     "name": "stdout",
     "output_type": "stream",
     "text": [
      "After 2012\n"
     ]
    },
    {
     "data": {
      "text/plain": [
       "shape: (1, 4)\n",
       "┌───────┬──────────────┬───────────┬───────────┐\n",
       "│ Stock ┆ Max_Drawdown ┆ VaR       ┆ min       │\n",
       "│ ---   ┆ ---          ┆ ---       ┆ ---       │\n",
       "│ str   ┆ f64          ┆ f64       ┆ f64       │\n",
       "╞═══════╪══════════════╪═══════════╪═══════════╡\n",
       "│ GMWAX ┆ -0.225613    ┆ -0.040517 ┆ -0.115018 │\n",
       "└───────┴──────────────┴───────────┴───────────┘"
      ],
      "text/html": [
       "<div><style>\n",
       ".dataframe > thead > tr,\n",
       ".dataframe > tbody > tr {\n",
       "  text-align: right;\n",
       "  white-space: pre-wrap;\n",
       "}\n",
       "</style>\n",
       "<small>shape: (1, 4)</small><table border=\"1\" class=\"dataframe\"><thead><tr><th>Stock</th><th>Max_Drawdown</th><th>VaR</th><th>min</th></tr><tr><td>str</td><td>f64</td><td>f64</td><td>f64</td></tr></thead><tbody><tr><td>&quot;GMWAX&quot;</td><td>-0.225613</td><td>-0.040517</td><td>-0.115018</td></tr></tbody></table></div>"
      ]
     },
     "execution_count": 176,
     "metadata": {},
     "output_type": "execute_result"
    }
   ],
   "execution_count": 176
  },
  {
   "metadata": {
    "ExecuteTime": {
     "end_time": "2024-11-18T03:58:09.451083Z",
     "start_time": "2024-11-18T03:58:09.435981Z"
    }
   },
   "cell_type": "code",
   "source": [
    "print(\"All\")\n",
    "hf.Drawdown_Statistics(GMWAX_excess).select(\"Stock\", \"Max_Drawdown\").join(\n",
    "    hf.Portfolio_Statistics(GMWAX_excess, annual_factor = 12, quantile = 0.05).select(\n",
    "        \"Stock\", \"VaR\", \"min\"), on = \"Stock\")"
   ],
   "id": "e3f4c207650bbbca",
   "outputs": [
    {
     "name": "stdout",
     "output_type": "stream",
     "text": [
      "All\n"
     ]
    },
    {
     "data": {
      "text/plain": [
       "shape: (1, 4)\n",
       "┌───────┬──────────────┬───────────┬──────────┐\n",
       "│ Stock ┆ Max_Drawdown ┆ VaR       ┆ min      │\n",
       "│ ---   ┆ ---          ┆ ---       ┆ ---      │\n",
       "│ str   ┆ f64          ┆ f64       ┆ f64      │\n",
       "╞═══════╪══════════════╪═══════════╪══════════╡\n",
       "│ GMWAX ┆ -0.30652     ┆ -0.041368 ┆ -0.14915 │\n",
       "└───────┴──────────────┴───────────┴──────────┘"
      ],
      "text/html": [
       "<div><style>\n",
       ".dataframe > thead > tr,\n",
       ".dataframe > tbody > tr {\n",
       "  text-align: right;\n",
       "  white-space: pre-wrap;\n",
       "}\n",
       "</style>\n",
       "<small>shape: (1, 4)</small><table border=\"1\" class=\"dataframe\"><thead><tr><th>Stock</th><th>Max_Drawdown</th><th>VaR</th><th>min</th></tr><tr><td>str</td><td>f64</td><td>f64</td><td>f64</td></tr></thead><tbody><tr><td>&quot;GMWAX&quot;</td><td>-0.30652</td><td>-0.041368</td><td>-0.14915</td></tr></tbody></table></div>"
      ]
     },
     "execution_count": 177,
     "metadata": {},
     "output_type": "execute_result"
    }
   ],
   "execution_count": 177
  },
  {
   "metadata": {},
   "cell_type": "markdown",
   "source": [
    "(a) Does GMWAX have high or low tail-risk as seen by these stats?\n",
    "\n",
    "It seems the GMWAX has low tail risk as seen by the stats. The reasons for this include lower expected growth rates and higher current valuations \n",
    "\n",
    " (b) Does that vary much across the two subsamples?\n",
    " \n",
    "Yes, expect the max drawdown, VaR are lower are lower in the earlier subperiod compared to the other periods."
   ],
   "id": "57cf10ee21060b40"
  },
  {
   "metadata": {},
   "cell_type": "markdown",
   "source": "",
   "id": "9ed54632dcf5e549"
  },
  {
   "metadata": {},
   "cell_type": "markdown",
   "source": [
    " 3. For all three samples, regress excess returns of GMWAX on excess returns of SPY.\n",
    " (a) Report the estimated alpha, beta, and r-squared.\n",
    " (b) Is GMWAX a low-beta strategy? Has that changed since the case?\n",
    " (c) Does GMWAX provide alpha? Has that changed across the subsamples?"
   ],
   "id": "ef5f893c53600b7e"
  },
  {
   "metadata": {
    "ExecuteTime": {
     "end_time": "2024-11-18T03:58:09.630880Z",
     "start_time": "2024-11-18T03:58:09.626146Z"
    }
   },
   "cell_type": "code",
   "source": [
    "SPY_excess = excess_returns.select(\"date\",\"SPY\")\n",
    "SPY_excess_2012=excess_returns.select(\"date\",\"SPY\").filter((pl.col(\"date\").dt.year())<2012)\n",
    "SPY_excess_greater2012=excess_returns.select(\"date\",\"SPY\").filter((pl.col(\"date\").dt.year())>2012)"
   ],
   "id": "cd8675b80a54ac8b",
   "outputs": [],
   "execution_count": 178
  },
  {
   "metadata": {
    "ExecuteTime": {
     "end_time": "2024-11-18T03:58:09.784014Z",
     "start_time": "2024-11-18T03:58:09.774004Z"
    }
   },
   "cell_type": "code",
   "source": [
    "print(\"All\")\n",
    "result = hf.Regression_Stats(GMWAX_excess.select(\"GMWAX\"), SPY_excess.select(\"SPY\"), intercept=True, annual_factor=12)\n",
    "filtered_result = result.filter(pl.col(\"Metric\").is_in([\"Annualized Alpha\", \"Beta_SPY\", \"R-Squared\"]))\n",
    "filtered_result"
   ],
   "id": "970ed3253006e4c2",
   "outputs": [
    {
     "name": "stdout",
     "output_type": "stream",
     "text": [
      "All\n"
     ]
    },
    {
     "data": {
      "text/plain": [
       "shape: (3, 2)\n",
       "┌──────────────────┬──────────┐\n",
       "│ Metric           ┆ Value    │\n",
       "│ ---              ┆ ---      │\n",
       "│ str              ┆ f64      │\n",
       "╞══════════════════╪══════════╡\n",
       "│ Beta_SPY         ┆ 0.552608 │\n",
       "│ R-Squared        ┆ 0.680167 │\n",
       "│ Annualized Alpha ┆ 0.000558 │\n",
       "└──────────────────┴──────────┘"
      ],
      "text/html": [
       "<div><style>\n",
       ".dataframe > thead > tr,\n",
       ".dataframe > tbody > tr {\n",
       "  text-align: right;\n",
       "  white-space: pre-wrap;\n",
       "}\n",
       "</style>\n",
       "<small>shape: (3, 2)</small><table border=\"1\" class=\"dataframe\"><thead><tr><th>Metric</th><th>Value</th></tr><tr><td>str</td><td>f64</td></tr></thead><tbody><tr><td>&quot;Beta_SPY&quot;</td><td>0.552608</td></tr><tr><td>&quot;R-Squared&quot;</td><td>0.680167</td></tr><tr><td>&quot;Annualized Alpha&quot;</td><td>0.000558</td></tr></tbody></table></div>"
      ]
     },
     "execution_count": 179,
     "metadata": {},
     "output_type": "execute_result"
    }
   ],
   "execution_count": 179
  },
  {
   "metadata": {
    "ExecuteTime": {
     "end_time": "2024-11-18T03:58:09.974740Z",
     "start_time": "2024-11-18T03:58:09.955399Z"
    }
   },
   "cell_type": "code",
   "source": [
    "print(\"After 2012\")\n",
    "result_2 = hf.Regression_Stats(GMWAX_excess_greater2012.select(\"GMWAX\"), SPY_excess_greater2012.select(\"SPY\"), intercept=True, annual_factor=12)\n",
    "filtered_result_2 = result_2.filter(pl.col(\"Metric\").is_in([\"Annualized Alpha\", \"Beta_SPY\", \"R-Squared\"]))\n",
    "filtered_result_2"
   ],
   "id": "a7c16f7222f07c2b",
   "outputs": [
    {
     "name": "stdout",
     "output_type": "stream",
     "text": [
      "After 2012\n"
     ]
    },
    {
     "data": {
      "text/plain": [
       "shape: (3, 2)\n",
       "┌──────────────────┬───────────┐\n",
       "│ Metric           ┆ Value     │\n",
       "│ ---              ┆ ---       │\n",
       "│ str              ┆ f64       │\n",
       "╞══════════════════╪═══════════╡\n",
       "│ Beta_SPY         ┆ 0.578472  │\n",
       "│ R-Squared        ┆ 0.74425   │\n",
       "│ Annualized Alpha ┆ -0.037384 │\n",
       "└──────────────────┴───────────┘"
      ],
      "text/html": [
       "<div><style>\n",
       ".dataframe > thead > tr,\n",
       ".dataframe > tbody > tr {\n",
       "  text-align: right;\n",
       "  white-space: pre-wrap;\n",
       "}\n",
       "</style>\n",
       "<small>shape: (3, 2)</small><table border=\"1\" class=\"dataframe\"><thead><tr><th>Metric</th><th>Value</th></tr><tr><td>str</td><td>f64</td></tr></thead><tbody><tr><td>&quot;Beta_SPY&quot;</td><td>0.578472</td></tr><tr><td>&quot;R-Squared&quot;</td><td>0.74425</td></tr><tr><td>&quot;Annualized Alpha&quot;</td><td>-0.037384</td></tr></tbody></table></div>"
      ]
     },
     "execution_count": 180,
     "metadata": {},
     "output_type": "execute_result"
    }
   ],
   "execution_count": 180
  },
  {
   "metadata": {
    "ExecuteTime": {
     "end_time": "2024-11-18T03:58:10.140212Z",
     "start_time": "2024-11-18T03:58:10.127757Z"
    }
   },
   "cell_type": "code",
   "source": [
    "print(\"Before 2012\")\n",
    "result_3 = hf.Regression_Stats(GMWAX_excess_2012.select(\"GMWAX\"), SPY_excess_2012.select(\"SPY\"), intercept=True, annual_factor=12)\n",
    "filtered_result_3 = result_3.filter(pl.col(\"Metric\").is_in([\"Annualized Alpha\", \"Beta_SPY\", \"R-Squared\"]))\n",
    "filtered_result_3\n"
   ],
   "id": "183cdb53bdc4de61",
   "outputs": [
    {
     "name": "stdout",
     "output_type": "stream",
     "text": [
      "Before 2012\n"
     ]
    },
    {
     "data": {
      "text/plain": [
       "shape: (3, 2)\n",
       "┌──────────────────┬──────────┐\n",
       "│ Metric           ┆ Value    │\n",
       "│ ---              ┆ ---      │\n",
       "│ str              ┆ f64      │\n",
       "╞══════════════════╪══════════╡\n",
       "│ Beta_SPY         ┆ 0.542128 │\n",
       "│ R-Squared        ┆ 0.648686 │\n",
       "│ Annualized Alpha ┆ 0.027    │\n",
       "└──────────────────┴──────────┘"
      ],
      "text/html": [
       "<div><style>\n",
       ".dataframe > thead > tr,\n",
       ".dataframe > tbody > tr {\n",
       "  text-align: right;\n",
       "  white-space: pre-wrap;\n",
       "}\n",
       "</style>\n",
       "<small>shape: (3, 2)</small><table border=\"1\" class=\"dataframe\"><thead><tr><th>Metric</th><th>Value</th></tr><tr><td>str</td><td>f64</td></tr></thead><tbody><tr><td>&quot;Beta_SPY&quot;</td><td>0.542128</td></tr><tr><td>&quot;R-Squared&quot;</td><td>0.648686</td></tr><tr><td>&quot;Annualized Alpha&quot;</td><td>0.027</td></tr></tbody></table></div>"
      ]
     },
     "execution_count": 181,
     "metadata": {},
     "output_type": "execute_result"
    }
   ],
   "execution_count": 181
  },
  {
   "metadata": {},
   "cell_type": "markdown",
   "source": [
    "(b) Is GMWAX a low-beta strategy? Has that changed since the case?\n",
    "\n",
    "GMWAX is a low beta strategy as the beta is less than 1. The beta has actually gone down since the case.\n",
    "\n",
    " (c) Does GMWAX provide alpha? Has that changed across the subsamples?\n",
    " \n",
    "GMWAX does not provide alpha as the alpha is negative. The alpha before the case were positive but after the case they have been negative."
   ],
   "id": "4776196b4457ff89"
  },
  {
   "metadata": {},
   "cell_type": "markdown",
   "source": [
    " 4. Above, we’ve evaluated GMO’s macro fund, ”GMWAX”, as studied in the case. Now, consider\n",
    " GMO’s equity fund, ”GMGEX”.\n",
    " Compute the performance stats of 3.1-3.3 for GMGEX. What are some of the major differences\n",
    " between these two strategies?"
   ],
   "id": "1b2d6da8bf08d25b"
  },
  {
   "metadata": {
    "ExecuteTime": {
     "end_time": "2024-11-18T03:58:10.317738Z",
     "start_time": "2024-11-18T03:58:10.305Z"
    }
   },
   "cell_type": "code",
   "source": [
    "print(\"Before 2012\")\n",
    "GMGEX_excess_2012=excess_returns.select(\"date\",\"GMGEX\").filter((pl.col(\"date\").dt.year())<2012)\n",
    "GMGEX_excess_greater2012=excess_returns.select(\"date\",\"GMGEX\").filter((pl.col(\"date\").dt.year())>2012)\n",
    "GMGEX_excess = excess_returns.select(\"date\",\"GMGEX\")\n",
    "hf.Portfolio_Statistics(GMGEX_excess_2012,annual_factor = 12,quantile=0.05).select(\"Stock\",\"mean\",\"std\",\"sharpe\")"
   ],
   "id": "a74e191645c4d905",
   "outputs": [
    {
     "name": "stdout",
     "output_type": "stream",
     "text": [
      "Before 2012\n"
     ]
    },
    {
     "data": {
      "text/plain": [
       "shape: (1, 4)\n",
       "┌───────┬───────────┬──────────┬───────────┐\n",
       "│ Stock ┆ mean      ┆ std      ┆ sharpe    │\n",
       "│ ---   ┆ ---       ┆ ---      ┆ ---       │\n",
       "│ str   ┆ f64       ┆ f64      ┆ f64       │\n",
       "╞═══════╪═══════════╪══════════╪═══════════╡\n",
       "│ GMGEX ┆ -0.003823 ┆ 0.147253 ┆ -0.025963 │\n",
       "└───────┴───────────┴──────────┴───────────┘"
      ],
      "text/html": [
       "<div><style>\n",
       ".dataframe > thead > tr,\n",
       ".dataframe > tbody > tr {\n",
       "  text-align: right;\n",
       "  white-space: pre-wrap;\n",
       "}\n",
       "</style>\n",
       "<small>shape: (1, 4)</small><table border=\"1\" class=\"dataframe\"><thead><tr><th>Stock</th><th>mean</th><th>std</th><th>sharpe</th></tr><tr><td>str</td><td>f64</td><td>f64</td><td>f64</td></tr></thead><tbody><tr><td>&quot;GMGEX&quot;</td><td>-0.003823</td><td>0.147253</td><td>-0.025963</td></tr></tbody></table></div>"
      ]
     },
     "execution_count": 182,
     "metadata": {},
     "output_type": "execute_result"
    }
   ],
   "execution_count": 182
  },
  {
   "metadata": {
    "ExecuteTime": {
     "end_time": "2024-11-18T03:58:10.455180Z",
     "start_time": "2024-11-18T03:58:10.444221Z"
    }
   },
   "cell_type": "code",
   "source": [
    "print(\"After 2012\")\n",
    "hf.Portfolio_Statistics(GMGEX_excess_greater2012,annual_factor = 12,quantile=0.05).select(\"Stock\",\"mean\",\"std\",\"sharpe\")\n"
   ],
   "id": "44f452e87323f773",
   "outputs": [
    {
     "name": "stdout",
     "output_type": "stream",
     "text": [
      "After 2012\n"
     ]
    },
    {
     "data": {
      "text/plain": [
       "shape: (1, 4)\n",
       "┌───────┬───────────┬──────────┬───────────┐\n",
       "│ Stock ┆ mean      ┆ std      ┆ sharpe    │\n",
       "│ ---   ┆ ---       ┆ ---      ┆ ---       │\n",
       "│ str   ┆ f64       ┆ f64      ┆ f64       │\n",
       "╞═══════╪═══════════╪══════════╪═══════════╡\n",
       "│ GMGEX ┆ -0.006115 ┆ 0.242852 ┆ -0.025178 │\n",
       "└───────┴───────────┴──────────┴───────────┘"
      ],
      "text/html": [
       "<div><style>\n",
       ".dataframe > thead > tr,\n",
       ".dataframe > tbody > tr {\n",
       "  text-align: right;\n",
       "  white-space: pre-wrap;\n",
       "}\n",
       "</style>\n",
       "<small>shape: (1, 4)</small><table border=\"1\" class=\"dataframe\"><thead><tr><th>Stock</th><th>mean</th><th>std</th><th>sharpe</th></tr><tr><td>str</td><td>f64</td><td>f64</td><td>f64</td></tr></thead><tbody><tr><td>&quot;GMGEX&quot;</td><td>-0.006115</td><td>0.242852</td><td>-0.025178</td></tr></tbody></table></div>"
      ]
     },
     "execution_count": 183,
     "metadata": {},
     "output_type": "execute_result"
    }
   ],
   "execution_count": 183
  },
  {
   "metadata": {
    "ExecuteTime": {
     "end_time": "2024-11-18T03:58:10.727108Z",
     "start_time": "2024-11-18T03:58:10.714292Z"
    }
   },
   "cell_type": "code",
   "source": [
    "print(\"All\")\n",
    "hf.Portfolio_Statistics(GMGEX_excess,annual_factor = 12,quantile=0.05).select(\"Stock\",\"mean\",\"std\",\"sharpe\")\n"
   ],
   "id": "7054cd9d6f1ff754",
   "outputs": [
    {
     "name": "stdout",
     "output_type": "stream",
     "text": [
      "All\n"
     ]
    },
    {
     "data": {
      "text/plain": [
       "shape: (1, 4)\n",
       "┌───────┬───────────┬──────────┬───────────┐\n",
       "│ Stock ┆ mean      ┆ std      ┆ sharpe    │\n",
       "│ ---   ┆ ---       ┆ ---      ┆ ---       │\n",
       "│ str   ┆ f64       ┆ f64      ┆ f64       │\n",
       "╞═══════╪═══════════╪══════════╪═══════════╡\n",
       "│ GMGEX ┆ -0.001463 ┆ 0.192622 ┆ -0.007595 │\n",
       "└───────┴───────────┴──────────┴───────────┘"
      ],
      "text/html": [
       "<div><style>\n",
       ".dataframe > thead > tr,\n",
       ".dataframe > tbody > tr {\n",
       "  text-align: right;\n",
       "  white-space: pre-wrap;\n",
       "}\n",
       "</style>\n",
       "<small>shape: (1, 4)</small><table border=\"1\" class=\"dataframe\"><thead><tr><th>Stock</th><th>mean</th><th>std</th><th>sharpe</th></tr><tr><td>str</td><td>f64</td><td>f64</td><td>f64</td></tr></thead><tbody><tr><td>&quot;GMGEX&quot;</td><td>-0.001463</td><td>0.192622</td><td>-0.007595</td></tr></tbody></table></div>"
      ]
     },
     "execution_count": 184,
     "metadata": {},
     "output_type": "execute_result"
    }
   ],
   "execution_count": 184
  },
  {
   "metadata": {
    "ExecuteTime": {
     "end_time": "2024-11-18T03:58:10.991190Z",
     "start_time": "2024-11-18T03:58:10.975774Z"
    }
   },
   "cell_type": "code",
   "source": [
    "print(\"Before 2012\")\n",
    "hf.Drawdown_Statistics(GMGEX_excess_2012).select(\"Stock\",\"Max_Drawdown\").join(\n",
    "    hf.Portfolio_Statistics(GMGEX_excess_2012,annual_factor = 12,quantile=0.05).select(\n",
    "        \"Stock\",\"VaR\",\"min\"),on = \"Stock\")"
   ],
   "id": "27efd890aad657f4",
   "outputs": [
    {
     "name": "stdout",
     "output_type": "stream",
     "text": [
      "Before 2012\n"
     ]
    },
    {
     "data": {
      "text/plain": [
       "shape: (1, 4)\n",
       "┌───────┬──────────────┬───────────┬───────────┐\n",
       "│ Stock ┆ Max_Drawdown ┆ VaR       ┆ min       │\n",
       "│ ---   ┆ ---          ┆ ---       ┆ ---       │\n",
       "│ str   ┆ f64          ┆ f64       ┆ f64       │\n",
       "╞═══════╪══════════════╪═══════════╪═══════════╡\n",
       "│ GMGEX ┆ -0.563989    ┆ -0.082292 ┆ -0.151592 │\n",
       "└───────┴──────────────┴───────────┴───────────┘"
      ],
      "text/html": [
       "<div><style>\n",
       ".dataframe > thead > tr,\n",
       ".dataframe > tbody > tr {\n",
       "  text-align: right;\n",
       "  white-space: pre-wrap;\n",
       "}\n",
       "</style>\n",
       "<small>shape: (1, 4)</small><table border=\"1\" class=\"dataframe\"><thead><tr><th>Stock</th><th>Max_Drawdown</th><th>VaR</th><th>min</th></tr><tr><td>str</td><td>f64</td><td>f64</td><td>f64</td></tr></thead><tbody><tr><td>&quot;GMGEX&quot;</td><td>-0.563989</td><td>-0.082292</td><td>-0.151592</td></tr></tbody></table></div>"
      ]
     },
     "execution_count": 185,
     "metadata": {},
     "output_type": "execute_result"
    }
   ],
   "execution_count": 185
  },
  {
   "metadata": {
    "ExecuteTime": {
     "end_time": "2024-11-18T03:58:11.193384Z",
     "start_time": "2024-11-18T03:58:11.180689Z"
    }
   },
   "cell_type": "code",
   "source": [
    "print(\"All\")\n",
    "hf.Drawdown_Statistics(GMGEX_excess).select(\"Stock\",\"Max_Drawdown\").join(\n",
    "    hf.Portfolio_Statistics(GMGEX_excess,annual_factor = 12,quantile=0.05).select(\n",
    "        \"Stock\",\"VaR\",\"min\"),on = \"Stock\")"
   ],
   "id": "9784c120431c502a",
   "outputs": [
    {
     "name": "stdout",
     "output_type": "stream",
     "text": [
      "All\n"
     ]
    },
    {
     "data": {
      "text/plain": [
       "shape: (1, 4)\n",
       "┌───────┬──────────────┬───────────┬───────────┐\n",
       "│ Stock ┆ Max_Drawdown ┆ VaR       ┆ min       │\n",
       "│ ---   ┆ ---          ┆ ---       ┆ ---       │\n",
       "│ str   ┆ f64          ┆ f64       ┆ f64       │\n",
       "╞═══════╪══════════════╪═══════════╪═══════════╡\n",
       "│ GMGEX ┆ -0.768086    ┆ -0.076213 ┆ -0.658863 │\n",
       "└───────┴──────────────┴───────────┴───────────┘"
      ],
      "text/html": [
       "<div><style>\n",
       ".dataframe > thead > tr,\n",
       ".dataframe > tbody > tr {\n",
       "  text-align: right;\n",
       "  white-space: pre-wrap;\n",
       "}\n",
       "</style>\n",
       "<small>shape: (1, 4)</small><table border=\"1\" class=\"dataframe\"><thead><tr><th>Stock</th><th>Max_Drawdown</th><th>VaR</th><th>min</th></tr><tr><td>str</td><td>f64</td><td>f64</td><td>f64</td></tr></thead><tbody><tr><td>&quot;GMGEX&quot;</td><td>-0.768086</td><td>-0.076213</td><td>-0.658863</td></tr></tbody></table></div>"
      ]
     },
     "execution_count": 186,
     "metadata": {},
     "output_type": "execute_result"
    }
   ],
   "execution_count": 186
  },
  {
   "metadata": {
    "ExecuteTime": {
     "end_time": "2024-11-18T03:58:11.409927Z",
     "start_time": "2024-11-18T03:58:11.388710Z"
    }
   },
   "cell_type": "code",
   "source": [
    "print(\"After 2012\")\n",
    "hf.Drawdown_Statistics(GMGEX_excess_greater2012).select(\"Stock\",\"Max_Drawdown\").join(\n",
    "    hf.Portfolio_Statistics(GMGEX_excess_greater2012,annual_factor = 12,quantile=0.05).select(\n",
    "        \"Stock\",\"VaR\",\"min\"),on = \"Stock\")\n"
   ],
   "id": "b1ab732d5c0b20bd",
   "outputs": [
    {
     "name": "stdout",
     "output_type": "stream",
     "text": [
      "After 2012\n"
     ]
    },
    {
     "data": {
      "text/plain": [
       "shape: (1, 4)\n",
       "┌───────┬──────────────┬───────────┬───────────┐\n",
       "│ Stock ┆ Max_Drawdown ┆ VaR       ┆ min       │\n",
       "│ ---   ┆ ---          ┆ ---       ┆ ---       │\n",
       "│ str   ┆ f64          ┆ f64       ┆ f64       │\n",
       "╞═══════╪══════════════╪═══════════╪═══════════╡\n",
       "│ GMGEX ┆ -0.738304    ┆ -0.066255 ┆ -0.658863 │\n",
       "└───────┴──────────────┴───────────┴───────────┘"
      ],
      "text/html": [
       "<div><style>\n",
       ".dataframe > thead > tr,\n",
       ".dataframe > tbody > tr {\n",
       "  text-align: right;\n",
       "  white-space: pre-wrap;\n",
       "}\n",
       "</style>\n",
       "<small>shape: (1, 4)</small><table border=\"1\" class=\"dataframe\"><thead><tr><th>Stock</th><th>Max_Drawdown</th><th>VaR</th><th>min</th></tr><tr><td>str</td><td>f64</td><td>f64</td><td>f64</td></tr></thead><tbody><tr><td>&quot;GMGEX&quot;</td><td>-0.738304</td><td>-0.066255</td><td>-0.658863</td></tr></tbody></table></div>"
      ]
     },
     "execution_count": 187,
     "metadata": {},
     "output_type": "execute_result"
    }
   ],
   "execution_count": 187
  },
  {
   "metadata": {
    "ExecuteTime": {
     "end_time": "2024-11-18T03:58:11.616481Z",
     "start_time": "2024-11-18T03:58:11.608635Z"
    }
   },
   "cell_type": "code",
   "source": [
    "print(\"All\")\n",
    "result_4 = hf.Regression_Stats(GMGEX_excess.select(\"GMGEX\"), SPY_excess.select(\"SPY\"), intercept=True, annual_factor=12)\n",
    "filtered_result_4 = result_4.filter(pl.col(\"Metric\").is_in([\"Annualized Alpha\", \"Beta_SPY\", \"R-Squared\"]))\n",
    "filtered_result_4"
   ],
   "id": "68ca98410a0d000f",
   "outputs": [
    {
     "name": "stdout",
     "output_type": "stream",
     "text": [
      "All\n"
     ]
    },
    {
     "data": {
      "text/plain": [
       "shape: (3, 2)\n",
       "┌──────────────────┬──────────┐\n",
       "│ Metric           ┆ Value    │\n",
       "│ ---              ┆ ---      │\n",
       "│ str              ┆ f64      │\n",
       "╞══════════════════╪══════════╡\n",
       "│ Beta_SPY         ┆ 0.786683 │\n",
       "│ R-Squared        ┆ 0.397891 │\n",
       "│ Annualized Alpha ┆ -0.06479 │\n",
       "└──────────────────┴──────────┘"
      ],
      "text/html": [
       "<div><style>\n",
       ".dataframe > thead > tr,\n",
       ".dataframe > tbody > tr {\n",
       "  text-align: right;\n",
       "  white-space: pre-wrap;\n",
       "}\n",
       "</style>\n",
       "<small>shape: (3, 2)</small><table border=\"1\" class=\"dataframe\"><thead><tr><th>Metric</th><th>Value</th></tr><tr><td>str</td><td>f64</td></tr></thead><tbody><tr><td>&quot;Beta_SPY&quot;</td><td>0.786683</td></tr><tr><td>&quot;R-Squared&quot;</td><td>0.397891</td></tr><tr><td>&quot;Annualized Alpha&quot;</td><td>-0.06479</td></tr></tbody></table></div>"
      ]
     },
     "execution_count": 188,
     "metadata": {},
     "output_type": "execute_result"
    }
   ],
   "execution_count": 188
  },
  {
   "metadata": {
    "ExecuteTime": {
     "end_time": "2024-11-18T03:58:11.821766Z",
     "start_time": "2024-11-18T03:58:11.801129Z"
    }
   },
   "cell_type": "code",
   "source": [
    "print(\"Before 2012\")\n",
    "result_5 = hf.Regression_Stats(GMGEX_excess_2012.select(\"GMGEX\"), SPY_excess_2012.select(\"SPY\"), intercept=True, annual_factor=12)\n",
    "filtered_result_5 = result_5.filter(pl.col(\"Metric\").is_in([\"Annualized Alpha\", \"Beta_SPY\", \"R-Squared\"]))\n",
    "filtered_result_5"
   ],
   "id": "2e7843b73052be73",
   "outputs": [
    {
     "name": "stdout",
     "output_type": "stream",
     "text": [
      "Before 2012\n"
     ]
    },
    {
     "data": {
      "text/plain": [
       "shape: (3, 2)\n",
       "┌──────────────────┬───────────┐\n",
       "│ Metric           ┆ Value     │\n",
       "│ ---              ┆ ---       │\n",
       "│ str              ┆ f64       │\n",
       "╞══════════════════╪═══════════╡\n",
       "│ Beta_SPY         ┆ 0.764237  │\n",
       "│ R-Squared        ┆ 0.725898  │\n",
       "│ Annualized Alpha ┆ -0.031201 │\n",
       "└──────────────────┴───────────┘"
      ],
      "text/html": [
       "<div><style>\n",
       ".dataframe > thead > tr,\n",
       ".dataframe > tbody > tr {\n",
       "  text-align: right;\n",
       "  white-space: pre-wrap;\n",
       "}\n",
       "</style>\n",
       "<small>shape: (3, 2)</small><table border=\"1\" class=\"dataframe\"><thead><tr><th>Metric</th><th>Value</th></tr><tr><td>str</td><td>f64</td></tr></thead><tbody><tr><td>&quot;Beta_SPY&quot;</td><td>0.764237</td></tr><tr><td>&quot;R-Squared&quot;</td><td>0.725898</td></tr><tr><td>&quot;Annualized Alpha&quot;</td><td>-0.031201</td></tr></tbody></table></div>"
      ]
     },
     "execution_count": 189,
     "metadata": {},
     "output_type": "execute_result"
    }
   ],
   "execution_count": 189
  },
  {
   "metadata": {
    "ExecuteTime": {
     "end_time": "2024-11-18T03:58:12.003783Z",
     "start_time": "2024-11-18T03:58:11.996147Z"
    }
   },
   "cell_type": "code",
   "source": [
    "print(\"After 2012\")\n",
    "result_6 = hf.Regression_Stats(GMGEX_excess_greater2012.select(\"GMGEX\"), SPY_excess_greater2012.select(\"SPY\"), intercept=True, annual_factor=12)\n",
    "filtered_result_6 = result_6.filter(pl.col(\"Metric\").is_in([\"Annualized Alpha\", \"Beta_SPY\", \"R-Squared\"]))\n",
    "filtered_result_6"
   ],
   "id": "f7dc193cb23e780d",
   "outputs": [
    {
     "name": "stdout",
     "output_type": "stream",
     "text": [
      "After 2012\n"
     ]
    },
    {
     "data": {
      "text/plain": [
       "shape: (3, 2)\n",
       "┌──────────────────┬───────────┐\n",
       "│ Metric           ┆ Value     │\n",
       "│ ---              ┆ ---       │\n",
       "│ str              ┆ f64       │\n",
       "╞══════════════════╪═══════════╡\n",
       "│ Beta_SPY         ┆ 0.827185  │\n",
       "│ R-Squared        ┆ 0.240914  │\n",
       "│ Annualized Alpha ┆ -0.114691 │\n",
       "└──────────────────┴───────────┘"
      ],
      "text/html": [
       "<div><style>\n",
       ".dataframe > thead > tr,\n",
       ".dataframe > tbody > tr {\n",
       "  text-align: right;\n",
       "  white-space: pre-wrap;\n",
       "}\n",
       "</style>\n",
       "<small>shape: (3, 2)</small><table border=\"1\" class=\"dataframe\"><thead><tr><th>Metric</th><th>Value</th></tr><tr><td>str</td><td>f64</td></tr></thead><tbody><tr><td>&quot;Beta_SPY&quot;</td><td>0.827185</td></tr><tr><td>&quot;R-Squared&quot;</td><td>0.240914</td></tr><tr><td>&quot;Annualized Alpha&quot;</td><td>-0.114691</td></tr></tbody></table></div>"
      ]
     },
     "execution_count": 190,
     "metadata": {},
     "output_type": "execute_result"
    }
   ],
   "execution_count": 190
  },
  {
   "metadata": {},
   "cell_type": "markdown",
   "source": [
    "Compute the performance stats of 3.1-3.3 for GMGEX. What are some of the major differences\n",
    " between these two strategies?\n",
    " \n",
    "GMGEX first of all appears to have negative mean returns no matter which period showing that it has underporfomred GWMAX. In addition to this it takes on alot more risk as the drawdown were much greater almost 70% compared to around 40% for GMWAX. The VaR was also much higher for GMGEX. The beta for GMGEX was also much higher than GMWAX. The alpha was also negative for GMGEX."
   ],
   "id": "b822ad59d7274867"
  },
  {
   "metadata": {},
   "cell_type": "markdown",
   "source": [
    "3- This section utilizes data in the file, gmo\n",
    " data.xlsx.\n",
    " 1. Consider the lagged regression, where the regressor, (X,) is a period behind the target, (rSPY).\n",
    " rSPY\n",
    " t\n",
    " =αSPY,X +(βSPY,X)′Xt−1 +ϵSPY,X\n",
    " t\n",
    " Estimate (1) and report the R2, as well as the OLS estimates for α and β. Do this for...\n",
    " 1This should be calculated on GMWAX total returns, not excess returns.\n",
    " (1)\n",
    " 2\n",
    "• X as a single regressor, the dividend-price ratio.\n",
    " • X as a single regressor, the earnings-price ratio.\n",
    " • X as three regressors, the dividend-price ratio, the earnings-price ratio, and the 10-year\n",
    " yield.\n",
    " For each, report the r-squared.\n",
    "\n",
    "\n",
    " 2. For each of the three regressions, let’s try to utilize the resulting forecast in a trading strategy.\n",
    " • Build the forecasted SPY returns: ˆ rSPY\n",
    " t+1 . Note that this denotes the forecast made using\n",
    " Xt to forecast the (t +1) return.\n",
    " • Set the scale of the investment in SPY equal to 100 times the forecasted value:\n",
    " wt =100 ˆ rSPY\n",
    " t+1\n",
    " We are not taking this scaling too seriously. We just want the strategy to go bigger in\n",
    " periods where the forecast is high and to withdraw in periods where the forecast is low, or\n",
    " even negative.\n",
    " • Calculate the return on this strategy:\n",
    " rx\n",
    " t+1 = wtrSPY\n",
    " t+1\n",
    " You should now have the trading strategy returns, rx for each of the forecasts. For each strategy,\n",
    " estimate\n",
    " • mean, volatility, Sharpe,\n",
    " • max-drawdown\n",
    " • market alpha\n",
    " • market beta\n",
    " • market Information ratio\n",
    "\n",
    "\n",
    " 3. GMO believes a risk premium is compensation for a security’s tendency to lose money at “bad\n",
    " times”. Let’s consider risk characteristics.\n",
    " (a) For both strategies, the market, and GMO, calculate the monthly VaR for π = .05. Just\n",
    " use the quantile of the historic data for this VaR calculation.\n",
    " (b) The GMO case mentions that stocks under-performed short-term bonds from 2000-2011.\n",
    " Does the dynamic portfolio above under-perform the risk-free rate over this time?\n",
    " (c) Based on the regression estimates, in how many periods do we estimate a negative risk\n",
    " premium?\n",
    " (d) Do you believe the dynamic strategy takes on extra risk??"
   ],
   "id": "c4deba45a3766c61"
  },
  {
   "metadata": {},
   "cell_type": "markdown",
   "source": "3.1",
   "id": "832fb5f858126814"
  },
  {
   "metadata": {
    "ExecuteTime": {
     "end_time": "2024-11-18T03:58:12.180640Z",
     "start_time": "2024-11-18T03:58:12.151332Z"
    }
   },
   "cell_type": "code",
   "source": [
    "gmo_total_ret = pd.read_excel('../data/gmo_data.xlsx',sheet_name = 'total returns', index_col = 0)\n",
    "gmo_total_ret.index.name = 'Date'"
   ],
   "id": "463441524ed6bb8d",
   "outputs": [],
   "execution_count": 191
  },
  {
   "metadata": {
    "ExecuteTime": {
     "end_time": "2024-11-18T03:58:12.284130Z",
     "start_time": "2024-11-18T03:58:12.255251Z"
    }
   },
   "cell_type": "code",
   "source": [
    "path = \"../data/gmo_data.xlsx\"\n",
    "rf = pd.read_excel(path,sheet_name = 'risk-free rate', index_col = 0)\n",
    "rf.index.name = 'Date'"
   ],
   "id": "eacb5ed2d8ab5ae9",
   "outputs": [],
   "execution_count": 192
  },
  {
   "metadata": {
    "ExecuteTime": {
     "end_time": "2024-11-18T03:58:12.460588Z",
     "start_time": "2024-11-18T03:58:12.423799Z"
    }
   },
   "cell_type": "code",
   "source": [
    "path = \"../data/gmo_data.xlsx\"\n",
    "gmo_signals = pd.read_excel(path,sheet_name = 'signals', index_col = 0)\n",
    "gmo_signals.index.name = 'Date'"
   ],
   "id": "fc8331934e507f51",
   "outputs": [],
   "execution_count": 193
  },
  {
   "metadata": {
    "ExecuteTime": {
     "end_time": "2024-11-18T03:58:12.540139Z",
     "start_time": "2024-11-18T03:58:12.528253Z"
    }
   },
   "cell_type": "code",
   "source": [
    "gmo_excess_ret = gmo_total_ret.copy()\n",
    "for col in gmo_excess_ret.columns:\n",
    "    gmo_excess_ret[col] = gmo_excess_ret[col] - rf['TBill 3M']\n",
    "\n",
    "gmo_excess_ret.tail()"
   ],
   "id": "a4e5cc2a482602fc",
   "outputs": [
    {
     "data": {
      "text/plain": [
       "               SPY   GMWAX   GMGEX\n",
       "Date                              \n",
       "2024-06-28 -0.0183 -0.0607 -0.0666\n",
       "2024-07-31 -0.0407 -0.0224 -0.0182\n",
       "2024-08-30 -0.0278 -0.0364 -0.0316\n",
       "2024-09-30 -0.0252 -0.0337 -0.0308\n",
       "2024-10-31 -0.0543 -0.0823 -0.0849"
      ],
      "text/html": [
       "<div>\n",
       "<style scoped>\n",
       "    .dataframe tbody tr th:only-of-type {\n",
       "        vertical-align: middle;\n",
       "    }\n",
       "\n",
       "    .dataframe tbody tr th {\n",
       "        vertical-align: top;\n",
       "    }\n",
       "\n",
       "    .dataframe thead th {\n",
       "        text-align: right;\n",
       "    }\n",
       "</style>\n",
       "<table border=\"1\" class=\"dataframe\">\n",
       "  <thead>\n",
       "    <tr style=\"text-align: right;\">\n",
       "      <th></th>\n",
       "      <th>SPY</th>\n",
       "      <th>GMWAX</th>\n",
       "      <th>GMGEX</th>\n",
       "    </tr>\n",
       "    <tr>\n",
       "      <th>Date</th>\n",
       "      <th></th>\n",
       "      <th></th>\n",
       "      <th></th>\n",
       "    </tr>\n",
       "  </thead>\n",
       "  <tbody>\n",
       "    <tr>\n",
       "      <th>2024-06-28</th>\n",
       "      <td>-0.0183</td>\n",
       "      <td>-0.0607</td>\n",
       "      <td>-0.0666</td>\n",
       "    </tr>\n",
       "    <tr>\n",
       "      <th>2024-07-31</th>\n",
       "      <td>-0.0407</td>\n",
       "      <td>-0.0224</td>\n",
       "      <td>-0.0182</td>\n",
       "    </tr>\n",
       "    <tr>\n",
       "      <th>2024-08-30</th>\n",
       "      <td>-0.0278</td>\n",
       "      <td>-0.0364</td>\n",
       "      <td>-0.0316</td>\n",
       "    </tr>\n",
       "    <tr>\n",
       "      <th>2024-09-30</th>\n",
       "      <td>-0.0252</td>\n",
       "      <td>-0.0337</td>\n",
       "      <td>-0.0308</td>\n",
       "    </tr>\n",
       "    <tr>\n",
       "      <th>2024-10-31</th>\n",
       "      <td>-0.0543</td>\n",
       "      <td>-0.0823</td>\n",
       "      <td>-0.0849</td>\n",
       "    </tr>\n",
       "  </tbody>\n",
       "</table>\n",
       "</div>"
      ]
     },
     "execution_count": 194,
     "metadata": {},
     "output_type": "execute_result"
    }
   ],
   "execution_count": 194
  },
  {
   "metadata": {
    "ExecuteTime": {
     "end_time": "2024-11-18T03:58:12.643097Z",
     "start_time": "2024-11-18T03:58:12.636630Z"
    }
   },
   "cell_type": "code",
   "source": [
    "def time_series_regression(portfolio, factors, multiple_factors = False, resid = False):\n",
    "    \n",
    "    ff_report = pd.DataFrame(index=portfolio.columns)\n",
    "    bm_residuals = pd.DataFrame(columns=portfolio.columns)\n",
    "\n",
    "    rhs = sm.add_constant(factors)\n",
    "\n",
    "    for portf in portfolio.columns:\n",
    "        lhs = portfolio[portf]\n",
    "        res = sm.OLS(lhs, rhs, missing='drop').fit()\n",
    "        ff_report.loc[portf, 'alpha_hat'] = res.params['const'] * 12\n",
    "        if multiple_factors:\n",
    "            ff_report.loc[portf, factors.columns[0] + ' beta'] = res.params[1]\n",
    "            ff_report.loc[portf, factors.columns[1]+ ' beta'] = res.params[2] \n",
    "            ff_report.loc[portf, factors.columns[2]+ ' beta'] = res.params[3]\n",
    "        else:\n",
    "            ff_report.loc[portf, factors.name + ' beta'] = res.params[1]\n",
    "\n",
    "            \n",
    "        ff_report.loc[portf, 'info_ratio'] = np.sqrt(12) * res.params['const'] / res.resid.std()\n",
    "        ff_report.loc[portf, 'treynor_ratio'] = 12 * portfolio[portf].mean() / res.params[1]\n",
    "        ff_report.loc[portf, 'R-squared'] = res.rsquared\n",
    "        ff_report.loc[portf, 'Tracking Error'] = (res.resid.std()*np.sqrt(12))\n",
    "\n",
    "        if resid:\n",
    "            bm_residuals[portf] = res.resid\n",
    "            \n",
    "            \n",
    "        \n",
    "    if resid:\n",
    "        return bm_residuals\n",
    "        \n",
    "    return ff_report"
   ],
   "id": "2d20e96a163f92f3",
   "outputs": [],
   "execution_count": 195
  },
  {
   "metadata": {
    "ExecuteTime": {
     "end_time": "2024-11-18T03:58:12.733514Z",
     "start_time": "2024-11-18T03:58:12.694630Z"
    }
   },
   "cell_type": "code",
   "source": [
    "SPY = gmo_total_ret.loc[:,['SPY']]\n",
    "signal_1 = ['SPX DVD YLD']\n",
    "factor_1 = gmo_signals.loc[:,signal_1].shift(1).squeeze()\n",
    "factor_1 = pd.Series(factor_1)\n",
    "signal_reg_1 = time_series_regression(SPY, factor_1, multiple_factors=False, resid=False)\n",
    "signal_reg_1.index = ['SPX DVD YLD']\n",
    "signal_reg_1\n",
    "\n",
    "\n",
    "signal_2 = ['SPX P/E']\n",
    "factor_2 = gmo_signals.loc[:,signal_2].shift(1).squeeze()\n",
    "signal_reg_2 = time_series_regression(SPY, factor_2, multiple_factors=False, resid=False)\n",
    "signal_reg_2.index = ['SPX P/E']\n",
    "signal_reg_2\n",
    "\n",
    "\n",
    "signal_3 = ['SPX DVD YLD','SPX P/E','TNote 10YR']\n",
    "factor_3 = gmo_signals.loc[:,['SPX DVD YLD','SPX P/E','TNote 10YR']].shift(1)\n",
    "signal_reg_3 = time_series_regression(SPY, factor_3, multiple_factors=True, resid=False)\n",
    "signal_reg_3.index = ['SPX DVD YLD,SPX P/E,TNote 10YR']\n",
    "\n",
    "display(signal_reg_1,signal_reg_2,signal_reg_3)"
   ],
   "id": "1b1baf275fe74226",
   "outputs": [
    {
     "data": {
      "text/plain": [
       "             alpha_hat  SPX DVD YLD beta  info_ratio  treynor_ratio  \\\n",
       "SPX DVD YLD    -0.1321            0.0108     -0.8589         9.4503   \n",
       "\n",
       "             R-squared  Tracking Error  \n",
       "SPX DVD YLD     0.0094          0.1538  "
      ],
      "text/html": [
       "<div>\n",
       "<style scoped>\n",
       "    .dataframe tbody tr th:only-of-type {\n",
       "        vertical-align: middle;\n",
       "    }\n",
       "\n",
       "    .dataframe tbody tr th {\n",
       "        vertical-align: top;\n",
       "    }\n",
       "\n",
       "    .dataframe thead th {\n",
       "        text-align: right;\n",
       "    }\n",
       "</style>\n",
       "<table border=\"1\" class=\"dataframe\">\n",
       "  <thead>\n",
       "    <tr style=\"text-align: right;\">\n",
       "      <th></th>\n",
       "      <th>alpha_hat</th>\n",
       "      <th>SPX DVD YLD beta</th>\n",
       "      <th>info_ratio</th>\n",
       "      <th>treynor_ratio</th>\n",
       "      <th>R-squared</th>\n",
       "      <th>Tracking Error</th>\n",
       "    </tr>\n",
       "  </thead>\n",
       "  <tbody>\n",
       "    <tr>\n",
       "      <th>SPX DVD YLD</th>\n",
       "      <td>-0.1321</td>\n",
       "      <td>0.0108</td>\n",
       "      <td>-0.8589</td>\n",
       "      <td>9.4503</td>\n",
       "      <td>0.0094</td>\n",
       "      <td>0.1538</td>\n",
       "    </tr>\n",
       "  </tbody>\n",
       "</table>\n",
       "</div>"
      ]
     },
     "metadata": {},
     "output_type": "display_data"
    },
    {
     "data": {
      "text/plain": [
       "         alpha_hat  SPX P/E beta  info_ratio  treynor_ratio  R-squared  \\\n",
       "SPX P/E     0.2564       -0.0006      1.6627      -158.0849     0.0039   \n",
       "\n",
       "         Tracking Error  \n",
       "SPX P/E          0.1542  "
      ],
      "text/html": [
       "<div>\n",
       "<style scoped>\n",
       "    .dataframe tbody tr th:only-of-type {\n",
       "        vertical-align: middle;\n",
       "    }\n",
       "\n",
       "    .dataframe tbody tr th {\n",
       "        vertical-align: top;\n",
       "    }\n",
       "\n",
       "    .dataframe thead th {\n",
       "        text-align: right;\n",
       "    }\n",
       "</style>\n",
       "<table border=\"1\" class=\"dataframe\">\n",
       "  <thead>\n",
       "    <tr style=\"text-align: right;\">\n",
       "      <th></th>\n",
       "      <th>alpha_hat</th>\n",
       "      <th>SPX P/E beta</th>\n",
       "      <th>info_ratio</th>\n",
       "      <th>treynor_ratio</th>\n",
       "      <th>R-squared</th>\n",
       "      <th>Tracking Error</th>\n",
       "    </tr>\n",
       "  </thead>\n",
       "  <tbody>\n",
       "    <tr>\n",
       "      <th>SPX P/E</th>\n",
       "      <td>0.2564</td>\n",
       "      <td>-0.0006</td>\n",
       "      <td>1.6627</td>\n",
       "      <td>-158.0849</td>\n",
       "      <td>0.0039</td>\n",
       "      <td>0.1542</td>\n",
       "    </tr>\n",
       "  </tbody>\n",
       "</table>\n",
       "</div>"
      ]
     },
     "metadata": {},
     "output_type": "display_data"
    },
    {
     "data": {
      "text/plain": [
       "                                alpha_hat  SPX DVD YLD beta  SPX P/E beta  \\\n",
       "SPX DVD YLD,SPX P/E,TNote 10YR    -0.1850            0.0118        0.0003   \n",
       "\n",
       "                                TNote 10YR beta  info_ratio  treynor_ratio  \\\n",
       "SPX DVD YLD,SPX P/E,TNote 10YR          -0.0007     -1.2034         8.6703   \n",
       "\n",
       "                                R-squared  Tracking Error  \n",
       "SPX DVD YLD,SPX P/E,TNote 10YR     0.0102          0.1537  "
      ],
      "text/html": [
       "<div>\n",
       "<style scoped>\n",
       "    .dataframe tbody tr th:only-of-type {\n",
       "        vertical-align: middle;\n",
       "    }\n",
       "\n",
       "    .dataframe tbody tr th {\n",
       "        vertical-align: top;\n",
       "    }\n",
       "\n",
       "    .dataframe thead th {\n",
       "        text-align: right;\n",
       "    }\n",
       "</style>\n",
       "<table border=\"1\" class=\"dataframe\">\n",
       "  <thead>\n",
       "    <tr style=\"text-align: right;\">\n",
       "      <th></th>\n",
       "      <th>alpha_hat</th>\n",
       "      <th>SPX DVD YLD beta</th>\n",
       "      <th>SPX P/E beta</th>\n",
       "      <th>TNote 10YR beta</th>\n",
       "      <th>info_ratio</th>\n",
       "      <th>treynor_ratio</th>\n",
       "      <th>R-squared</th>\n",
       "      <th>Tracking Error</th>\n",
       "    </tr>\n",
       "  </thead>\n",
       "  <tbody>\n",
       "    <tr>\n",
       "      <th>SPX DVD YLD,SPX P/E,TNote 10YR</th>\n",
       "      <td>-0.1850</td>\n",
       "      <td>0.0118</td>\n",
       "      <td>0.0003</td>\n",
       "      <td>-0.0007</td>\n",
       "      <td>-1.2034</td>\n",
       "      <td>8.6703</td>\n",
       "      <td>0.0102</td>\n",
       "      <td>0.1537</td>\n",
       "    </tr>\n",
       "  </tbody>\n",
       "</table>\n",
       "</div>"
      ]
     },
     "metadata": {},
     "output_type": "display_data"
    }
   ],
   "execution_count": 196
  },
  {
   "metadata": {},
   "cell_type": "markdown",
   "source": [
    "### 3.2) For each of the three regressions, let’s try to utilize the resulting forecast in a trading strategy.\n",
    "- Build the forecasted SPY returns: $\\hat{r}^{SPY}_{t+1}$. Note that this denotes the forecast made using $X_t$ to forecast the $(t+1)$ return.\n",
    "- Set the scale of the investment in SPY equal to 100 times the forecasted value:\n",
    "$\n",
    "w_t = 100 \\hat{r}^{SPY}_{t+1}\n",
    "$\n",
    "- We are not taking this scaling too seriously. We just want the  strategy  to  go  bigger  inperiods where the forecast is high and to withdraw in periods where the forecast is low, or even negative.\n",
    "- Calcualte the return on this strategy:\n",
    "$\n",
    "r^X_{t+1} = w_tr^{SPY}_{t+1}\n",
    "$\n",
    "\n",
    "#### You should now have the trading strategy returns, $r^x$ for each of the forecasts. For each strategy, estimate:\n",
    "- mean, volatility, Sharpe,\n",
    "- max-drawdown\n",
    "- market alpha\n",
    "- market beta\n",
    "- market Information"
   ],
   "id": "f699361ddf4d4a95"
  },
  {
   "metadata": {
    "ExecuteTime": {
     "end_time": "2024-11-18T03:58:12.879329Z",
     "start_time": "2024-11-18T03:58:12.862324Z"
    }
   },
   "cell_type": "code",
   "source": [
    "DP_return = (gmo_signals.loc[:,'SPX DVD YLD'].shift(1).to_frame() * signal_reg_1['SPX DVD YLD beta'])+signal_reg_1['alpha_hat']/12\n",
    "DP_return = DP_return.rename(columns={'SPX DVD YLD':'Forecasted Return'}) * 100\n",
    "DP_forecast_return = pd.DataFrame(DP_return['Forecasted Return']*gmo_total_ret.loc[:,['SPY']]['SPY'], columns=DP_return.columns, index=DP_return.index)\n",
    "\n",
    "\n",
    "EP_return = (gmo_signals.loc[:,'SPX P/E'].shift(1).to_frame() * signal_reg_2['SPX P/E beta'])+signal_reg_2['alpha_hat']/12\n",
    "EP_return = EP_return.rename(columns={'SPX P/E':'Forecasted Return'}) * 100\n",
    "EP_forecast_return = pd.DataFrame(EP_return['Forecasted Return']*gmo_total_ret.loc[:,['SPY']]['SPY'], columns=EP_return.columns, index=EP_return.index)\n",
    "\n",
    "\n",
    "forecasted_rets = (np.array(gmo_signals.shift(1).loc[:,['SPX DVD YLD','SPX P/E','TNote 10YR']]) @ np.array(signal_reg_3.loc[:,['SPX DVD YLD beta','SPX P/E beta','TNote 10YR beta']].T))\n",
    "multiple_factor_return = (pd.DataFrame(forecasted_rets,columns = ['Forecasted Return'],index= gmo_signals.index)) \n",
    "multiple_factor_return['Forecasted Return'] = (multiple_factor_return['Forecasted Return'] + float(signal_reg_3['alpha_hat']/12))*100\n",
    "multiple_forecast_return = pd.DataFrame(multiple_factor_return['Forecasted Return'] *gmo_total_ret.loc[:,['SPY']]['SPY'], columns=multiple_factor_return.columns, index=multiple_factor_return.index)"
   ],
   "id": "d028d8dbaaccce66",
   "outputs": [],
   "execution_count": 197
  },
  {
   "metadata": {
    "ExecuteTime": {
     "end_time": "2024-11-18T03:58:13.031137Z",
     "start_time": "2024-11-18T03:58:13.012282Z"
    }
   },
   "cell_type": "code",
   "source": [
    "def performance_summary(return_data):\n",
    "    \"\"\" \n",
    "        Returns the Performance Stats for given set of returns\n",
    "        Inputs: \n",
    "            return_data - DataFrame with Date index and Monthly Returns for different assets/strategies.\n",
    "        Output:\n",
    "            summary_stats - DataFrame with annualized mean return, vol, sharpe ratio. Skewness, Excess Kurtosis, Var (0.5) and\n",
    "                            CVaR (0.5) and drawdown based on monthly returns. \n",
    "    \"\"\"\n",
    "    summary_stats = return_data.mean().to_frame('Mean').apply(lambda x: x*12)\n",
    "    summary_stats['Volatility'] = return_data.std().apply(lambda x: x*np.sqrt(12))\n",
    "    summary_stats['Sharpe Ratio'] = summary_stats['Mean']/summary_stats['Volatility']\n",
    "    \n",
    "    summary_stats['Skewness'] = return_data.skew()\n",
    "    summary_stats['Excess Kurtosis'] = return_data.kurtosis()\n",
    "    summary_stats['VaR (0.05)'] = return_data.quantile(.05, axis = 0)\n",
    "    summary_stats['CVaR (0.05)'] = return_data[return_data <= return_data.quantile(.05, axis = 0)].mean()\n",
    "    summary_stats['Min'] = return_data.min()\n",
    "    summary_stats['Max'] = return_data.max()\n",
    "    \n",
    "    wealth_index = 1000*(1+return_data).cumprod()\n",
    "    previous_peaks = wealth_index.cummax()\n",
    "    drawdowns = (wealth_index - previous_peaks)/previous_peaks\n",
    "\n",
    "    summary_stats['Max Drawdown'] = drawdowns.min()\n",
    "    summary_stats['Peak'] = [previous_peaks[col][:drawdowns[col].idxmin()].idxmax() for col in previous_peaks.columns]\n",
    "    summary_stats['Bottom'] = drawdowns.idxmin()\n",
    "    \n",
    "    recovery_date = []\n",
    "    for col in wealth_index.columns:\n",
    "        prev_max = previous_peaks[col][:drawdowns[col].idxmin()].max()\n",
    "        recovery_wealth = pd.DataFrame([wealth_index[col][drawdowns[col].idxmin():]]).T\n",
    "        recovery_date.append(recovery_wealth[recovery_wealth[col] >= prev_max].index.min())\n",
    "    summary_stats['Recovery'] = recovery_date\n",
    "    \n",
    "    return summary_stats"
   ],
   "id": "e2c43936dcb103a7",
   "outputs": [],
   "execution_count": 198
  },
  {
   "metadata": {
    "ExecuteTime": {
     "end_time": "2024-11-18T03:58:13.495367Z",
     "start_time": "2024-11-18T03:58:13.429341Z"
    }
   },
   "cell_type": "code",
   "source": [
    "strategy = {'SPX DVD YLD': DP_forecast_return.dropna(),\n",
    "          'SPX P/E': EP_forecast_return.dropna(),\n",
    "          'SPX P/E-SPX DVD YLD-US10Y': multiple_forecast_return.dropna()\n",
    "         }\n",
    "factor = gmo_excess_ret.loc[:,['SPY']]\n",
    "total_strategy_summary = []\n",
    "\n",
    "for key,value in strategy.items():\n",
    "    strat = strategy[key]\n",
    "    strat_summary = performance_summary(strat)\n",
    "    strat_summary.index = [key]\n",
    "    strat_summary['Negative Risk Premium Months'] = len(strat[strat['Forecasted Return'] - rf['TBill 3M'] <0])\n",
    "    strat_summary['Total Months'] = len(strat)\n",
    "    ts = time_series_regression(strat, factor[strat.index[0]:].squeeze(), False)\n",
    "    strat_summary['Market Beta'] = ts['SPY beta'].values\n",
    "    strat_summary['Market Alpha'] = ts['alpha_hat'].values\n",
    "    strat_summary['Market Information Ratio'] = ts['info_ratio'].values\n",
    "    \n",
    "    total_strategy_summary.append(strat_summary)\n",
    "    \n",
    "total_strategy_df = pd.concat(total_strategy_summary)\n",
    "  \n",
    "total_strategy_df.loc[:,['Mean','Volatility','Sharpe Ratio','Max Drawdown','Market Beta','Market Alpha','Market Information Ratio']]"
   ],
   "id": "6b4cde0ffd0a9943",
   "outputs": [
    {
     "data": {
      "text/plain": [
       "                            Mean  Volatility  Sharpe Ratio  Max Drawdown  \\\n",
       "SPX DVD YLD               0.1112      0.1728        0.6435       -0.7163   \n",
       "SPX P/E                   0.0980      0.1438        0.6819       -0.5817   \n",
       "SPX P/E-SPX DVD YLD-US10Y 0.1130      0.1736        0.6510       -0.6994   \n",
       "\n",
       "                           Market Beta  Market Alpha  Market Information Ratio  \n",
       "SPX DVD YLD                     0.7966        0.2342                    2.1843  \n",
       "SPX P/E                         0.7300        0.2108                    2.9070  \n",
       "SPX P/E-SPX DVD YLD-US10Y       0.8040        0.2372                    2.2179  "
      ],
      "text/html": [
       "<div>\n",
       "<style scoped>\n",
       "    .dataframe tbody tr th:only-of-type {\n",
       "        vertical-align: middle;\n",
       "    }\n",
       "\n",
       "    .dataframe tbody tr th {\n",
       "        vertical-align: top;\n",
       "    }\n",
       "\n",
       "    .dataframe thead th {\n",
       "        text-align: right;\n",
       "    }\n",
       "</style>\n",
       "<table border=\"1\" class=\"dataframe\">\n",
       "  <thead>\n",
       "    <tr style=\"text-align: right;\">\n",
       "      <th></th>\n",
       "      <th>Mean</th>\n",
       "      <th>Volatility</th>\n",
       "      <th>Sharpe Ratio</th>\n",
       "      <th>Max Drawdown</th>\n",
       "      <th>Market Beta</th>\n",
       "      <th>Market Alpha</th>\n",
       "      <th>Market Information Ratio</th>\n",
       "    </tr>\n",
       "  </thead>\n",
       "  <tbody>\n",
       "    <tr>\n",
       "      <th>SPX DVD YLD</th>\n",
       "      <td>0.1112</td>\n",
       "      <td>0.1728</td>\n",
       "      <td>0.6435</td>\n",
       "      <td>-0.7163</td>\n",
       "      <td>0.7966</td>\n",
       "      <td>0.2342</td>\n",
       "      <td>2.1843</td>\n",
       "    </tr>\n",
       "    <tr>\n",
       "      <th>SPX P/E</th>\n",
       "      <td>0.0980</td>\n",
       "      <td>0.1438</td>\n",
       "      <td>0.6819</td>\n",
       "      <td>-0.5817</td>\n",
       "      <td>0.7300</td>\n",
       "      <td>0.2108</td>\n",
       "      <td>2.9070</td>\n",
       "    </tr>\n",
       "    <tr>\n",
       "      <th>SPX P/E-SPX DVD YLD-US10Y</th>\n",
       "      <td>0.1130</td>\n",
       "      <td>0.1736</td>\n",
       "      <td>0.6510</td>\n",
       "      <td>-0.6994</td>\n",
       "      <td>0.8040</td>\n",
       "      <td>0.2372</td>\n",
       "      <td>2.2179</td>\n",
       "    </tr>\n",
       "  </tbody>\n",
       "</table>\n",
       "</div>"
      ]
     },
     "execution_count": 199,
     "metadata": {},
     "output_type": "execute_result"
    }
   ],
   "execution_count": 199
  },
  {
   "metadata": {},
   "cell_type": "markdown",
   "source": [
    "### 3.3) GMO believes a risk premium is compensation for a security's tendency to lose money at \"bad times\". Let's consider risk characteristics.\n",
    "### 3.3.a) For both strategies, the market, and GMO, calculate the monthly VaR for $\\pi=.05$. Just use the quantile of the historic data for this VaR calculation.\n"
   ],
   "id": "a152062369a11d89"
  },
  {
   "metadata": {
    "ExecuteTime": {
     "end_time": "2024-11-18T03:58:13.567345Z",
     "start_time": "2024-11-18T03:58:13.545250Z"
    }
   },
   "cell_type": "code",
   "source": [
    "market_summary = performance_summary(gmo_excess_ret.loc[:,['SPY']])\n",
    "gmo_summary = performance_summary(gmo_excess_ret.loc[:,['GMWAX']].dropna())\n",
    "strat_var= pd.concat([total_strategy_df.loc[:,['VaR (0.05)']],market_summary.loc[:,['VaR (0.05)']],gmo_summary.loc[:,['VaR (0.05)']]])\n",
    "strat_var"
   ],
   "id": "95038b62720a4d0d",
   "outputs": [
    {
     "data": {
      "text/plain": [
       "                           VaR (0.05)\n",
       "SPX DVD YLD                   -0.0594\n",
       "SPX P/E                       -0.0651\n",
       "SPX P/E-SPX DVD YLD-US10Y     -0.0620\n",
       "SPY                           -0.0995\n",
       "GMWAX                         -0.0785"
      ],
      "text/html": [
       "<div>\n",
       "<style scoped>\n",
       "    .dataframe tbody tr th:only-of-type {\n",
       "        vertical-align: middle;\n",
       "    }\n",
       "\n",
       "    .dataframe tbody tr th {\n",
       "        vertical-align: top;\n",
       "    }\n",
       "\n",
       "    .dataframe thead th {\n",
       "        text-align: right;\n",
       "    }\n",
       "</style>\n",
       "<table border=\"1\" class=\"dataframe\">\n",
       "  <thead>\n",
       "    <tr style=\"text-align: right;\">\n",
       "      <th></th>\n",
       "      <th>VaR (0.05)</th>\n",
       "    </tr>\n",
       "  </thead>\n",
       "  <tbody>\n",
       "    <tr>\n",
       "      <th>SPX DVD YLD</th>\n",
       "      <td>-0.0594</td>\n",
       "    </tr>\n",
       "    <tr>\n",
       "      <th>SPX P/E</th>\n",
       "      <td>-0.0651</td>\n",
       "    </tr>\n",
       "    <tr>\n",
       "      <th>SPX P/E-SPX DVD YLD-US10Y</th>\n",
       "      <td>-0.0620</td>\n",
       "    </tr>\n",
       "    <tr>\n",
       "      <th>SPY</th>\n",
       "      <td>-0.0995</td>\n",
       "    </tr>\n",
       "    <tr>\n",
       "      <th>GMWAX</th>\n",
       "      <td>-0.0785</td>\n",
       "    </tr>\n",
       "  </tbody>\n",
       "</table>\n",
       "</div>"
      ]
     },
     "execution_count": 200,
     "metadata": {},
     "output_type": "execute_result"
    }
   ],
   "execution_count": 200
  },
  {
   "metadata": {},
   "cell_type": "markdown",
   "source": "### 3.3.b) The GMO case mentions that stocks under-performed short-term bonds from 2000-2011. Does the dynamic portfolio above under-perform the risk-free rate over this time?",
   "id": "f8e416bf1873f23d"
  },
  {
   "metadata": {},
   "cell_type": "markdown",
   "source": "All of the dynamic portfolios outperform the risk free rate during this time",
   "id": "696c2a9ed45d161d"
  },
  {
   "metadata": {
    "ExecuteTime": {
     "end_time": "2024-11-18T03:58:13.691494Z",
     "start_time": "2024-11-18T03:58:13.652957Z"
    }
   },
   "cell_type": "code",
   "source": [
    "strats = {'SPX DVD YLD': DP_forecast_return.dropna(),\n",
    "          'SPX P/E': EP_forecast_return.dropna(),\n",
    "          'SPX DVD YLD-SPX P/E-US10Y': multiple_forecast_return.dropna()\n",
    "         }\n",
    "strat_summary_0011 =[]\n",
    "for k,v in strats.items():\n",
    "    strat = (strats[k]['2000':'2011']['Forecasted Return']).to_frame('Forecasted Returns')\n",
    "    perf_summary = performance_summary(strat)\n",
    "    perf_summary.index = [k]\n",
    "    strat_summary_0011.append(perf_summary)\n",
    "    \n",
    "\n",
    "strat_summary_df_0011 = pd.concat(strat_summary_0011)\n",
    "strat_summary_df_0011.loc[:,['Mean','Volatility','Sharpe Ratio','Max Drawdown']]"
   ],
   "id": "6254a6958b41ad8a",
   "outputs": [
    {
     "data": {
      "text/plain": [
       "                            Mean  Volatility  Sharpe Ratio  Max Drawdown\n",
       "SPX DVD YLD               0.0554      0.2187        0.2534       -0.7163\n",
       "SPX P/E                   0.0444      0.1681        0.2642       -0.5817\n",
       "SPX DVD YLD-SPX P/E-US10Y 0.0521      0.2128        0.2449       -0.6994"
      ],
      "text/html": [
       "<div>\n",
       "<style scoped>\n",
       "    .dataframe tbody tr th:only-of-type {\n",
       "        vertical-align: middle;\n",
       "    }\n",
       "\n",
       "    .dataframe tbody tr th {\n",
       "        vertical-align: top;\n",
       "    }\n",
       "\n",
       "    .dataframe thead th {\n",
       "        text-align: right;\n",
       "    }\n",
       "</style>\n",
       "<table border=\"1\" class=\"dataframe\">\n",
       "  <thead>\n",
       "    <tr style=\"text-align: right;\">\n",
       "      <th></th>\n",
       "      <th>Mean</th>\n",
       "      <th>Volatility</th>\n",
       "      <th>Sharpe Ratio</th>\n",
       "      <th>Max Drawdown</th>\n",
       "    </tr>\n",
       "  </thead>\n",
       "  <tbody>\n",
       "    <tr>\n",
       "      <th>SPX DVD YLD</th>\n",
       "      <td>0.0554</td>\n",
       "      <td>0.2187</td>\n",
       "      <td>0.2534</td>\n",
       "      <td>-0.7163</td>\n",
       "    </tr>\n",
       "    <tr>\n",
       "      <th>SPX P/E</th>\n",
       "      <td>0.0444</td>\n",
       "      <td>0.1681</td>\n",
       "      <td>0.2642</td>\n",
       "      <td>-0.5817</td>\n",
       "    </tr>\n",
       "    <tr>\n",
       "      <th>SPX DVD YLD-SPX P/E-US10Y</th>\n",
       "      <td>0.0521</td>\n",
       "      <td>0.2128</td>\n",
       "      <td>0.2449</td>\n",
       "      <td>-0.6994</td>\n",
       "    </tr>\n",
       "  </tbody>\n",
       "</table>\n",
       "</div>"
      ]
     },
     "execution_count": 201,
     "metadata": {},
     "output_type": "execute_result"
    }
   ],
   "execution_count": 201
  },
  {
   "metadata": {},
   "cell_type": "markdown",
   "source": "### 3.3.c) Based on the regression estimates, in how many periods do we estimate a negative risk premium?\n",
   "id": "442820a3f26706cf"
  },
  {
   "metadata": {
    "ExecuteTime": {
     "end_time": "2024-11-18T03:58:13.816051Z",
     "start_time": "2024-11-18T03:58:13.807171Z"
    }
   },
   "cell_type": "code",
   "source": [
    "neg_risk_premium = total_strategy_df.loc[:,['Negative Risk Premium Months','Total Months']]\n",
    "neg_risk_premium['Negative Risk Premium Months (%)'] = neg_risk_premium['Negative Risk Premium Months'] *100/ neg_risk_premium['Total Months']\n",
    "neg_risk_premium"
   ],
   "id": "5b5f7a2dd2212281",
   "outputs": [
    {
     "data": {
      "text/plain": [
       "                           Negative Risk Premium Months  Total Months  \\\n",
       "SPX DVD YLD                                         209           334   \n",
       "SPX P/E                                             201           334   \n",
       "SPX P/E-SPX DVD YLD-US10Y                           216           334   \n",
       "\n",
       "                           Negative Risk Premium Months (%)  \n",
       "SPX DVD YLD                                         62.5749  \n",
       "SPX P/E                                             60.1796  \n",
       "SPX P/E-SPX DVD YLD-US10Y                           64.6707  "
      ],
      "text/html": [
       "<div>\n",
       "<style scoped>\n",
       "    .dataframe tbody tr th:only-of-type {\n",
       "        vertical-align: middle;\n",
       "    }\n",
       "\n",
       "    .dataframe tbody tr th {\n",
       "        vertical-align: top;\n",
       "    }\n",
       "\n",
       "    .dataframe thead th {\n",
       "        text-align: right;\n",
       "    }\n",
       "</style>\n",
       "<table border=\"1\" class=\"dataframe\">\n",
       "  <thead>\n",
       "    <tr style=\"text-align: right;\">\n",
       "      <th></th>\n",
       "      <th>Negative Risk Premium Months</th>\n",
       "      <th>Total Months</th>\n",
       "      <th>Negative Risk Premium Months (%)</th>\n",
       "    </tr>\n",
       "  </thead>\n",
       "  <tbody>\n",
       "    <tr>\n",
       "      <th>SPX DVD YLD</th>\n",
       "      <td>209</td>\n",
       "      <td>334</td>\n",
       "      <td>62.5749</td>\n",
       "    </tr>\n",
       "    <tr>\n",
       "      <th>SPX P/E</th>\n",
       "      <td>201</td>\n",
       "      <td>334</td>\n",
       "      <td>60.1796</td>\n",
       "    </tr>\n",
       "    <tr>\n",
       "      <th>SPX P/E-SPX DVD YLD-US10Y</th>\n",
       "      <td>216</td>\n",
       "      <td>334</td>\n",
       "      <td>64.6707</td>\n",
       "    </tr>\n",
       "  </tbody>\n",
       "</table>\n",
       "</div>"
      ]
     },
     "execution_count": 202,
     "metadata": {},
     "output_type": "execute_result"
    }
   ],
   "execution_count": 202
  },
  {
   "metadata": {},
   "cell_type": "markdown",
   "source": [
    "### 3.3.d) Do you believe the dynamic strategy takes on extra risk?\n",
    "\n",
    "I believe that the dynamic strategy does not take on extra risk. The metrics from the risk tail stats do not suggest anything about the strategy taking on more risk than SPY. The VAR for SPY appears much lower (more negative so really greater) so it cannot be suggestive  of the strategy taking on more risk. In addition the max drawdowns are also more negative for spy.  \n"
   ],
   "id": "5728211b0c320b7"
  },
  {
   "metadata": {
    "ExecuteTime": {
     "end_time": "2024-11-18T03:58:13.978064Z",
     "start_time": "2024-11-18T03:58:13.967292Z"
    }
   },
   "cell_type": "code",
   "source": "total_strategy_df.loc[:,['Mean','Volatility','Sharpe Ratio','VaR (0.05)','Max Drawdown','Market Beta','Market Alpha','Market Information Ratio']]",
   "id": "6d7206747ec4104a",
   "outputs": [
    {
     "data": {
      "text/plain": [
       "                            Mean  Volatility  Sharpe Ratio  VaR (0.05)  \\\n",
       "SPX DVD YLD               0.1112      0.1728        0.6435     -0.0594   \n",
       "SPX P/E                   0.0980      0.1438        0.6819     -0.0651   \n",
       "SPX P/E-SPX DVD YLD-US10Y 0.1130      0.1736        0.6510     -0.0620   \n",
       "\n",
       "                           Max Drawdown  Market Beta  Market Alpha  \\\n",
       "SPX DVD YLD                     -0.7163       0.7966        0.2342   \n",
       "SPX P/E                         -0.5817       0.7300        0.2108   \n",
       "SPX P/E-SPX DVD YLD-US10Y       -0.6994       0.8040        0.2372   \n",
       "\n",
       "                           Market Information Ratio  \n",
       "SPX DVD YLD                                  2.1843  \n",
       "SPX P/E                                      2.9070  \n",
       "SPX P/E-SPX DVD YLD-US10Y                    2.2179  "
      ],
      "text/html": [
       "<div>\n",
       "<style scoped>\n",
       "    .dataframe tbody tr th:only-of-type {\n",
       "        vertical-align: middle;\n",
       "    }\n",
       "\n",
       "    .dataframe tbody tr th {\n",
       "        vertical-align: top;\n",
       "    }\n",
       "\n",
       "    .dataframe thead th {\n",
       "        text-align: right;\n",
       "    }\n",
       "</style>\n",
       "<table border=\"1\" class=\"dataframe\">\n",
       "  <thead>\n",
       "    <tr style=\"text-align: right;\">\n",
       "      <th></th>\n",
       "      <th>Mean</th>\n",
       "      <th>Volatility</th>\n",
       "      <th>Sharpe Ratio</th>\n",
       "      <th>VaR (0.05)</th>\n",
       "      <th>Max Drawdown</th>\n",
       "      <th>Market Beta</th>\n",
       "      <th>Market Alpha</th>\n",
       "      <th>Market Information Ratio</th>\n",
       "    </tr>\n",
       "  </thead>\n",
       "  <tbody>\n",
       "    <tr>\n",
       "      <th>SPX DVD YLD</th>\n",
       "      <td>0.1112</td>\n",
       "      <td>0.1728</td>\n",
       "      <td>0.6435</td>\n",
       "      <td>-0.0594</td>\n",
       "      <td>-0.7163</td>\n",
       "      <td>0.7966</td>\n",
       "      <td>0.2342</td>\n",
       "      <td>2.1843</td>\n",
       "    </tr>\n",
       "    <tr>\n",
       "      <th>SPX P/E</th>\n",
       "      <td>0.0980</td>\n",
       "      <td>0.1438</td>\n",
       "      <td>0.6819</td>\n",
       "      <td>-0.0651</td>\n",
       "      <td>-0.5817</td>\n",
       "      <td>0.7300</td>\n",
       "      <td>0.2108</td>\n",
       "      <td>2.9070</td>\n",
       "    </tr>\n",
       "    <tr>\n",
       "      <th>SPX P/E-SPX DVD YLD-US10Y</th>\n",
       "      <td>0.1130</td>\n",
       "      <td>0.1736</td>\n",
       "      <td>0.6510</td>\n",
       "      <td>-0.0620</td>\n",
       "      <td>-0.6994</td>\n",
       "      <td>0.8040</td>\n",
       "      <td>0.2372</td>\n",
       "      <td>2.2179</td>\n",
       "    </tr>\n",
       "  </tbody>\n",
       "</table>\n",
       "</div>"
      ]
     },
     "execution_count": 203,
     "metadata": {},
     "output_type": "execute_result"
    }
   ],
   "execution_count": 203
  },
  {
   "metadata": {
    "ExecuteTime": {
     "end_time": "2024-11-18T03:58:14.163946Z",
     "start_time": "2024-11-18T03:58:14.152997Z"
    }
   },
   "cell_type": "code",
   "source": "market_summary.loc[:,['Mean','Volatility','Sharpe Ratio','VaR (0.05)','Max Drawdown']]\n",
   "id": "cd6f0e0a26aafbf3",
   "outputs": [
    {
     "data": {
      "text/plain": [
       "       Mean  Volatility  Sharpe Ratio  VaR (0.05)  Max Drawdown\n",
       "SPY -0.1567      0.1702       -0.9207     -0.0995       -0.9929"
      ],
      "text/html": [
       "<div>\n",
       "<style scoped>\n",
       "    .dataframe tbody tr th:only-of-type {\n",
       "        vertical-align: middle;\n",
       "    }\n",
       "\n",
       "    .dataframe tbody tr th {\n",
       "        vertical-align: top;\n",
       "    }\n",
       "\n",
       "    .dataframe thead th {\n",
       "        text-align: right;\n",
       "    }\n",
       "</style>\n",
       "<table border=\"1\" class=\"dataframe\">\n",
       "  <thead>\n",
       "    <tr style=\"text-align: right;\">\n",
       "      <th></th>\n",
       "      <th>Mean</th>\n",
       "      <th>Volatility</th>\n",
       "      <th>Sharpe Ratio</th>\n",
       "      <th>VaR (0.05)</th>\n",
       "      <th>Max Drawdown</th>\n",
       "    </tr>\n",
       "  </thead>\n",
       "  <tbody>\n",
       "    <tr>\n",
       "      <th>SPY</th>\n",
       "      <td>-0.1567</td>\n",
       "      <td>0.1702</td>\n",
       "      <td>-0.9207</td>\n",
       "      <td>-0.0995</td>\n",
       "      <td>-0.9929</td>\n",
       "    </tr>\n",
       "  </tbody>\n",
       "</table>\n",
       "</div>"
      ]
     },
     "execution_count": 204,
     "metadata": {},
     "output_type": "execute_result"
    }
   ],
   "execution_count": 204
  },
  {
   "metadata": {},
   "cell_type": "markdown",
   "source": [
    "4 Out-of-Sample Forecasting\n",
    " This section utilizes data in the file, gmo\n",
    " data.xlsx.\n",
    " Reconsider the problem above, of estimating (1) for x. The reported R2 was the in-sample R2–it\n",
    " examined how well the forecasts fit in the sample from which the parameters were estimated.\n",
    " In particular, focus on the case of using both dividend-price and earnings-price as signals.\n",
    " Let’s consider the out-of-sample r-squared. To do so, we need to do the following:\n",
    " • Start at t = 60.\n",
    " • Estimate (1) only using data through time t.\n",
    " • Use the estimated parameters of (1), along with xt+1 to calculate the out-of-sample forecast for\n",
    " the following period, t + 1.\n",
    " ˆ\n",
    " rSPY\n",
    " t+1 = ˆ αSPY,x\n",
    " • Calculate the t +1 forecast error,\n",
    " t\n",
    " eforecast\n",
    " t+1\n",
    " +(βSPY,x)′ xt\n",
    " =rSPY\n",
    " t+1 − ˆ rSPY\n",
    " t+1\n",
    " • Move to t =61, and loop through the rest of the sample.\n",
    " You now have the time-series of out-of-sample prediction errors, ex.\n",
    " Calculate the time-series of out-of-sample prediction errors enull, which are based on the null forecast"
   ],
   "id": "ec00b274c505a71"
  },
  {
   "metadata": {},
   "cell_type": "markdown",
   "source": "",
   "id": "cd51e78b39f7468f"
  },
  {
   "metadata": {
    "ExecuteTime": {
     "end_time": "2024-11-18T03:58:14.298871Z",
     "start_time": "2024-11-18T03:58:14.293571Z"
    }
   },
   "cell_type": "code",
   "source": [
    "def OOS_r2(df, factors, start):\n",
    "    y = df['SPY']\n",
    "    X = sm.add_constant(factors)\n",
    "\n",
    "    forecast_err, null_err = [], []\n",
    "\n",
    "    for i,j in enumerate(df.index):\n",
    "        if i >= start:\n",
    "            currX = X.iloc[:i]\n",
    "            currY = y.iloc[:i]\n",
    "            reg = sm.OLS(currY, currX, missing = 'drop').fit()\n",
    "            null_forecast = currY.mean()\n",
    "            reg_predict = reg.predict(X.iloc[[i]])\n",
    "            actual = y.iloc[[i]]\n",
    "            forecast_err.append(reg_predict - actual)\n",
    "            null_err.append(null_forecast - actual)\n",
    "            \n",
    "    RSS = (np.array(forecast_err)**2).sum()\n",
    "    TSS = (np.array(null_err)**2).sum()\n",
    "    \n",
    "    return ((1 - RSS/TSS),reg)"
   ],
   "id": "3c1de8ee3d7fd273",
   "outputs": [],
   "execution_count": 205
  },
  {
   "metadata": {
    "ExecuteTime": {
     "end_time": "2024-11-18T03:58:14.712668Z",
     "start_time": "2024-11-18T03:58:14.411851Z"
    }
   },
   "cell_type": "code",
   "source": [
    "\n",
    "factor = gmo_signals.loc[:,'SPX P/E'].shift(1).to_frame()\n",
    "fund_ret = gmo_total_ret.loc[factor.index[0]:,['SPY']]\n",
    "reg_ep = OOS_r2(fund_ret,factor,60)\n",
    "OOS_RSquared_ep = reg_ep[0]\n",
    "OOS_r2_ep = pd.DataFrame([[OOS_RSquared_ep]], columns = ['OOS R-Squared'], index = ['SPX P/E'])\n",
    "reg_ep_params = reg_ep[1]"
   ],
   "id": "4a3cac4aac7262c9",
   "outputs": [],
   "execution_count": 206
  },
  {
   "metadata": {
    "ExecuteTime": {
     "end_time": "2024-11-18T03:58:14.986979Z",
     "start_time": "2024-11-18T03:58:14.712668Z"
    }
   },
   "cell_type": "code",
   "source": [
    "factor = gmo_signals.loc[:,'SPX DVD YLD'].shift(1).to_frame()\n",
    "fund_ret = gmo_total_ret.loc[factor.index[0]:,['SPY']]\n",
    "reg_dp = OOS_r2(fund_ret,factor,60)\n",
    "OOS_RSquared_dp = reg_dp[0]\n",
    "OOS_r2_dp = pd.DataFrame([[OOS_RSquared_dp]], columns = ['OOS R-Squared'], index = ['SPX DVD YLD'])\n",
    "reg_dp_params = reg_dp[1]"
   ],
   "id": "19de959ab53790b2",
   "outputs": [],
   "execution_count": 207
  },
  {
   "metadata": {
    "ExecuteTime": {
     "end_time": "2024-11-18T03:58:15.330114Z",
     "start_time": "2024-11-18T03:58:15.053754Z"
    }
   },
   "cell_type": "code",
   "source": [
    "factor = gmo_signals.loc[:,['SPX DVD YLD','SPX P/E']].shift(1)\n",
    "fund_ret = gmo_total_ret.loc[factor.index[0]:,['SPY']]\n",
    "reg_epdp = OOS_r2(fund_ret,factor,60)\n",
    "OOS_r2_epdp  = reg_epdp[0]\n",
    "OOS_r2_epdp = pd.DataFrame([[OOS_r2_epdp]], columns = ['OOS R-Squared'], index = ['SPX DVD YLD-SPX P/E'])\n",
    "reg_epdp_params = reg_epdp[1]"
   ],
   "id": "1cb24ec8aa3d8222",
   "outputs": [],
   "execution_count": 208
  },
  {
   "metadata": {
    "ExecuteTime": {
     "end_time": "2024-11-18T03:58:16.027051Z",
     "start_time": "2024-11-18T03:58:15.395466Z"
    }
   },
   "cell_type": "code",
   "source": [
    "factor = gmo_signals.loc[:,['SPX DVD YLD','SPX P/E','TNote 10YR']].shift(1)\n",
    "fund_ret = gmo_total_ret.loc[factor.index[0]:,['SPY']]\n",
    "reg_all = OOS_r2(fund_ret,factor,60)\n",
    "OOS_RSquared_all  = reg_all[0]\n",
    "OOS_r2_all = pd.DataFrame([[OOS_RSquared_all]], columns = ['OOS R-Squared'], index = ['All'])\n",
    "reg_all_params = reg_all[1]"
   ],
   "id": "a78c1c6281f053f4",
   "outputs": [],
   "execution_count": 209
  },
  {
   "metadata": {},
   "cell_type": "markdown",
   "source": [
    "### 4.1) Report the out-of-sample $R^2$:\n",
    "\\begin{align}\n",
    " R^2_{OOS} \\equiv 1-\\frac{\\sum^T_{i=61}(e^x_i)^2}{\\sum^T_{i=61}(e^0_i)^2} \n",
    "\\end{align}\n",
    "### note that unlike an in-sample r-squared, the out-of-sample r-squared can be anywhere between $(-\\infty,1]$."
   ],
   "id": "9ab259c9716d302"
  },
  {
   "metadata": {
    "ExecuteTime": {
     "end_time": "2024-11-18T03:58:16.146251Z",
     "start_time": "2024-11-18T03:58:16.137129Z"
    }
   },
   "cell_type": "code",
   "source": [
    "oos_r2_sum = pd.concat([OOS_r2_dp,OOS_r2_ep,OOS_r2_epdp,OOS_r2_all])\n",
    "oos_r2_sum"
   ],
   "id": "18a925fea096bebd",
   "outputs": [
    {
     "data": {
      "text/plain": [
       "                     OOS R-Squared\n",
       "SPX DVD YLD                -0.0456\n",
       "SPX P/E                    -0.0138\n",
       "SPX DVD YLD-SPX P/E        -0.0643\n",
       "All                        -0.0809"
      ],
      "text/html": [
       "<div>\n",
       "<style scoped>\n",
       "    .dataframe tbody tr th:only-of-type {\n",
       "        vertical-align: middle;\n",
       "    }\n",
       "\n",
       "    .dataframe tbody tr th {\n",
       "        vertical-align: top;\n",
       "    }\n",
       "\n",
       "    .dataframe thead th {\n",
       "        text-align: right;\n",
       "    }\n",
       "</style>\n",
       "<table border=\"1\" class=\"dataframe\">\n",
       "  <thead>\n",
       "    <tr style=\"text-align: right;\">\n",
       "      <th></th>\n",
       "      <th>OOS R-Squared</th>\n",
       "    </tr>\n",
       "  </thead>\n",
       "  <tbody>\n",
       "    <tr>\n",
       "      <th>SPX DVD YLD</th>\n",
       "      <td>-0.0456</td>\n",
       "    </tr>\n",
       "    <tr>\n",
       "      <th>SPX P/E</th>\n",
       "      <td>-0.0138</td>\n",
       "    </tr>\n",
       "    <tr>\n",
       "      <th>SPX DVD YLD-SPX P/E</th>\n",
       "      <td>-0.0643</td>\n",
       "    </tr>\n",
       "    <tr>\n",
       "      <th>All</th>\n",
       "      <td>-0.0809</td>\n",
       "    </tr>\n",
       "  </tbody>\n",
       "</table>\n",
       "</div>"
      ]
     },
     "execution_count": 210,
     "metadata": {},
     "output_type": "execute_result"
    }
   ],
   "execution_count": 210
  },
  {
   "metadata": {},
   "cell_type": "markdown",
   "source": [
    " Did this forecasting strategy produce a positive OOS r-squared?\n",
    " \n",
    "No the strategy did not produce a postive r-squared. They were all negative. "
   ],
   "id": "37c7ad041d5a0f28"
  },
  {
   "metadata": {},
   "cell_type": "markdown",
   "source": [
    "### 4.2) Re-do problem 3.2 using this OOS forecast. <br><br> How much better/worse is the OOS Earnings-Price ratio strategy compared to the in-sample version of 3.2?\n",
    "\n",
    "The Out-of-Sample performs significantly worse than in-sample as expected. With lower mean, much higher volatility and tail risk measure, the oos performance seems to be taking much higher risk with a large negative beta to the market returns."
   ],
   "id": "52f6e04566570fa3"
  },
  {
   "metadata": {
    "ExecuteTime": {
     "end_time": "2024-11-18T03:58:16.281949Z",
     "start_time": "2024-11-18T03:58:16.275432Z"
    }
   },
   "cell_type": "code",
   "source": [
    "def OOS_strat(df, factors, start, weight):\n",
    "    returns = []\n",
    "    y = df['SPY']\n",
    "    X = sm.add_constant(factors)\n",
    "\n",
    "    for i,j in enumerate(df.index):\n",
    "        if i >= start:\n",
    "            currX = X.iloc[:i]\n",
    "            currY = y.iloc[:i]\n",
    "            reg = sm.OLS(currY, currX, missing = 'drop').fit()\n",
    "            pred = reg.predict(X.iloc[[i]])\n",
    "            w = pred * weight\n",
    "            returns.append((df.iloc[i]['SPY'] * w)[0])\n",
    "\n",
    "    df_strat = pd.DataFrame(data = returns, index = df.iloc[-(len(returns)):].index, columns = ['Strat Returns'])\n",
    "    return df_strat"
   ],
   "id": "c355222dfeae6f1f",
   "outputs": [],
   "execution_count": 211
  },
  {
   "metadata": {
    "ExecuteTime": {
     "end_time": "2024-11-18T03:58:16.636475Z",
     "start_time": "2024-11-18T03:58:16.350921Z"
    }
   },
   "cell_type": "code",
   "source": [
    "factor = gmo_signals.loc[:,'SPX P/E'].shift(1).to_frame()\n",
    "fund_ret= gmo_total_ret.loc[factor.index[0]:,['SPY']]\n",
    "OOS_EP_predict = OOS_strat(fund_ret,factor, 60, 100).rename(columns={'Strat Returns':'SPX_P/E_OOS_Returns'})"
   ],
   "id": "11377a6db226a051",
   "outputs": [],
   "execution_count": 212
  },
  {
   "metadata": {
    "ExecuteTime": {
     "end_time": "2024-11-18T03:58:16.938603Z",
     "start_time": "2024-11-18T03:58:16.636475Z"
    }
   },
   "cell_type": "code",
   "source": [
    "factor = gmo_signals.loc[:,'SPX DVD YLD'].shift(1).to_frame()\n",
    "fund_ret= gmo_total_ret.loc[factor.index[0]:,['SPY']]\n",
    "OOS_DP_predict = OOS_strat(fund_ret,factor, 60, 100).rename(columns={'Strat Returns':'SPX DVD YLD_OOS_Returns'})"
   ],
   "id": "dfae7a2505ddf95a",
   "outputs": [],
   "execution_count": 213
  },
  {
   "metadata": {
    "ExecuteTime": {
     "end_time": "2024-11-18T03:58:17.335948Z",
     "start_time": "2024-11-18T03:58:17.011849Z"
    }
   },
   "cell_type": "code",
   "source": [
    "factor = gmo_signals.loc[:,['SPX DVD YLD','SPX P/E']].shift(1)\n",
    "fund_ret= gmo_total_ret.loc[factor.index[0]:,['SPY']]\n",
    "OOS_EPDP_predict = OOS_strat(fund_ret,factor, 60, 100).rename(columns={'Strat Returns':'SPX DVD YLD-SPX P/E_OOS_Returns'})"
   ],
   "id": "9e29ab179c71b252",
   "outputs": [],
   "execution_count": 214
  },
  {
   "metadata": {
    "ExecuteTime": {
     "end_time": "2024-11-18T03:58:17.896212Z",
     "start_time": "2024-11-18T03:58:17.489951Z"
    }
   },
   "cell_type": "code",
   "source": [
    "factor = gmo_signals.loc[:,['SPX DVD YLD','SPX P/E','TNote 10YR']].shift(1)\n",
    "fund_ret= gmo_total_ret.loc[factor.index[0]:,['SPY']]\n",
    "OOS_all_predict = OOS_strat(fund_ret,factor, 60, 100).rename(columns={'Strat Returns':'All_OOS_Returns'})"
   ],
   "id": "3e8b50d750d8aa9e",
   "outputs": [],
   "execution_count": 215
  },
  {
   "metadata": {
    "ExecuteTime": {
     "end_time": "2024-11-18T03:58:18.045Z",
     "start_time": "2024-11-18T03:58:17.911359Z"
    }
   },
   "cell_type": "code",
   "source": [
    "oos_prediction_sum = pd.concat([OOS_DP_predict.T, OOS_EP_predict.T, OOS_all_predict.T])\n",
    "oos_prediction_sum = oos_prediction_sum.T\n",
    "\n",
    "strats = {'SPX DVD YLD': OOS_DP_predict.dropna(),\n",
    "          'SPX_P/E': OOS_EP_predict.dropna(),\n",
    "          'SPX DVD YLD-SPX P/E': OOS_EPDP_predict.dropna(),\n",
    "          'All': OOS_all_predict.dropna(),\n",
    "          'SPY': gmo_excess_ret.loc[OOS_all_predict.index[0]:, ['SPY']].rename(columns = {'SPY': 'SPY_OOS_Returns'}),\n",
    "          'TBill 3M': rf['TBill 3M'].to_frame('TBill 3M_OOS_Returns')\n",
    "          }\n",
    "factor = gmo_excess_ret.loc[:, ['SPY']]\n",
    "strat_summary = []\n",
    "for k, v in strats.items():\n",
    "    strat = strats[k]\n",
    "    perf_summary = performance_summary(strat)\n",
    "    perf_summary['Negative Risk Premium Months'] = len(strat[strat[k + '_OOS_Returns'] - rf['TBill 3M'] < 0])\n",
    "    perf_summary['Total Months'] = len(strat)\n",
    "    perf_summary.index = [k]\n",
    "    reg = time_series_regression(strat, factor[strat.index[0]:].squeeze(), False)\n",
    "    perf_summary['Market Beta'] = reg['SPY beta'].values\n",
    "    perf_summary['Market Alpha'] = reg['alpha_hat'].values\n",
    "    perf_summary['Market Information Ratio'] = reg['info_ratio'].values\n",
    "    strat_summary.append(perf_summary)\n",
    "\n",
    "strat_summary_df = pd.concat(strat_summary)\n",
    "strat_summary_df.loc[:,\n",
    "['Mean', 'Volatility', 'Sharpe Ratio', 'VaR (0.05)', 'Max Drawdown', 'Market Beta', 'Market Alpha',\n",
    " 'Market Information Ratio']]\n",
    "### 4.3) Re-do problem 3.3 using this OOS forecast. <br><br> Is the point-in-time version of the strategy riskier?\n",
    "\n",
    "### 4.3) Re-do problem 3.3 using this OOS forecast. <br><br> Is the point-in-time version of the strategy riskier?"
   ],
   "id": "20ba487f6b7fe662",
   "outputs": [
    {
     "data": {
      "text/plain": [
       "                       Mean  Volatility  Sharpe Ratio  VaR (0.05)  \\\n",
       "SPX DVD YLD          0.0815      0.1945        0.4189     -0.0613   \n",
       "SPX_P/E              0.1013      0.1574        0.6439     -0.0628   \n",
       "SPX DVD YLD-SPX P/E  0.0760      0.2345        0.3240     -0.0668   \n",
       "All                  0.0396      0.2153        0.1841     -0.0620   \n",
       "SPY                 -0.0867      0.1611       -0.5384     -0.0929   \n",
       "TBill 3M             0.2588      0.0728        3.5529      0.0001   \n",
       "\n",
       "                     Max Drawdown  Market Beta  Market Alpha  \\\n",
       "SPX DVD YLD               -0.6854       0.7683        0.1481   \n",
       "SPX_P/E                   -0.5415       0.7615        0.1674   \n",
       "SPX DVD YLD-SPX P/E       -0.7425       0.5993        0.1280   \n",
       "All                       -0.7099       0.4015        0.0745   \n",
       "SPY                       -0.9163       1.0000       -0.0000   \n",
       "TBill 3M                  -0.0002      -0.1802        0.2305   \n",
       "\n",
       "                     Market Information Ratio  \n",
       "SPX DVD YLD                            0.9873  \n",
       "SPX_P/E                                1.6978  \n",
       "SPX DVD YLD-SPX P/E                    0.5988  \n",
       "All                                    0.3626  \n",
       "SPY                                   -0.9335  \n",
       "TBill 3M                               3.4896  "
      ],
      "text/html": [
       "<div>\n",
       "<style scoped>\n",
       "    .dataframe tbody tr th:only-of-type {\n",
       "        vertical-align: middle;\n",
       "    }\n",
       "\n",
       "    .dataframe tbody tr th {\n",
       "        vertical-align: top;\n",
       "    }\n",
       "\n",
       "    .dataframe thead th {\n",
       "        text-align: right;\n",
       "    }\n",
       "</style>\n",
       "<table border=\"1\" class=\"dataframe\">\n",
       "  <thead>\n",
       "    <tr style=\"text-align: right;\">\n",
       "      <th></th>\n",
       "      <th>Mean</th>\n",
       "      <th>Volatility</th>\n",
       "      <th>Sharpe Ratio</th>\n",
       "      <th>VaR (0.05)</th>\n",
       "      <th>Max Drawdown</th>\n",
       "      <th>Market Beta</th>\n",
       "      <th>Market Alpha</th>\n",
       "      <th>Market Information Ratio</th>\n",
       "    </tr>\n",
       "  </thead>\n",
       "  <tbody>\n",
       "    <tr>\n",
       "      <th>SPX DVD YLD</th>\n",
       "      <td>0.0815</td>\n",
       "      <td>0.1945</td>\n",
       "      <td>0.4189</td>\n",
       "      <td>-0.0613</td>\n",
       "      <td>-0.6854</td>\n",
       "      <td>0.7683</td>\n",
       "      <td>0.1481</td>\n",
       "      <td>0.9873</td>\n",
       "    </tr>\n",
       "    <tr>\n",
       "      <th>SPX_P/E</th>\n",
       "      <td>0.1013</td>\n",
       "      <td>0.1574</td>\n",
       "      <td>0.6439</td>\n",
       "      <td>-0.0628</td>\n",
       "      <td>-0.5415</td>\n",
       "      <td>0.7615</td>\n",
       "      <td>0.1674</td>\n",
       "      <td>1.6978</td>\n",
       "    </tr>\n",
       "    <tr>\n",
       "      <th>SPX DVD YLD-SPX P/E</th>\n",
       "      <td>0.0760</td>\n",
       "      <td>0.2345</td>\n",
       "      <td>0.3240</td>\n",
       "      <td>-0.0668</td>\n",
       "      <td>-0.7425</td>\n",
       "      <td>0.5993</td>\n",
       "      <td>0.1280</td>\n",
       "      <td>0.5988</td>\n",
       "    </tr>\n",
       "    <tr>\n",
       "      <th>All</th>\n",
       "      <td>0.0396</td>\n",
       "      <td>0.2153</td>\n",
       "      <td>0.1841</td>\n",
       "      <td>-0.0620</td>\n",
       "      <td>-0.7099</td>\n",
       "      <td>0.4015</td>\n",
       "      <td>0.0745</td>\n",
       "      <td>0.3626</td>\n",
       "    </tr>\n",
       "    <tr>\n",
       "      <th>SPY</th>\n",
       "      <td>-0.0867</td>\n",
       "      <td>0.1611</td>\n",
       "      <td>-0.5384</td>\n",
       "      <td>-0.0929</td>\n",
       "      <td>-0.9163</td>\n",
       "      <td>1.0000</td>\n",
       "      <td>-0.0000</td>\n",
       "      <td>-0.9335</td>\n",
       "    </tr>\n",
       "    <tr>\n",
       "      <th>TBill 3M</th>\n",
       "      <td>0.2588</td>\n",
       "      <td>0.0728</td>\n",
       "      <td>3.5529</td>\n",
       "      <td>0.0001</td>\n",
       "      <td>-0.0002</td>\n",
       "      <td>-0.1802</td>\n",
       "      <td>0.2305</td>\n",
       "      <td>3.4896</td>\n",
       "    </tr>\n",
       "  </tbody>\n",
       "</table>\n",
       "</div>"
      ]
     },
     "execution_count": 216,
     "metadata": {},
     "output_type": "execute_result"
    }
   ],
   "execution_count": 216
  },
  {
   "metadata": {},
   "cell_type": "markdown",
   "source": [
    "How much better/worse is the OOS strategy compared to the in-sample version of 3.2?\n",
    "\n",
    "This strategy performed much worse out of sample which is expected since the predicitve power isnt going to be as great. This is shown through the lower mean returns and sharpes"
   ],
   "id": "d1dd9479db35ddf0"
  },
  {
   "metadata": {},
   "cell_type": "markdown",
   "source": [
    "### 4.3) Re-do problem 3.3 using this OOS forecast. <br><br> Is the point-in-time version of the strategy riskier?\n",
    "The mean returns appear to go down significatly in this period compared to the ful sub sample. In addition the volatility and increases while the sharep ratio also decreases. So based on this the strategy does take on more risk but the mean returns for this period suggest the risk may not have been worth it. "
   ],
   "id": "e73b74f190f1bc3"
  },
  {
   "metadata": {
    "ExecuteTime": {
     "end_time": "2024-11-18T03:58:18.231760Z",
     "start_time": "2024-11-18T03:58:18.148891Z"
    }
   },
   "cell_type": "code",
   "source": [
    "os_prediction_sum = pd.concat([OOS_DP_predict.T,OOS_EP_predict.T,OOS_all_predict.T])\n",
    "oos_prediction_sum = oos_prediction_sum.T\n",
    "\n",
    "strats = {'SPX DVD YLD': OOS_DP_predict.dropna(),\n",
    "          'SPX_P/E': OOS_EP_predict.dropna(),\n",
    "          'SPX DVD YLD-SPX P/E':OOS_EPDP_predict.dropna(),\n",
    "          'All': OOS_all_predict.dropna(),\n",
    "          'TBill 3M':rf['TBill 3M'].to_frame('TBill 3M_OOS_Returns')\n",
    "         }\n",
    "factor = gmo_excess_ret.loc[:,['SPY']]['2000':'2011']\n",
    "strat_summary =[]\n",
    "for k,v in strats.items():\n",
    "    strat = strats[k]['2000':'2011']\n",
    "    perf_summary = performance_summary(strat)\n",
    "    perf_summary['Negative Risk Premium Months'] = len(strat[strat[k+'_OOS_Returns'] - rf['2000':'2011']['TBill 3M'] <0])\n",
    "    perf_summary['Total Months'] = len(strat)\n",
    "    perf_summary.index = [k]\n",
    "    reg = time_series_regression(strat, factor[strat.index[0]:].squeeze(), False)\n",
    "    perf_summary['Market Beta'] = reg['SPY beta'].values\n",
    "    perf_summary['Market Alpha'] = reg['alpha_hat'].values\n",
    "    perf_summary['Market Information Ratio'] = reg['info_ratio'].values\n",
    "    strat_summary.append(perf_summary)\n",
    "    \n",
    "\n",
    "strat_summary_df_0011 = pd.concat(strat_summary)\n",
    "strat_summary_df_0011.loc[:,['Mean','Volatility','Sharpe Ratio','VaR (0.05)','Max Drawdown','Market Beta','Market Alpha','Market Information Ratio']]"
   ],
   "id": "7a71aea533af492",
   "outputs": [
    {
     "data": {
      "text/plain": [
       "                       Mean  Volatility  Sharpe Ratio  VaR (0.05)  \\\n",
       "SPX DVD YLD          0.0322      0.2661        0.1209     -0.1286   \n",
       "SPX_P/E              0.1006      0.2044        0.4921     -0.0703   \n",
       "SPX DVD YLD-SPX P/E  0.0275      0.3341        0.0822     -0.1532   \n",
       "All                 -0.0227      0.3058       -0.0744     -0.1349   \n",
       "TBill 3M             0.2745      0.0694        3.9564      0.0004   \n",
       "\n",
       "                     Max Drawdown  Market Beta  Market Alpha  \\\n",
       "SPX DVD YLD               -0.6854       0.9258        0.1951   \n",
       "SPX_P/E                   -0.5415       0.9729        0.2718   \n",
       "SPX DVD YLD-SPX P/E       -0.7425       0.6126        0.1353   \n",
       "All                       -0.7098       0.2202        0.0160   \n",
       "TBill 3M                  -0.0002      -0.1655        0.2321   \n",
       "\n",
       "                     Market Information Ratio  \n",
       "SPX DVD YLD                            0.9025  \n",
       "SPX_P/E                                2.2029  \n",
       "SPX DVD YLD-SPX P/E                    0.4254  \n",
       "All                                    0.0527  \n",
       "TBill 3M                               3.7003  "
      ],
      "text/html": [
       "<div>\n",
       "<style scoped>\n",
       "    .dataframe tbody tr th:only-of-type {\n",
       "        vertical-align: middle;\n",
       "    }\n",
       "\n",
       "    .dataframe tbody tr th {\n",
       "        vertical-align: top;\n",
       "    }\n",
       "\n",
       "    .dataframe thead th {\n",
       "        text-align: right;\n",
       "    }\n",
       "</style>\n",
       "<table border=\"1\" class=\"dataframe\">\n",
       "  <thead>\n",
       "    <tr style=\"text-align: right;\">\n",
       "      <th></th>\n",
       "      <th>Mean</th>\n",
       "      <th>Volatility</th>\n",
       "      <th>Sharpe Ratio</th>\n",
       "      <th>VaR (0.05)</th>\n",
       "      <th>Max Drawdown</th>\n",
       "      <th>Market Beta</th>\n",
       "      <th>Market Alpha</th>\n",
       "      <th>Market Information Ratio</th>\n",
       "    </tr>\n",
       "  </thead>\n",
       "  <tbody>\n",
       "    <tr>\n",
       "      <th>SPX DVD YLD</th>\n",
       "      <td>0.0322</td>\n",
       "      <td>0.2661</td>\n",
       "      <td>0.1209</td>\n",
       "      <td>-0.1286</td>\n",
       "      <td>-0.6854</td>\n",
       "      <td>0.9258</td>\n",
       "      <td>0.1951</td>\n",
       "      <td>0.9025</td>\n",
       "    </tr>\n",
       "    <tr>\n",
       "      <th>SPX_P/E</th>\n",
       "      <td>0.1006</td>\n",
       "      <td>0.2044</td>\n",
       "      <td>0.4921</td>\n",
       "      <td>-0.0703</td>\n",
       "      <td>-0.5415</td>\n",
       "      <td>0.9729</td>\n",
       "      <td>0.2718</td>\n",
       "      <td>2.2029</td>\n",
       "    </tr>\n",
       "    <tr>\n",
       "      <th>SPX DVD YLD-SPX P/E</th>\n",
       "      <td>0.0275</td>\n",
       "      <td>0.3341</td>\n",
       "      <td>0.0822</td>\n",
       "      <td>-0.1532</td>\n",
       "      <td>-0.7425</td>\n",
       "      <td>0.6126</td>\n",
       "      <td>0.1353</td>\n",
       "      <td>0.4254</td>\n",
       "    </tr>\n",
       "    <tr>\n",
       "      <th>All</th>\n",
       "      <td>-0.0227</td>\n",
       "      <td>0.3058</td>\n",
       "      <td>-0.0744</td>\n",
       "      <td>-0.1349</td>\n",
       "      <td>-0.7098</td>\n",
       "      <td>0.2202</td>\n",
       "      <td>0.0160</td>\n",
       "      <td>0.0527</td>\n",
       "    </tr>\n",
       "    <tr>\n",
       "      <th>TBill 3M</th>\n",
       "      <td>0.2745</td>\n",
       "      <td>0.0694</td>\n",
       "      <td>3.9564</td>\n",
       "      <td>0.0004</td>\n",
       "      <td>-0.0002</td>\n",
       "      <td>-0.1655</td>\n",
       "      <td>0.2321</td>\n",
       "      <td>3.7003</td>\n",
       "    </tr>\n",
       "  </tbody>\n",
       "</table>\n",
       "</div>"
      ]
     },
     "execution_count": 217,
     "metadata": {},
     "output_type": "execute_result"
    }
   ],
   "execution_count": 217
  },
  {
   "metadata": {
    "ExecuteTime": {
     "end_time": "2024-11-18T03:58:18.288089Z",
     "start_time": "2024-11-18T03:58:18.280268Z"
    }
   },
   "cell_type": "code",
   "source": [
    "neg_risk_premium = strat_summary_df.loc[:,['Negative Risk Premium Months','Total Months']]\n",
    "neg_risk_premium['Negative Risk Premium Months (%)'] = neg_risk_premium['Negative Risk Premium Months'] *100/ neg_risk_premium['Total Months']\n",
    "neg_risk_premium"
   ],
   "id": "2665f9ca4beaa57f",
   "outputs": [
    {
     "data": {
      "text/plain": [
       "                     Negative Risk Premium Months  Total Months  \\\n",
       "SPX DVD YLD                                   147           275   \n",
       "SPX_P/E                                       152           275   \n",
       "SPX DVD YLD-SPX P/E                           150           275   \n",
       "All                                           155           275   \n",
       "SPY                                           179           275   \n",
       "TBill 3M                                        0           335   \n",
       "\n",
       "                     Negative Risk Premium Months (%)  \n",
       "SPX DVD YLD                                   53.4545  \n",
       "SPX_P/E                                       55.2727  \n",
       "SPX DVD YLD-SPX P/E                           54.5455  \n",
       "All                                           56.3636  \n",
       "SPY                                           65.0909  \n",
       "TBill 3M                                       0.0000  "
      ],
      "text/html": [
       "<div>\n",
       "<style scoped>\n",
       "    .dataframe tbody tr th:only-of-type {\n",
       "        vertical-align: middle;\n",
       "    }\n",
       "\n",
       "    .dataframe tbody tr th {\n",
       "        vertical-align: top;\n",
       "    }\n",
       "\n",
       "    .dataframe thead th {\n",
       "        text-align: right;\n",
       "    }\n",
       "</style>\n",
       "<table border=\"1\" class=\"dataframe\">\n",
       "  <thead>\n",
       "    <tr style=\"text-align: right;\">\n",
       "      <th></th>\n",
       "      <th>Negative Risk Premium Months</th>\n",
       "      <th>Total Months</th>\n",
       "      <th>Negative Risk Premium Months (%)</th>\n",
       "    </tr>\n",
       "  </thead>\n",
       "  <tbody>\n",
       "    <tr>\n",
       "      <th>SPX DVD YLD</th>\n",
       "      <td>147</td>\n",
       "      <td>275</td>\n",
       "      <td>53.4545</td>\n",
       "    </tr>\n",
       "    <tr>\n",
       "      <th>SPX_P/E</th>\n",
       "      <td>152</td>\n",
       "      <td>275</td>\n",
       "      <td>55.2727</td>\n",
       "    </tr>\n",
       "    <tr>\n",
       "      <th>SPX DVD YLD-SPX P/E</th>\n",
       "      <td>150</td>\n",
       "      <td>275</td>\n",
       "      <td>54.5455</td>\n",
       "    </tr>\n",
       "    <tr>\n",
       "      <th>All</th>\n",
       "      <td>155</td>\n",
       "      <td>275</td>\n",
       "      <td>56.3636</td>\n",
       "    </tr>\n",
       "    <tr>\n",
       "      <th>SPY</th>\n",
       "      <td>179</td>\n",
       "      <td>275</td>\n",
       "      <td>65.0909</td>\n",
       "    </tr>\n",
       "    <tr>\n",
       "      <th>TBill 3M</th>\n",
       "      <td>0</td>\n",
       "      <td>335</td>\n",
       "      <td>0.0000</td>\n",
       "    </tr>\n",
       "  </tbody>\n",
       "</table>\n",
       "</div>"
      ]
     },
     "execution_count": 218,
     "metadata": {},
     "output_type": "execute_result"
    }
   ],
   "execution_count": 218
  }
 ],
 "metadata": {
  "kernelspec": {
   "display_name": "Python 3",
   "language": "python",
   "name": "python3"
  },
  "language_info": {
   "codemirror_mode": {
    "name": "ipython",
    "version": 2
   },
   "file_extension": ".py",
   "mimetype": "text/x-python",
   "name": "python",
   "nbconvert_exporter": "python",
   "pygments_lexer": "ipython2",
   "version": "2.7.6"
  }
 },
 "nbformat": 4,
 "nbformat_minor": 5
}
